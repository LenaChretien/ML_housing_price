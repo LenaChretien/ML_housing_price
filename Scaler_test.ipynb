{
 "cells": [
  {
   "cell_type": "code",
   "execution_count": 11,
   "id": "dd841c9a",
   "metadata": {
    "scrolled": true
   },
   "outputs": [],
   "source": [
    "from clean_data import *"
   ]
  },
  {
   "cell_type": "code",
   "execution_count": 55,
   "id": "b7ea8975",
   "metadata": {},
   "outputs": [
    {
     "data": {
      "text/plain": [
       "Index(['PID', 'GrLivArea', 'SalePrice', 'MSZoning', 'LotFrontage', 'LotArea',\n",
       "       'Street', 'Neighborhood', 'Condition1', 'Condition2', 'BldgType',\n",
       "       'HouseStyle', 'OverallQual', 'OverallCond', 'YearBuilt', 'YearRemodAdd',\n",
       "       'BsmtUnfSF', 'TotalBsmtSF', '1stFlrSF', '2ndFlrSF', 'BedroomAbvGr',\n",
       "       'KitchenQual', 'TotRmsAbvGrd', 'Fireplaces', 'GarageArea', 'MiscVal',\n",
       "       'MoSold', 'YrSold', 'bathrm_cnt', 'patioSF', 'Prop_Addr', 'Full_Adr',\n",
       "       'gcode', 'lat', 'long', 'dist', 'zip', 'tract', 'income', 'FinBsmtSF',\n",
       "       'TotalSF', 'hood_Blmngtn', 'hood_BrDale', 'hood_BrkSide',\n",
       "       'hood_ClearCr', 'hood_CollgCr', 'hood_Crawfor', 'hood_Edwards',\n",
       "       'hood_Gilbert', 'hood_Greens', 'hood_IDOTRR', 'hood_MeadowV',\n",
       "       'hood_Mitchel', 'hood_NPkVill', 'hood_NWAmes', 'hood_NoRidge',\n",
       "       'hood_NridgHt', 'hood_OldTown', 'hood_SWISU', 'hood_Sawyer',\n",
       "       'hood_SawyerW', 'hood_Somerst', 'hood_StoneBr', 'hood_Timber',\n",
       "       'hood_Veenker', 'MSZoning_RH', 'MSZoning_RL', 'MSZoning_RM', 'NearRR',\n",
       "       'NearPos', 'Artery', 'BldgType_2fmCon', 'BldgType_Duplex',\n",
       "       'BldgType_Twnhs', 'BldgType_TwnhsE', 'HouseStyle_1.5Fin',\n",
       "       'HouseStyle_2Story', 'HouseStyle_SFoyer', 'HouseStyle_SLvl'],\n",
       "      dtype='object')"
      ]
     },
     "execution_count": 55,
     "metadata": {},
     "output_type": "execute_result"
    }
   ],
   "source": [
    "train.columns"
   ]
  },
  {
   "cell_type": "code",
   "execution_count": 76,
   "id": "bded2f35",
   "metadata": {},
   "outputs": [
    {
     "data": {
      "text/html": [
       "<div>\n",
       "<style scoped>\n",
       "    .dataframe tbody tr th:only-of-type {\n",
       "        vertical-align: middle;\n",
       "    }\n",
       "\n",
       "    .dataframe tbody tr th {\n",
       "        vertical-align: top;\n",
       "    }\n",
       "\n",
       "    .dataframe thead th {\n",
       "        text-align: right;\n",
       "    }\n",
       "</style>\n",
       "<table border=\"1\" class=\"dataframe\">\n",
       "  <thead>\n",
       "    <tr style=\"text-align: right;\">\n",
       "      <th></th>\n",
       "      <th>PID</th>\n",
       "      <th>GrLivArea</th>\n",
       "      <th>SalePrice</th>\n",
       "      <th>LotFrontage</th>\n",
       "      <th>LotArea</th>\n",
       "      <th>OverallQual</th>\n",
       "      <th>OverallCond</th>\n",
       "      <th>YearBuilt</th>\n",
       "      <th>YearRemodAdd</th>\n",
       "      <th>BsmtUnfSF</th>\n",
       "      <th>...</th>\n",
       "      <th>NearPos</th>\n",
       "      <th>Artery</th>\n",
       "      <th>BldgType_2fmCon</th>\n",
       "      <th>BldgType_Duplex</th>\n",
       "      <th>BldgType_Twnhs</th>\n",
       "      <th>BldgType_TwnhsE</th>\n",
       "      <th>HouseStyle_1.5Fin</th>\n",
       "      <th>HouseStyle_2Story</th>\n",
       "      <th>HouseStyle_SFoyer</th>\n",
       "      <th>HouseStyle_SLvl</th>\n",
       "    </tr>\n",
       "  </thead>\n",
       "  <tbody>\n",
       "    <tr>\n",
       "      <th>count</th>\n",
       "      <td>1.979000e+03</td>\n",
       "      <td>1979.000000</td>\n",
       "      <td>1979.000000</td>\n",
       "      <td>1979.000000</td>\n",
       "      <td>1979.000000</td>\n",
       "      <td>1979.000000</td>\n",
       "      <td>1979.000000</td>\n",
       "      <td>1979.000000</td>\n",
       "      <td>1979.000000</td>\n",
       "      <td>1979.000000</td>\n",
       "      <td>...</td>\n",
       "      <td>1979.000000</td>\n",
       "      <td>1979.000000</td>\n",
       "      <td>1979.000000</td>\n",
       "      <td>1979.000000</td>\n",
       "      <td>1979.000000</td>\n",
       "      <td>1979.000000</td>\n",
       "      <td>1979.000000</td>\n",
       "      <td>1979.000000</td>\n",
       "      <td>1979.000000</td>\n",
       "      <td>1979.000000</td>\n",
       "    </tr>\n",
       "    <tr>\n",
       "      <th>mean</th>\n",
       "      <td>7.065300e+08</td>\n",
       "      <td>1485.597777</td>\n",
       "      <td>178493.457807</td>\n",
       "      <td>68.593229</td>\n",
       "      <td>10081.797372</td>\n",
       "      <td>6.063669</td>\n",
       "      <td>5.609904</td>\n",
       "      <td>1971.133401</td>\n",
       "      <td>1983.854472</td>\n",
       "      <td>545.041435</td>\n",
       "      <td>...</td>\n",
       "      <td>0.020718</td>\n",
       "      <td>0.028297</td>\n",
       "      <td>0.019202</td>\n",
       "      <td>0.032845</td>\n",
       "      <td>0.036887</td>\n",
       "      <td>0.074785</td>\n",
       "      <td>0.113694</td>\n",
       "      <td>0.300657</td>\n",
       "      <td>0.024255</td>\n",
       "      <td>0.052046</td>\n",
       "    </tr>\n",
       "    <tr>\n",
       "      <th>std</th>\n",
       "      <td>1.882388e+08</td>\n",
       "      <td>489.920215</td>\n",
       "      <td>74964.177780</td>\n",
       "      <td>20.500062</td>\n",
       "      <td>7495.331502</td>\n",
       "      <td>1.345700</td>\n",
       "      <td>1.100796</td>\n",
       "      <td>29.037307</td>\n",
       "      <td>20.298955</td>\n",
       "      <td>422.967583</td>\n",
       "      <td>...</td>\n",
       "      <td>0.142473</td>\n",
       "      <td>0.165862</td>\n",
       "      <td>0.137268</td>\n",
       "      <td>0.178275</td>\n",
       "      <td>0.188533</td>\n",
       "      <td>0.263111</td>\n",
       "      <td>0.317519</td>\n",
       "      <td>0.458660</td>\n",
       "      <td>0.153878</td>\n",
       "      <td>0.222177</td>\n",
       "    </tr>\n",
       "    <tr>\n",
       "      <th>min</th>\n",
       "      <td>5.263020e+08</td>\n",
       "      <td>407.000000</td>\n",
       "      <td>12789.000000</td>\n",
       "      <td>21.000000</td>\n",
       "      <td>1470.000000</td>\n",
       "      <td>2.000000</td>\n",
       "      <td>1.000000</td>\n",
       "      <td>1879.000000</td>\n",
       "      <td>1950.000000</td>\n",
       "      <td>0.000000</td>\n",
       "      <td>...</td>\n",
       "      <td>0.000000</td>\n",
       "      <td>0.000000</td>\n",
       "      <td>0.000000</td>\n",
       "      <td>0.000000</td>\n",
       "      <td>0.000000</td>\n",
       "      <td>0.000000</td>\n",
       "      <td>0.000000</td>\n",
       "      <td>0.000000</td>\n",
       "      <td>0.000000</td>\n",
       "      <td>0.000000</td>\n",
       "    </tr>\n",
       "    <tr>\n",
       "      <th>25%</th>\n",
       "      <td>5.284771e+08</td>\n",
       "      <td>1113.500000</td>\n",
       "      <td>130250.000000</td>\n",
       "      <td>60.000000</td>\n",
       "      <td>7420.000000</td>\n",
       "      <td>5.000000</td>\n",
       "      <td>5.000000</td>\n",
       "      <td>1954.000000</td>\n",
       "      <td>1966.000000</td>\n",
       "      <td>222.000000</td>\n",
       "      <td>...</td>\n",
       "      <td>0.000000</td>\n",
       "      <td>0.000000</td>\n",
       "      <td>0.000000</td>\n",
       "      <td>0.000000</td>\n",
       "      <td>0.000000</td>\n",
       "      <td>0.000000</td>\n",
       "      <td>0.000000</td>\n",
       "      <td>0.000000</td>\n",
       "      <td>0.000000</td>\n",
       "      <td>0.000000</td>\n",
       "    </tr>\n",
       "    <tr>\n",
       "      <th>50%</th>\n",
       "      <td>5.354021e+08</td>\n",
       "      <td>1432.000000</td>\n",
       "      <td>160000.000000</td>\n",
       "      <td>68.000000</td>\n",
       "      <td>9375.000000</td>\n",
       "      <td>6.000000</td>\n",
       "      <td>5.000000</td>\n",
       "      <td>1972.000000</td>\n",
       "      <td>1992.000000</td>\n",
       "      <td>455.000000</td>\n",
       "      <td>...</td>\n",
       "      <td>0.000000</td>\n",
       "      <td>0.000000</td>\n",
       "      <td>0.000000</td>\n",
       "      <td>0.000000</td>\n",
       "      <td>0.000000</td>\n",
       "      <td>0.000000</td>\n",
       "      <td>0.000000</td>\n",
       "      <td>0.000000</td>\n",
       "      <td>0.000000</td>\n",
       "      <td>0.000000</td>\n",
       "    </tr>\n",
       "    <tr>\n",
       "      <th>75%</th>\n",
       "      <td>9.071251e+08</td>\n",
       "      <td>1729.500000</td>\n",
       "      <td>209000.000000</td>\n",
       "      <td>78.000000</td>\n",
       "      <td>11435.500000</td>\n",
       "      <td>7.000000</td>\n",
       "      <td>6.000000</td>\n",
       "      <td>1999.000000</td>\n",
       "      <td>2002.500000</td>\n",
       "      <td>792.000000</td>\n",
       "      <td>...</td>\n",
       "      <td>0.000000</td>\n",
       "      <td>0.000000</td>\n",
       "      <td>0.000000</td>\n",
       "      <td>0.000000</td>\n",
       "      <td>0.000000</td>\n",
       "      <td>0.000000</td>\n",
       "      <td>0.000000</td>\n",
       "      <td>1.000000</td>\n",
       "      <td>0.000000</td>\n",
       "      <td>0.000000</td>\n",
       "    </tr>\n",
       "    <tr>\n",
       "      <th>max</th>\n",
       "      <td>9.241520e+08</td>\n",
       "      <td>4676.000000</td>\n",
       "      <td>755000.000000</td>\n",
       "      <td>313.000000</td>\n",
       "      <td>164660.000000</td>\n",
       "      <td>10.000000</td>\n",
       "      <td>9.000000</td>\n",
       "      <td>2010.000000</td>\n",
       "      <td>2010.000000</td>\n",
       "      <td>2062.000000</td>\n",
       "      <td>...</td>\n",
       "      <td>1.000000</td>\n",
       "      <td>1.000000</td>\n",
       "      <td>1.000000</td>\n",
       "      <td>1.000000</td>\n",
       "      <td>1.000000</td>\n",
       "      <td>1.000000</td>\n",
       "      <td>1.000000</td>\n",
       "      <td>1.000000</td>\n",
       "      <td>1.000000</td>\n",
       "      <td>1.000000</td>\n",
       "    </tr>\n",
       "  </tbody>\n",
       "</table>\n",
       "<p>8 rows × 69 columns</p>\n",
       "</div>"
      ],
      "text/plain": [
       "                PID    GrLivArea      SalePrice  LotFrontage        LotArea  \\\n",
       "count  1.979000e+03  1979.000000    1979.000000  1979.000000    1979.000000   \n",
       "mean   7.065300e+08  1485.597777  178493.457807    68.593229   10081.797372   \n",
       "std    1.882388e+08   489.920215   74964.177780    20.500062    7495.331502   \n",
       "min    5.263020e+08   407.000000   12789.000000    21.000000    1470.000000   \n",
       "25%    5.284771e+08  1113.500000  130250.000000    60.000000    7420.000000   \n",
       "50%    5.354021e+08  1432.000000  160000.000000    68.000000    9375.000000   \n",
       "75%    9.071251e+08  1729.500000  209000.000000    78.000000   11435.500000   \n",
       "max    9.241520e+08  4676.000000  755000.000000   313.000000  164660.000000   \n",
       "\n",
       "       OverallQual  OverallCond    YearBuilt  YearRemodAdd    BsmtUnfSF  ...  \\\n",
       "count  1979.000000  1979.000000  1979.000000   1979.000000  1979.000000  ...   \n",
       "mean      6.063669     5.609904  1971.133401   1983.854472   545.041435  ...   \n",
       "std       1.345700     1.100796    29.037307     20.298955   422.967583  ...   \n",
       "min       2.000000     1.000000  1879.000000   1950.000000     0.000000  ...   \n",
       "25%       5.000000     5.000000  1954.000000   1966.000000   222.000000  ...   \n",
       "50%       6.000000     5.000000  1972.000000   1992.000000   455.000000  ...   \n",
       "75%       7.000000     6.000000  1999.000000   2002.500000   792.000000  ...   \n",
       "max      10.000000     9.000000  2010.000000   2010.000000  2062.000000  ...   \n",
       "\n",
       "           NearPos       Artery  BldgType_2fmCon  BldgType_Duplex  \\\n",
       "count  1979.000000  1979.000000      1979.000000      1979.000000   \n",
       "mean      0.020718     0.028297         0.019202         0.032845   \n",
       "std       0.142473     0.165862         0.137268         0.178275   \n",
       "min       0.000000     0.000000         0.000000         0.000000   \n",
       "25%       0.000000     0.000000         0.000000         0.000000   \n",
       "50%       0.000000     0.000000         0.000000         0.000000   \n",
       "75%       0.000000     0.000000         0.000000         0.000000   \n",
       "max       1.000000     1.000000         1.000000         1.000000   \n",
       "\n",
       "       BldgType_Twnhs  BldgType_TwnhsE  HouseStyle_1.5Fin  HouseStyle_2Story  \\\n",
       "count     1979.000000      1979.000000        1979.000000        1979.000000   \n",
       "mean         0.036887         0.074785           0.113694           0.300657   \n",
       "std          0.188533         0.263111           0.317519           0.458660   \n",
       "min          0.000000         0.000000           0.000000           0.000000   \n",
       "25%          0.000000         0.000000           0.000000           0.000000   \n",
       "50%          0.000000         0.000000           0.000000           0.000000   \n",
       "75%          0.000000         0.000000           0.000000           1.000000   \n",
       "max          1.000000         1.000000           1.000000           1.000000   \n",
       "\n",
       "       HouseStyle_SFoyer  HouseStyle_SLvl  \n",
       "count        1979.000000      1979.000000  \n",
       "mean            0.024255         0.052046  \n",
       "std             0.153878         0.222177  \n",
       "min             0.000000         0.000000  \n",
       "25%             0.000000         0.000000  \n",
       "50%             0.000000         0.000000  \n",
       "75%             0.000000         0.000000  \n",
       "max             1.000000         1.000000  \n",
       "\n",
       "[8 rows x 69 columns]"
      ]
     },
     "execution_count": 76,
     "metadata": {},
     "output_type": "execute_result"
    }
   ],
   "source": [
    "train.describe()"
   ]
  },
  {
   "cell_type": "code",
   "execution_count": 78,
   "id": "cbf7dbf8",
   "metadata": {},
   "outputs": [
    {
     "data": {
      "text/plain": [
       "array([[<AxesSubplot:title={'center':'income'}>,\n",
       "        <AxesSubplot:title={'center':'dist'}>]], dtype=object)"
      ]
     },
     "execution_count": 78,
     "metadata": {},
     "output_type": "execute_result"
    },
    {
     "data": {
      "image/png": "[encoded data removed]",
      "text/plain": [
       "<Figure size 1080x504 with 2 Axes>"
      ]
     },
     "metadata": {},
     "output_type": "display_data"
    }
   ],
   "source": [
    "\n",
    "train[['income','dist']].hist(figsize =(15,7), bins = 20)"
   ]
  },
  {
   "cell_type": "code",
   "execution_count": 81,
   "id": "ba807dc0",
   "metadata": {},
   "outputs": [
    {
     "data": {
      "text/plain": [
       "164660"
      ]
     },
     "execution_count": 81,
     "metadata": {},
     "output_type": "execute_result"
    }
   ],
   "source": [
    "# Outlier\n",
    "train.dist.max()\n",
    "train.LotArea.max()"
   ]
  },
  {
   "cell_type": "code",
   "execution_count": 82,
   "id": "6aa199b0",
   "metadata": {},
   "outputs": [],
   "source": [
    "from sklearn.preprocessing import MinMaxScaler\n",
    "\n",
    "def scaler(var):\n",
    "    scaler = MinMaxScaler()\n",
    "    return scaler.fit_transform(var)\n",
    "    "
   ]
  },
  {
   "cell_type": "code",
   "execution_count": 83,
   "id": "692871f2",
   "metadata": {},
   "outputs": [],
   "source": [
    "ss = scaler(train[['GrLivArea']])\n",
    "\n",
    "\n",
    "#1000 range ['YearRemodAdd','GrLivArea', 'Basement areas']\n"
   ]
  },
  {
   "cell_type": "code",
   "execution_count": 72,
   "id": "36a82d71",
   "metadata": {},
   "outputs": [],
   "source": [
    "#lst = []\n",
    "#def magnitude(var):\n",
    "#    if type(var) != str:\n",
    "#        max_ = len(str(var.max()))\n",
    "#        min_ = len(str(var.min()))\n",
    "        \n",
    "#        return lst.append([var.columns,max_,min_])\n",
    "        \n"
   ]
  },
  {
   "cell_type": "code",
   "execution_count": 84,
   "id": "d3838740",
   "metadata": {},
   "outputs": [],
   "source": [
    "#lst = train.apply(lambda x: magnitude(x), axis=0)"
   ]
  },
  {
   "cell_type": "code",
   "execution_count": 50,
   "id": "a4e3a719",
   "metadata": {},
   "outputs": [
    {
     "data": {
      "text/plain": [
       "array([[<AxesSubplot:title={'center':'0'}>]], dtype=object)"
      ]
     },
     "execution_count": 50,
     "metadata": {},
     "output_type": "execute_result"
    },
    {
     "data": {
      "image/png": "[encoded data removed]",
      "text/plain": [
       "<Figure size 432x288 with 1 Axes>"
      ]
     },
     "metadata": {},
     "output_type": "display_data"
    }
   ],
   "source": [
    "ss = pd.DataFrame(ss)\n",
    "ss.hist(bins =20)\n",
    "#train.GrLivArea.hist(bins = 20)"
   ]
  },
  {
   "cell_type": "code",
   "execution_count": 51,
   "id": "d9569080",
   "metadata": {},
   "outputs": [
    {
     "data": {
      "text/plain": [
       "<AxesSubplot:>"
      ]
     },
     "execution_count": 51,
     "metadata": {},
     "output_type": "execute_result"
    },
    {
     "data": {
      "image/png": "[encoded data removed]",
      "text/plain": [
       "<Figure size 432x288 with 1 Axes>"
      ]
     },
     "metadata": {},
     "output_type": "display_data"
    }
   ],
   "source": [
    "train.GrLivArea.hist(bins = 20)"
   ]
  },
  {
   "cell_type": "code",
   "execution_count": null,
   "id": "5056716e",
   "metadata": {},
   "outputs": [],
   "source": []
  }
 ],
 "metadata": {
  "kernelspec": {
   "display_name": "Python 3",
   "language": "python",
   "name": "python3"
  },
  "language_info": {
   "codemirror_mode": {
    "name": "ipython",
    "version": 3
   },
   "file_extension": ".py",
   "mimetype": "text/x-python",
   "name": "python",
   "nbconvert_exporter": "python",
   "pygments_lexer": "ipython3",
   "version": "3.8.8"
  }
 },
 "nbformat": 4,
 "nbformat_minor": 5
}
