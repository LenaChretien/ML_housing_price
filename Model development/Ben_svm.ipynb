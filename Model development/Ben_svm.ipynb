{
 "cells": [
  {
   "cell_type": "code",
   "execution_count": 48,
   "id": "ccbcd535",
   "metadata": {
    "scrolled": false
   },
   "outputs": [],
   "source": [
    "from clean_data import *"
   ]
  },
  {
   "cell_type": "code",
   "execution_count": 49,
   "id": "7be05b53",
   "metadata": {},
   "outputs": [],
   "source": [
    "import seaborn as sns\n",
    "from sklearn.metrics import r2_score\n",
    "from sklearn.metrics import mean_squared_error\n",
    "from sklearn.linear_model import LinearRegression\n",
    "import statsmodels.api as sm\n",
    "from sklearn.tree import DecisionTreeRegressor\n",
    "from sklearn.model_selection import cross_val_score, cross_validate\n",
    "from sklearn.model_selection import GridSearchCV, RandomizedSearchCV\n",
    "from sklearn.ensemble import RandomForestRegressor\n",
    "import numpy as np\n",
    "from sklearn.svm import SVC, SVR\n",
    "from sklearn.preprocessing import StandardScaler\n",
    "from sklearn.model_selection import train_test_split"
   ]
  },
  {
   "cell_type": "code",
   "execution_count": 50,
   "id": "c7ee774f",
   "metadata": {},
   "outputs": [
    {
     "data": {
      "text/plain": [
       "Index(['LotFrontage', 'LotArea', 'OverallQual', 'OverallCond', 'YearRemodAdd',\n",
       "       'KitchenQual', 'Fireplaces', 'GarageArea', 'MiscVal', 'bathrm_cnt',\n",
       "       'patioSF', 'dist', 'income', 'hood_Blmngtn', 'hood_BrDale',\n",
       "       'hood_BrkSide', 'hood_ClearCr', 'hood_CollgCr', 'hood_Crawfor',\n",
       "       'hood_Edwards', 'hood_Gilbert', 'hood_Greens', 'hood_IDOTRR',\n",
       "       'hood_MeadowV', 'hood_Mitchel', 'hood_NPkVill', 'hood_NWAmes',\n",
       "       'hood_NoRidge', 'hood_NridgHt', 'hood_OldTown', 'hood_SWISU',\n",
       "       'hood_Sawyer', 'hood_SawyerW', 'hood_Somerst', 'hood_StoneBr',\n",
       "       'hood_Timber', 'hood_Veenker', 'MSZoning_RH', 'MSZoning_RL',\n",
       "       'MSZoning_RM', 'NearRR', 'NearPos', 'Artery', 'BldgType_2fmCon',\n",
       "       'BldgType_Duplex', 'BldgType_Twnhs', 'BldgType_TwnhsE',\n",
       "       'HouseStyle_1.5Fin', 'HouseStyle_2Story', 'HouseStyle_SFoyer',\n",
       "       'HouseStyle_SLvl', 'Bsmt_ratio', 'Bedr_ratio', 'TotalBsmtSF',\n",
       "       'bsmt_above_ratio'],\n",
       "      dtype='object')"
      ]
     },
     "execution_count": 50,
     "metadata": {},
     "output_type": "execute_result"
    }
   ],
   "source": [
    "X1.columns"
   ]
  },
  {
   "cell_type": "code",
   "execution_count": 51,
   "id": "ded1aa84",
   "metadata": {
    "scrolled": true
   },
   "outputs": [],
   "source": [
    "X1, X_test, Y, Y_test = train_test_split(X1, Y, test_size = 0.3)"
   ]
  },
  {
   "cell_type": "code",
   "execution_count": 52,
   "id": "1a8dcd48",
   "metadata": {},
   "outputs": [],
   "source": [
    "scaler = StandardScaler().fit(X1)\n",
    "features = scaler.transform(X1)\n",
    "X1_std = pd.DataFrame(features, columns = X1.columns)"
   ]
  },
  {
   "cell_type": "code",
   "execution_count": 53,
   "id": "ee980e4f",
   "metadata": {
    "scrolled": true
   },
   "outputs": [],
   "source": [
    "svm_model = SVR()\n",
    "test = svm_model.fit(X1_std, Y)"
   ]
  },
  {
   "cell_type": "code",
   "execution_count": 54,
   "id": "85dd0fe2",
   "metadata": {
    "scrolled": false
   },
   "outputs": [
    {
     "data": {
      "text/plain": [
       "0.5102606238230014"
      ]
     },
     "execution_count": 54,
     "metadata": {},
     "output_type": "execute_result"
    }
   ],
   "source": [
    "svm_model.score(X1_std, Y)"
   ]
  },
  {
   "cell_type": "code",
   "execution_count": 55,
   "id": "3c6bfe50",
   "metadata": {},
   "outputs": [
    {
     "data": {
      "text/plain": [
       "{'C': 1.0,\n",
       " 'cache_size': 200,\n",
       " 'coef0': 0.0,\n",
       " 'degree': 3,\n",
       " 'epsilon': 0.1,\n",
       " 'gamma': 'scale',\n",
       " 'kernel': 'rbf',\n",
       " 'max_iter': -1,\n",
       " 'shrinking': True,\n",
       " 'tol': 0.001,\n",
       " 'verbose': False}"
      ]
     },
     "execution_count": 55,
     "metadata": {},
     "output_type": "execute_result"
    }
   ],
   "source": [
    "test.get_params()"
   ]
  },
  {
   "cell_type": "code",
   "execution_count": 56,
   "id": "0780aab8",
   "metadata": {},
   "outputs": [
    {
     "data": {
      "text/plain": [
       "RandomizedSearchCV(cv=5, estimator=SVR(), n_iter=15, n_jobs=-1,\n",
       "                   param_distributions={'C': array([  1.        ,   6.21052632,  11.42105263,  16.63157895,\n",
       "        21.84210526,  27.05263158,  32.26315789,  37.47368421,\n",
       "        42.68421053,  47.89473684,  53.10526316,  58.31578947,\n",
       "        63.52631579,  68.73684211,  73.94736842,  79.15789474,\n",
       "        84.36842105,  89.57894737,  94.78947368, 100.        ]),\n",
       "                                        'gamma': ['auto', 'scale'],\n",
       "                                        'kernel': ['poly', 'linear', 'rbf']})"
      ]
     },
     "execution_count": 56,
     "metadata": {},
     "output_type": "execute_result"
    }
   ],
   "source": [
    "params = {'C':np.linspace(1,100,20), 'gamma': ['auto', 'scale'], \n",
    "          'kernel': ['poly', 'linear', 'rbf']}\n",
    "rand = RandomizedSearchCV(svm_model, params, n_iter = 15, cv = 5, n_jobs = -1)\n",
    "rand.fit(X1_std, Y)"
   ]
  },
  {
   "cell_type": "code",
   "execution_count": 57,
   "id": "e7e19453",
   "metadata": {
    "scrolled": true
   },
   "outputs": [
    {
     "data": {
      "text/plain": [
       "0.8757517573590359"
      ]
     },
     "execution_count": 57,
     "metadata": {},
     "output_type": "execute_result"
    }
   ],
   "source": [
    "rand.score(X1_std, Y)"
   ]
  },
  {
   "cell_type": "code",
   "execution_count": 58,
   "id": "5b38252f",
   "metadata": {},
   "outputs": [
    {
     "data": {
      "text/plain": [
       "{'kernel': 'rbf', 'gamma': 'scale', 'C': 27.052631578947366}"
      ]
     },
     "execution_count": 58,
     "metadata": {},
     "output_type": "execute_result"
    }
   ],
   "source": [
    "rand.best_params_"
   ]
  },
  {
   "cell_type": "code",
   "execution_count": 59,
   "id": "031c4b85",
   "metadata": {
    "scrolled": true
   },
   "outputs": [
    {
     "name": "stdout",
     "output_type": "stream",
     "text": [
      "5.2138365493642285\n"
     ]
    }
   ],
   "source": [
    "predictions = rand.predict(X1_std)\n",
    "print(np.sqrt(mean_squared_error(predictions, Y)))"
   ]
  },
  {
   "cell_type": "code",
   "execution_count": 60,
   "id": "dda8b063",
   "metadata": {},
   "outputs": [],
   "source": [
    "features = scaler.transform(X_test)\n",
    "X_test = pd.DataFrame(features, columns = X1_std.columns)"
   ]
  },
  {
   "cell_type": "code",
   "execution_count": 61,
   "id": "516ac5d3",
   "metadata": {},
   "outputs": [
    {
     "name": "stdout",
     "output_type": "stream",
     "text": [
      "7.979269933767032\n"
     ]
    },
    {
     "data": {
      "text/plain": [
       "0.7032858173000318"
      ]
     },
     "execution_count": 61,
     "metadata": {},
     "output_type": "execute_result"
    }
   ],
   "source": [
    "predictions = rand.predict(X_test)\n",
    "print(np.sqrt(mean_squared_error(predictions, Y_test)))\n",
    "rand.score(X_test, Y_test)"
   ]
  },
  {
   "cell_type": "code",
   "execution_count": 62,
   "id": "5e52fa22",
   "metadata": {},
   "outputs": [
    {
     "data": {
      "text/plain": [
       "GridSearchCV(cv=3, estimator=SVR(),\n",
       "             param_grid={'C': array([  1.        ,   6.21052632,  11.42105263,  16.63157895,\n",
       "        21.84210526,  27.05263158,  32.26315789,  37.47368421,\n",
       "        42.68421053,  47.89473684,  53.10526316,  58.31578947,\n",
       "        63.52631579,  68.73684211,  73.94736842,  79.15789474,\n",
       "        84.36842105,  89.57894737,  94.78947368, 100.        ]),\n",
       "                         'gamma': array([0.0001, 0.0012, 0.0023, 0.0034, 0.0045, 0.0056, 0.0067, 0.0078,\n",
       "       0.0089, 0.01  ]),\n",
       "                         'kernel': ['rbf', 'poly', 'linear']},\n",
       "             return_train_score=True)"
      ]
     },
     "execution_count": 62,
     "metadata": {},
     "output_type": "execute_result"
    }
   ],
   "source": [
    "paramDict = {'C':np.linspace(1,100,20), 'gamma':np.linspace(1e-4, 1e-2, 10), 'kernel':['rbf', 'poly', 'linear']}\n",
    "grid = GridSearchCV(svm_model, paramDict, cv=3, return_train_score = True)\n",
    "grid.fit(X1_std, Y)"
   ]
  },
  {
   "cell_type": "code",
   "execution_count": 63,
   "id": "6375fdd8",
   "metadata": {},
   "outputs": [
    {
     "data": {
      "text/plain": [
       "{'C': 100.0, 'gamma': 0.0034, 'kernel': 'rbf'}"
      ]
     },
     "execution_count": 63,
     "metadata": {},
     "output_type": "execute_result"
    }
   ],
   "source": [
    "grid.best_params_"
   ]
  },
  {
   "cell_type": "code",
   "execution_count": 64,
   "id": "dc5dd0c5",
   "metadata": {},
   "outputs": [
    {
     "name": "stdout",
     "output_type": "stream",
     "text": [
      "0.731032216016474\n"
     ]
    },
    {
     "data": {
      "text/plain": [
       "6.214219729782248"
      ]
     },
     "execution_count": 64,
     "metadata": {},
     "output_type": "execute_result"
    }
   ],
   "source": [
    "print(grid.best_score_)\n",
    "predictions = grid.predict(X1_std)\n",
    "np.sqrt(mean_squared_error(predictions, Y))"
   ]
  },
  {
   "cell_type": "code",
   "execution_count": 65,
   "id": "67a4618a",
   "metadata": {},
   "outputs": [
    {
     "name": "stdout",
     "output_type": "stream",
     "text": [
      "0.7369316767443672\n"
     ]
    },
    {
     "data": {
      "text/plain": [
       "7.513257658358812"
      ]
     },
     "execution_count": 65,
     "metadata": {},
     "output_type": "execute_result"
    }
   ],
   "source": [
    "print(grid.score(X_test, Y_test))\n",
    "predictions2 = grid.predict(X_test)\n",
    "np.sqrt(mean_squared_error(predictions2, Y_test))"
   ]
  },
  {
   "cell_type": "code",
   "execution_count": 66,
   "id": "d26dba78",
   "metadata": {},
   "outputs": [
    {
     "ename": "AttributeError",
     "evalue": "'SVR' object has no attribute 'feature_importances_'",
     "output_type": "error",
     "traceback": [
      "\u001b[0;31m---------------------------------------------------------------------------\u001b[0m",
      "\u001b[0;31mAttributeError\u001b[0m                            Traceback (most recent call last)",
      "\u001b[0;32m<ipython-input-66-7a79af8fef9e>\u001b[0m in \u001b[0;36m<module>\u001b[0;34m\u001b[0m\n\u001b[0;32m----> 1\u001b[0;31m \u001b[0mgrid\u001b[0m\u001b[0;34m.\u001b[0m\u001b[0mbest_estimator_\u001b[0m\u001b[0;34m.\u001b[0m\u001b[0mfeature_importances_\u001b[0m\u001b[0;34m\u001b[0m\u001b[0;34m\u001b[0m\u001b[0m\n\u001b[0m",
      "\u001b[0;31mAttributeError\u001b[0m: 'SVR' object has no attribute 'feature_importances_'"
     ]
    }
   ],
   "source": [
    "grid.best_estimator_.feature_importances_"
   ]
  },
  {
   "cell_type": "code",
   "execution_count": null,
   "id": "6dce8ed0",
   "metadata": {},
   "outputs": [],
   "source": []
  }
 ],
 "metadata": {
  "kernelspec": {
   "display_name": "Python 3",
   "language": "python",
   "name": "python3"
  },
  "language_info": {
   "codemirror_mode": {
    "name": "ipython",
    "version": 3
   },
   "file_extension": ".py",
   "mimetype": "text/x-python",
   "name": "python",
   "nbconvert_exporter": "python",
   "pygments_lexer": "ipython3",
   "version": "3.8.8"
  }
 },
 "nbformat": 4,
 "nbformat_minor": 5
}
