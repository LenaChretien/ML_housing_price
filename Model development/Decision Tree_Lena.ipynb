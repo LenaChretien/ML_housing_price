{
 "cells": [
  {
   "cell_type": "markdown",
   "id": "fe00dbf2",
   "metadata": {},
   "source": [
    "# Decision Tree "
   ]
  },
  {
   "cell_type": "code",
   "execution_count": 87,
   "id": "4802b2d5",
   "metadata": {},
   "outputs": [],
   "source": [
    "import numpy as np\n",
    "import pandas as pd\n",
    "from matplotlib import pyplot as plt\n",
    "from scipy.stats import norm, skew, probplot\n",
    "import seaborn as sns\n",
    "from sklearn.metrics import r2_score\n",
    "from sklearn.metrics import mean_squared_error\n",
    "from sklearn.linear_model import LinearRegression\n",
    "import statsmodels.api as sm\n",
    "from sklearn.tree import DecisionTreeRegressor\n",
    "from sklearn.model_selection import cross_val_score, cross_validate\n",
    "from sklearn.model_selection import GridSearchCV\n"
   ]
  },
  {
   "cell_type": "code",
   "execution_count": 88,
   "id": "5d271753",
   "metadata": {
    "scrolled": true
   },
   "outputs": [],
   "source": [
    "from clean_data import *"
   ]
  },
  {
   "cell_type": "code",
   "execution_count": 89,
   "id": "c4416636",
   "metadata": {},
   "outputs": [],
   "source": [
    "tree_reg = DecisionTreeRegressor()\n",
    "tree = tree_reg.fit(X1, Y)"
   ]
  },
  {
   "cell_type": "code",
   "execution_count": 90,
   "id": "a8f894a4",
   "metadata": {},
   "outputs": [
    {
     "name": "stdout",
     "output_type": "stream",
     "text": [
      "0.0\n",
      "1.0\n"
     ]
    }
   ],
   "source": [
    "Y_pred = tree_reg.predict(X1)\n",
    "\n",
    "RMSE = np.sqrt(mean_squared_error(Y,Y_pred))\n",
    "print(RMSE)\n",
    "R2 = tree_reg.score(X1,Y)\n",
    "print(R2)"
   ]
  },
  {
   "cell_type": "markdown",
   "id": "3e7d9e80",
   "metadata": {},
   "source": [
    "- Obviously this does not make a lot of sense since we just extremely overfitted our training data by not restricting the Decision Tree"
   ]
  },
  {
   "cell_type": "markdown",
   "id": "53cc4e6c",
   "metadata": {},
   "source": [
    "### Try a crossvalidation "
   ]
  },
  {
   "cell_type": "code",
   "execution_count": 91,
   "id": "ff9e5547",
   "metadata": {},
   "outputs": [
    {
     "data": {
      "text/plain": [
       "{'fit_time': array([0.03857064, 0.03140903, 0.02549076, 0.02503181, 0.02785468,\n",
       "        0.10432005, 0.02499509, 0.02508068, 0.02479625, 0.024786  ,\n",
       "        0.02525687, 0.02722597, 0.03211498, 0.03443813, 0.03135395,\n",
       "        0.02676892, 0.02446198, 0.02449894, 0.02495193, 0.02453113]),\n",
       " 'score_time': array([0.00485396, 0.00278497, 0.00262809, 0.00278497, 0.00332737,\n",
       "        0.00251818, 0.00247765, 0.00242114, 0.00242901, 0.00251913,\n",
       "        0.00268507, 0.00253201, 0.00363612, 0.00465178, 0.00493503,\n",
       "        0.00270391, 0.00234294, 0.0023191 , 0.00238705, 0.00255919]),\n",
       " 'test_r2': array([0.32175351, 0.49200578, 0.27699769, 0.48447761, 0.48772857,\n",
       "        0.5059318 , 0.37076304, 0.22344322, 0.37997346, 0.46735688,\n",
       "        0.26305996, 0.17547023, 0.50022331, 0.43789462, 0.29616092,\n",
       "        0.01091559, 0.37123098, 0.31111048, 0.36926235, 0.47013149]),\n",
       " 'test_neg_mean_squared_error': array([-134.71932076, -122.10376435, -173.13433992, -113.13126326,\n",
       "        -133.79801853, -102.9108567 , -164.78662489, -223.56228653,\n",
       "        -111.2918966 , -123.16626271, -147.31597389, -136.53949233,\n",
       "         -98.16471895, -122.68710093, -139.92318309, -179.86209399,\n",
       "        -127.54494874, -119.05412495, -120.4293249 , -144.05886643])}"
      ]
     },
     "execution_count": 91,
     "metadata": {},
     "output_type": "execute_result"
    }
   ],
   "source": [
    "scores = cross_validate(tree_reg, X1, Y, cv = 20, scoring = ('r2','neg_mean_squared_error'))\n",
    "scores"
   ]
  },
  {
   "cell_type": "code",
   "execution_count": 92,
   "id": "50b9c40e",
   "metadata": {},
   "outputs": [
    {
     "name": "stdout",
     "output_type": "stream",
     "text": [
      "Mean R^2:  0.3607945742066839\n",
      "Mean RMSE:  11.64137048047734\n",
      "Mean price/SF is:  70.479999108507\n"
     ]
    },
    {
     "data": {
      "text/plain": [
       "16.51726820052161"
      ]
     },
     "execution_count": 92,
     "metadata": {},
     "output_type": "execute_result"
    }
   ],
   "source": [
    "print('Mean R^2: ', scores['test_r2'].mean())\n",
    "print('Mean RMSE: ', np.sqrt(-scores['test_neg_mean_squared_error']).mean())\n",
    "\n",
    "\n",
    "print('Mean price/SF is: ', Y.mean())\n",
    "(np.sqrt(-scores['test_neg_mean_squared_error']).mean()/Y.mean())*100"
   ]
  },
  {
   "cell_type": "markdown",
   "id": "be3996b2",
   "metadata": {},
   "source": [
    "- The mean R squared is only 0.37 and the RMSE is 11.6 Dollars when the mean price per SF is 70.47 dollars"
   ]
  },
  {
   "cell_type": "markdown",
   "id": "e917f4ca",
   "metadata": {},
   "source": [
    "## Try something similar with GridSearch"
   ]
  },
  {
   "cell_type": "code",
   "execution_count": 93,
   "id": "f943851b",
   "metadata": {
    "scrolled": true
   },
   "outputs": [
    {
     "data": {
      "text/plain": [
       "GridSearchCV(cv=10, estimator=DecisionTreeRegressor(), n_jobs=-1,\n",
       "             param_grid=[{'max_depth': range(1, 10),\n",
       "                          'max_features': ['auto', 'sqrt', 'log2'],\n",
       "                          'min_samples_leaf': range(1, 10),\n",
       "                          'min_samples_split': array([ 2,  4,  6,  8, 10, 12, 14, 16, 18, 20, 22, 24, 26, 28, 30]),\n",
       "                          'splitter': ['best', 'random']}],\n",
       "             scoring='neg_mean_squared_error')"
      ]
     },
     "execution_count": 93,
     "metadata": {},
     "output_type": "execute_result"
    }
   ],
   "source": [
    "from sklearn.model_selection import GridSearchCV\n",
    "grid_para_tree = [{\n",
    "    \"splitter\":[\"best\",\"random\"],\n",
    "    \"min_samples_leaf\": range(1,10),\n",
    "    \"min_samples_split\": np.linspace(start=2, stop=30, num=15, dtype=int),\n",
    "    \"max_depth\": range(1,10),\n",
    "    \"max_features\" : [\"auto\", \"sqrt\", \"log2\"],\n",
    "}]\n",
    "tree_reg.set_params(random_state = None)\n",
    "grid_search_tree = GridSearchCV(tree_reg, grid_para_tree, \n",
    "                                cv = 10, \n",
    "                                scoring='neg_mean_squared_error',\n",
    "                                n_jobs=-1)\n",
    "\n",
    "grid_search_tree.fit(X1, Y)"
   ]
  },
  {
   "cell_type": "code",
   "execution_count": 94,
   "id": "5cd46186",
   "metadata": {},
   "outputs": [
    {
     "name": "stdout",
     "output_type": "stream",
     "text": [
      "DecisionTreeRegressor(max_depth=8, max_features='auto', min_samples_leaf=9,\n",
      "                      min_samples_split=6)\n",
      "0.7209391276100383\n"
     ]
    }
   ],
   "source": [
    "print(grid_search_tree.best_estimator_)\n",
    "print(grid_search_tree.best_estimator_.score(X1,Y))\n"
   ]
  },
  {
   "cell_type": "code",
   "execution_count": 95,
   "id": "32407894",
   "metadata": {},
   "outputs": [
    {
     "data": {
      "text/plain": [
       "9.514266883906059"
      ]
     },
     "execution_count": 95,
     "metadata": {},
     "output_type": "execute_result"
    }
   ],
   "source": [
    "mse = grid_search_tree.best_score_\n",
    "rmse = np.sqrt(-mse)\n",
    "rmse"
   ]
  },
  {
   "cell_type": "markdown",
   "id": "8c471206",
   "metadata": {},
   "source": [
    "- This is not bad. 0.72 R2 and an RMSE of 9.514 dollars"
   ]
  },
  {
   "cell_type": "code",
   "execution_count": 96,
   "id": "c18e6e8e",
   "metadata": {
    "scrolled": true
   },
   "outputs": [
    {
     "name": "stdout",
     "output_type": "stream",
     "text": [
      "Variable: OverallQual          Importance: 0.40306\n",
      "Variable: TotalBsmtSF          Importance: 0.1588\n",
      "Variable: OverallCond          Importance: 0.09249\n",
      "Variable: Bsmt_ratio           Importance: 0.09201\n",
      "Variable: YearRemodAdd         Importance: 0.07114\n",
      "Variable: GarageArea           Importance: 0.03816\n",
      "Variable: MSZoning_RM          Importance: 0.03028\n",
      "Variable: bsmt_above_ratio     Importance: 0.02863\n",
      "Variable: BldgType_Duplex      Importance: 0.0282\n",
      "Variable: HouseStyle_2Story    Importance: 0.01076\n",
      "Variable: KitchenQual          Importance: 0.00884\n",
      "Variable: patioSF              Importance: 0.00772\n",
      "Variable: income               Importance: 0.00551\n",
      "Variable: dist                 Importance: 0.0054\n",
      "Variable: LotArea              Importance: 0.00524\n",
      "Variable: Artery               Importance: 0.00517\n",
      "Variable: Bedr_ratio           Importance: 0.00461\n",
      "Variable: MSZoning_RL          Importance: 0.00274\n",
      "Variable: bathrm_cnt           Importance: 0.00123\n",
      "Variable: LotFrontage          Importance: 0.0\n",
      "Variable: Fireplaces           Importance: 0.0\n",
      "Variable: MiscVal              Importance: 0.0\n",
      "Variable: hood_Blmngtn         Importance: 0.0\n",
      "Variable: hood_BrDale          Importance: 0.0\n",
      "Variable: hood_BrkSide         Importance: 0.0\n",
      "Variable: hood_ClearCr         Importance: 0.0\n",
      "Variable: hood_CollgCr         Importance: 0.0\n",
      "Variable: hood_Crawfor         Importance: 0.0\n",
      "Variable: hood_Edwards         Importance: 0.0\n",
      "Variable: hood_Gilbert         Importance: 0.0\n",
      "Variable: hood_Greens          Importance: 0.0\n",
      "Variable: hood_IDOTRR          Importance: 0.0\n",
      "Variable: hood_MeadowV         Importance: 0.0\n",
      "Variable: hood_Mitchel         Importance: 0.0\n",
      "Variable: hood_NPkVill         Importance: 0.0\n",
      "Variable: hood_NWAmes          Importance: 0.0\n",
      "Variable: hood_NoRidge         Importance: 0.0\n",
      "Variable: hood_NridgHt         Importance: 0.0\n",
      "Variable: hood_OldTown         Importance: 0.0\n",
      "Variable: hood_SWISU           Importance: 0.0\n",
      "Variable: hood_Sawyer          Importance: 0.0\n",
      "Variable: hood_SawyerW         Importance: 0.0\n",
      "Variable: hood_Somerst         Importance: 0.0\n",
      "Variable: hood_StoneBr         Importance: 0.0\n",
      "Variable: hood_Timber          Importance: 0.0\n",
      "Variable: hood_Veenker         Importance: 0.0\n",
      "Variable: MSZoning_RH          Importance: 0.0\n",
      "Variable: NearRR               Importance: 0.0\n",
      "Variable: NearPos              Importance: 0.0\n",
      "Variable: BldgType_2fmCon      Importance: 0.0\n",
      "Variable: BldgType_Twnhs       Importance: 0.0\n",
      "Variable: BldgType_TwnhsE      Importance: 0.0\n",
      "Variable: HouseStyle_1.5Fin    Importance: 0.0\n",
      "Variable: HouseStyle_SFoyer    Importance: 0.0\n",
      "Variable: HouseStyle_SLvl      Importance: 0.0\n"
     ]
    },
    {
     "data": {
      "text/plain": [
       "[None,\n",
       " None,\n",
       " None,\n",
       " None,\n",
       " None,\n",
       " None,\n",
       " None,\n",
       " None,\n",
       " None,\n",
       " None,\n",
       " None,\n",
       " None,\n",
       " None,\n",
       " None,\n",
       " None,\n",
       " None,\n",
       " None,\n",
       " None,\n",
       " None,\n",
       " None,\n",
       " None,\n",
       " None,\n",
       " None,\n",
       " None,\n",
       " None,\n",
       " None,\n",
       " None,\n",
       " None,\n",
       " None,\n",
       " None,\n",
       " None,\n",
       " None,\n",
       " None,\n",
       " None,\n",
       " None,\n",
       " None,\n",
       " None,\n",
       " None,\n",
       " None,\n",
       " None,\n",
       " None,\n",
       " None,\n",
       " None,\n",
       " None,\n",
       " None,\n",
       " None,\n",
       " None,\n",
       " None,\n",
       " None,\n",
       " None,\n",
       " None,\n",
       " None,\n",
       " None,\n",
       " None,\n",
       " None]"
      ]
     },
     "execution_count": 96,
     "metadata": {},
     "output_type": "execute_result"
    }
   ],
   "source": [
    "grid_search_tree.best_params_\n",
    "feature_list = list(X1.columns) # Saving feature names for later use\n",
    "# Get numerical feature importances\n",
    "importances = list(grid_search_tree.best_estimator_.feature_importances_)\n",
    "\n",
    "## List of tuples with variable and importance\n",
    "feature_importances = [(feature, round(importance, 5)) for feature, importance in zip(feature_list, importances)]\n",
    "\n",
    "## Sort the feature importances by most important first\n",
    "feature_importances = sorted(feature_importances, key = lambda x: x[1], reverse = True)\n",
    "\n",
    "## Print out the feature and importances \n",
    "[print('Variable: {:20} Importance: {}'.format(*pair)) for pair in feature_importances]"
   ]
  },
  {
   "cell_type": "code",
   "execution_count": null,
   "id": "ee16469c",
   "metadata": {},
   "outputs": [],
   "source": []
  },
  {
   "cell_type": "code",
   "execution_count": 25,
   "id": "0b0ec494",
   "metadata": {},
   "outputs": [],
   "source": [
    "# RETURNS a DATA FRAME BUT DOES NOT FIT BEST ESTIMATE BACK TO DATA. \n",
    "# CANT BE RUN WITH refit = True because there are two scoring methods, and it does not know which one to use.\n",
    "Results = pd.DataFrame(grid_search_tree.cv_results_)"
   ]
  },
  {
   "cell_type": "code",
   "execution_count": 28,
   "id": "b1572c55",
   "metadata": {
    "scrolled": true
   },
   "outputs": [
    {
     "data": {
      "text/plain": [
       "Index(['mean_fit_time', 'std_fit_time', 'mean_score_time', 'std_score_time',\n",
       "       'param_max_depth', 'param_max_features', 'param_min_samples_leaf',\n",
       "       'param_min_samples_split', 'params', 'split0_test_score',\n",
       "       'split1_test_score', 'split2_test_score', 'split3_test_score',\n",
       "       'split4_test_score', 'split5_test_score', 'split6_test_score',\n",
       "       'split7_test_score', 'split8_test_score', 'split9_test_score',\n",
       "       'mean_test_score', 'std_test_score', 'rank_test_score'],\n",
       "      dtype='object')"
      ]
     },
     "execution_count": 28,
     "metadata": {},
     "output_type": "execute_result"
    }
   ],
   "source": [
    "Results.columns"
   ]
  },
  {
   "cell_type": "markdown",
   "id": "ef0d1289",
   "metadata": {},
   "source": [
    "## Fit model again with the best parameters. "
   ]
  },
  {
   "cell_type": "code",
   "execution_count": 97,
   "id": "17c11502",
   "metadata": {},
   "outputs": [
    {
     "data": {
      "text/plain": [
       "DecisionTreeRegressor(max_depth=8, max_features='auto', min_samples_leaf=9,\n",
       "                      min_samples_split=6)"
      ]
     },
     "execution_count": 97,
     "metadata": {},
     "output_type": "execute_result"
    }
   ],
   "source": [
    "grid_search_tree.best_estimator_"
   ]
  },
  {
   "cell_type": "code",
   "execution_count": 98,
   "id": "3922196e",
   "metadata": {},
   "outputs": [],
   "source": [
    "tree_reg = DecisionTreeRegressor()\n",
    "tree_reg.set_params(max_depth=8, max_features='auto', min_samples_leaf=9,\n",
    "                      min_samples_split=4)\n",
    "tree = tree_reg.fit(X1, Y)\n",
    "\n"
   ]
  },
  {
   "cell_type": "code",
   "execution_count": 99,
   "id": "1e9f3818",
   "metadata": {},
   "outputs": [
    {
     "name": "stdout",
     "output_type": "stream",
     "text": [
      "7.800554947347207\n",
      "0.7209391276100383\n"
     ]
    }
   ],
   "source": [
    "Y_pred = tree_reg.predict(X1)\n",
    "\n",
    "RMSE = np.sqrt(mean_squared_error(Y,Y_pred))\n",
    "print(RMSE)\n",
    "R2 = tree_reg.score(X1,Y)\n",
    "print(R2)"
   ]
  },
  {
   "cell_type": "code",
   "execution_count": 100,
   "id": "fe756c50",
   "metadata": {},
   "outputs": [
    {
     "name": "stdout",
     "output_type": "stream",
     "text": [
      "Variable: OverallQual          Importance: 0.40306\n",
      "Variable: TotalBsmtSF          Importance: 0.15456\n",
      "Variable: OverallCond          Importance: 0.09249\n",
      "Variable: Bsmt_ratio           Importance: 0.09201\n",
      "Variable: YearRemodAdd         Importance: 0.07114\n",
      "Variable: GarageArea           Importance: 0.03816\n",
      "Variable: bsmt_above_ratio     Importance: 0.03286\n",
      "Variable: MSZoning_RM          Importance: 0.03028\n",
      "Variable: BldgType_Duplex      Importance: 0.0282\n",
      "Variable: HouseStyle_2Story    Importance: 0.01076\n",
      "Variable: KitchenQual          Importance: 0.00884\n",
      "Variable: patioSF              Importance: 0.00772\n",
      "Variable: income               Importance: 0.00551\n",
      "Variable: dist                 Importance: 0.0054\n",
      "Variable: LotArea              Importance: 0.00524\n",
      "Variable: Artery               Importance: 0.00517\n",
      "Variable: Bedr_ratio           Importance: 0.00461\n",
      "Variable: MSZoning_RL          Importance: 0.00274\n",
      "Variable: bathrm_cnt           Importance: 0.00123\n",
      "Variable: LotFrontage          Importance: 0.0\n",
      "Variable: Fireplaces           Importance: 0.0\n",
      "Variable: MiscVal              Importance: 0.0\n",
      "Variable: hood_Blmngtn         Importance: 0.0\n",
      "Variable: hood_BrDale          Importance: 0.0\n",
      "Variable: hood_BrkSide         Importance: 0.0\n",
      "Variable: hood_ClearCr         Importance: 0.0\n",
      "Variable: hood_CollgCr         Importance: 0.0\n",
      "Variable: hood_Crawfor         Importance: 0.0\n",
      "Variable: hood_Edwards         Importance: 0.0\n",
      "Variable: hood_Gilbert         Importance: 0.0\n",
      "Variable: hood_Greens          Importance: 0.0\n",
      "Variable: hood_IDOTRR          Importance: 0.0\n",
      "Variable: hood_MeadowV         Importance: 0.0\n",
      "Variable: hood_Mitchel         Importance: 0.0\n",
      "Variable: hood_NPkVill         Importance: 0.0\n",
      "Variable: hood_NWAmes          Importance: 0.0\n",
      "Variable: hood_NoRidge         Importance: 0.0\n",
      "Variable: hood_NridgHt         Importance: 0.0\n",
      "Variable: hood_OldTown         Importance: 0.0\n",
      "Variable: hood_SWISU           Importance: 0.0\n",
      "Variable: hood_Sawyer          Importance: 0.0\n",
      "Variable: hood_SawyerW         Importance: 0.0\n",
      "Variable: hood_Somerst         Importance: 0.0\n",
      "Variable: hood_StoneBr         Importance: 0.0\n",
      "Variable: hood_Timber          Importance: 0.0\n",
      "Variable: hood_Veenker         Importance: 0.0\n",
      "Variable: MSZoning_RH          Importance: 0.0\n",
      "Variable: NearRR               Importance: 0.0\n",
      "Variable: NearPos              Importance: 0.0\n",
      "Variable: BldgType_2fmCon      Importance: 0.0\n",
      "Variable: BldgType_Twnhs       Importance: 0.0\n",
      "Variable: BldgType_TwnhsE      Importance: 0.0\n",
      "Variable: HouseStyle_1.5Fin    Importance: 0.0\n",
      "Variable: HouseStyle_SFoyer    Importance: 0.0\n",
      "Variable: HouseStyle_SLvl      Importance: 0.0\n"
     ]
    },
    {
     "data": {
      "text/plain": [
       "[None,\n",
       " None,\n",
       " None,\n",
       " None,\n",
       " None,\n",
       " None,\n",
       " None,\n",
       " None,\n",
       " None,\n",
       " None,\n",
       " None,\n",
       " None,\n",
       " None,\n",
       " None,\n",
       " None,\n",
       " None,\n",
       " None,\n",
       " None,\n",
       " None,\n",
       " None,\n",
       " None,\n",
       " None,\n",
       " None,\n",
       " None,\n",
       " None,\n",
       " None,\n",
       " None,\n",
       " None,\n",
       " None,\n",
       " None,\n",
       " None,\n",
       " None,\n",
       " None,\n",
       " None,\n",
       " None,\n",
       " None,\n",
       " None,\n",
       " None,\n",
       " None,\n",
       " None,\n",
       " None,\n",
       " None,\n",
       " None,\n",
       " None,\n",
       " None,\n",
       " None,\n",
       " None,\n",
       " None,\n",
       " None,\n",
       " None,\n",
       " None,\n",
       " None,\n",
       " None,\n",
       " None,\n",
       " None]"
      ]
     },
     "execution_count": 100,
     "metadata": {},
     "output_type": "execute_result"
    }
   ],
   "source": [
    "feature_list = list(X1.columns) # Saving feature names for later use\n",
    "# Get numerical feature importances\n",
    "importances = list(tree.feature_importances_)\n",
    "\n",
    "## List of tuples with variable and importance\n",
    "feature_importances = [(feature, round(importance, 5)) for feature, importance in zip(feature_list, importances)]\n",
    "\n",
    "## Sort the feature importances by most important first\n",
    "feature_importances = sorted(feature_importances, key = lambda x: x[1], reverse = True)\n",
    "\n",
    "## Print out the feature and importances \n",
    "[print('Variable: {:20} Importance: {}'.format(*pair)) for pair in feature_importances]"
   ]
  },
  {
   "cell_type": "markdown",
   "id": "42797923",
   "metadata": {},
   "source": [
    "## Refit with only variables that are important above"
   ]
  },
  {
   "cell_type": "code",
   "execution_count": 101,
   "id": "715b5968",
   "metadata": {},
   "outputs": [],
   "source": [
    "feature_list = X1.columns # Saving feature names for later use\n",
    "importances = tree.feature_importances_[tree.feature_importances_ > 0]\n",
    "importances\n",
    "\n",
    "feature_list = feature_list[tree.feature_importances_ > 0]\n",
    "\n"
   ]
  },
  {
   "cell_type": "code",
   "execution_count": 102,
   "id": "eb99417d",
   "metadata": {},
   "outputs": [],
   "source": [
    "tree_reg = DecisionTreeRegressor()\n",
    "tree_reg.set_params(max_depth=8, max_features='auto', min_samples_leaf=9,\n",
    "                      min_samples_split=4)\n",
    "tree = tree_reg.fit(X1[feature_list], Y)\n",
    "\n"
   ]
  },
  {
   "cell_type": "code",
   "execution_count": 103,
   "id": "478c8a39",
   "metadata": {},
   "outputs": [
    {
     "name": "stdout",
     "output_type": "stream",
     "text": [
      "7.800554947347207\n",
      "0.7209391276100383\n"
     ]
    }
   ],
   "source": [
    "Y_pred = tree_reg.predict(X1[feature_list])\n",
    "\n",
    "RMSE = np.sqrt(mean_squared_error(Y,Y_pred))\n",
    "print(RMSE)\n",
    "R2 = tree_reg.score(X1[feature_list],Y)\n",
    "print(R2)"
   ]
  },
  {
   "cell_type": "markdown",
   "id": "a5f5dff3",
   "metadata": {},
   "source": [
    "- Shows that this step is not necessary"
   ]
  },
  {
   "cell_type": "markdown",
   "id": "712fd031",
   "metadata": {},
   "source": [
    "# Run this on test data."
   ]
  },
  {
   "cell_type": "code",
   "execution_count": 104,
   "id": "8d89e6cb",
   "metadata": {
    "scrolled": true
   },
   "outputs": [],
   "source": [
    "from clean_data_test import X1_test, Y_test"
   ]
  },
  {
   "cell_type": "code",
   "execution_count": 108,
   "id": "cac44297",
   "metadata": {},
   "outputs": [
    {
     "name": "stdout",
     "output_type": "stream",
     "text": [
      "The training error is: 0.27906\n",
      "The test     error is: 0.45713\n"
     ]
    }
   ],
   "source": [
    "train_error = (1 - tree_reg.score(X1[feature_list], Y))\n",
    "test_error = (1 - tree_reg.score(X1_test[feature_list], Y_test))\n",
    "print(\"The training error is: %.5f\" %train_error)\n",
    "print(\"The test     error is: %.5f\" %test_error)"
   ]
  },
  {
   "cell_type": "code",
   "execution_count": 109,
   "id": "61f4531b",
   "metadata": {},
   "outputs": [
    {
     "name": "stdout",
     "output_type": "stream",
     "text": [
      "9.69536103384011\n",
      "0.5428709092442197\n"
     ]
    }
   ],
   "source": [
    "Y_pred = tree_reg.predict(X1_test[feature_list])\n",
    "\n",
    "RMSE = np.sqrt(mean_squared_error(Y_test,Y_pred))\n",
    "print(RMSE)\n",
    "R2 = tree_reg.score(X1_test[feature_list],Y_test)\n",
    "print(R2)"
   ]
  }
 ],
 "metadata": {
  "kernelspec": {
   "display_name": "Python 3",
   "language": "python",
   "name": "python3"
  },
  "language_info": {
   "codemirror_mode": {
    "name": "ipython",
    "version": 3
   },
   "file_extension": ".py",
   "mimetype": "text/x-python",
   "name": "python",
   "nbconvert_exporter": "python",
   "pygments_lexer": "ipython3",
   "version": "3.8.8"
  }
 },
 "nbformat": 4,
 "nbformat_minor": 5
}
