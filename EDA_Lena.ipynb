{
 "cells": [
  {
   "cell_type": "markdown",
   "metadata": {},
   "source": [
    "# EDA for AMES housing prices"
   ]
  },
  {
   "cell_type": "code",
   "execution_count": 102,
   "metadata": {},
   "outputs": [],
   "source": [
    "import numpy as np\n",
    "import pandas as pd\n",
    "from matplotlib import pyplot as plt\n",
    "plt.style.use('ggplot')\n",
    "import seaborn as sns\n",
    "from sklearn.model_selection import train_test_split"
   ]
  },
  {
   "cell_type": "code",
   "execution_count": 7,
   "metadata": {},
   "outputs": [
    {
     "data": {
      "text/plain": [
       "Index(['Unnamed: 0', 'PID', 'GrLivArea', 'SalePrice', 'MSSubClass', 'MSZoning',\n",
       "       'LotFrontage', 'LotArea', 'Street', 'Alley', 'LotShape', 'LandContour',\n",
       "       'Utilities', 'LotConfig', 'LandSlope', 'Neighborhood', 'Condition1',\n",
       "       'Condition2', 'BldgType', 'HouseStyle', 'OverallQual', 'OverallCond',\n",
       "       'YearBuilt', 'YearRemodAdd', 'RoofStyle', 'RoofMatl', 'Exterior1st',\n",
       "       'Exterior2nd', 'MasVnrType', 'MasVnrArea', 'ExterQual', 'ExterCond',\n",
       "       'Foundation', 'BsmtQual', 'BsmtCond', 'BsmtExposure', 'BsmtFinType1',\n",
       "       'BsmtFinSF1', 'BsmtFinType2', 'BsmtFinSF2', 'BsmtUnfSF', 'TotalBsmtSF',\n",
       "       'Heating', 'HeatingQC', 'CentralAir', 'Electrical', '1stFlrSF',\n",
       "       '2ndFlrSF', 'LowQualFinSF', 'BsmtFullBath', 'BsmtHalfBath', 'FullBath',\n",
       "       'HalfBath', 'BedroomAbvGr', 'KitchenAbvGr', 'KitchenQual',\n",
       "       'TotRmsAbvGrd', 'Functional', 'Fireplaces', 'FireplaceQu', 'GarageType',\n",
       "       'GarageYrBlt', 'GarageFinish', 'GarageCars', 'GarageArea', 'GarageQual',\n",
       "       'GarageCond', 'PavedDrive', 'WoodDeckSF', 'OpenPorchSF',\n",
       "       'EnclosedPorch', '3SsnPorch', 'ScreenPorch', 'PoolArea', 'PoolQC',\n",
       "       'Fence', 'MiscFeature', 'MiscVal', 'MoSold', 'YrSold', 'SaleType',\n",
       "       'SaleCondition'],\n",
       "      dtype='object')"
      ]
     },
     "execution_count": 7,
     "metadata": {},
     "output_type": "execute_result"
    }
   ],
   "source": [
    "housing = pd.read_csv(\"data/Ames_Housing_Price_Data.csv\")\n",
    "housing.shape\n",
    "housing.columns"
   ]
  },
  {
   "cell_type": "code",
   "execution_count": 8,
   "metadata": {},
   "outputs": [
    {
     "data": {
      "text/plain": [
       "(2579,)"
      ]
     },
     "execution_count": 8,
     "metadata": {},
     "output_type": "execute_result"
    }
   ],
   "source": [
    "uni = housing.PID.unique()\n",
    "uni.shape"
   ]
  },
  {
   "cell_type": "code",
   "execution_count": 9,
   "metadata": {},
   "outputs": [
    {
     "name": "stderr",
     "output_type": "stream",
     "text": [
      "/Users/benburkey/opt/anaconda3/lib/python3.8/site-packages/IPython/core/interactiveshell.py:3146: DtypeWarning: Columns (36,40,81,87) have mixed types.Specify dtype option on import or set low_memory=False.\n",
      "  has_raised = await self.run_ast_nodes(code_ast.body, cell_name,\n"
     ]
    }
   ],
   "source": [
    "realEstate = pd.read_csv(\"data/Ames_Real_Estate_Data.csv\")"
   ]
  },
  {
   "cell_type": "code",
   "execution_count": 10,
   "metadata": {},
   "outputs": [
    {
     "data": {
      "text/plain": [
       "Index(['MapRefNo', 'GeoRefNo', 'Tier', 'Range', 'Prop_Addr', 'ZngCdPr',\n",
       "       'ZngCdSc', 'ZngOLPr', 'ZngOLSc', 'ClassPr_S', 'ClassSc_S', 'Legal_Pr',\n",
       "       'SchD_S', 'TxD_S', 'MA_Ownr1', 'MA_Ownr2', 'MA_Line1', 'MA_Line2',\n",
       "       'MA_City', 'MA_State', 'MA_Zip1', 'MA_Zip2', 'Rcrd_Yr', 'Rcrd_Mo',\n",
       "       'Inst1_No', 'Inst1_Yr', 'Inst1_Mo', 'Inst1TPr', 'LndAc_S', 'ImpAc_S',\n",
       "       'OthAc_S', 'TtlVal_AsrYr', 'ValType', 'X1TPr_D', 'X1TSc_D', 'X2TPr_D',\n",
       "       'X2TSc_D', 'X1TPr_S', 'X1TSc_S', 'X2TPr_S', 'X2TSc_S', 'LndAcX1S',\n",
       "       'ImpAcX1S', 'ImpAcX2S', 'HSTtl_D', 'MilVal_D', 'HSTtl_S', 'MilVal_S',\n",
       "       'AcreX_S1', 'AcreGr', 'AcreNt_S', 'Neighborhood', 'LotArea', 'ParType',\n",
       "       'BldgNo_S', 'DwlgNo_S', 'BldgType', 'YrBuilt', 'HouseStyle',\n",
       "       'Foundation', 'RoofMatl', 'Ext1', 'Ext2', 'MasVnrType', 'Heating',\n",
       "       'Central Air', 'GLA', 'TtlBsmtSF', 'TotRmsAbvGrd', 'Fireplaces',\n",
       "       'PoolArea', 'GarageType', 'GarYrBlt', 'Cars', 'GarageArea',\n",
       "       'YrSold_YYYY', 'MoSold_MM', 'SalePrice', 'SaleType', 'SaleCond',\n",
       "       'ParclRel', 'PA-Nmbr', 'PA-PreD', 'PA-Strt', 'PA-StSfx', 'PA-PostD',\n",
       "       'PA-UnTyp', 'PA-UntNo', 'Date', 'Source', 'NmbrBRs'],\n",
       "      dtype='object')"
      ]
     },
     "execution_count": 10,
     "metadata": {},
     "output_type": "execute_result"
    }
   ],
   "source": [
    "realEstate.columns"
   ]
  },
  {
   "cell_type": "code",
   "execution_count": 11,
   "metadata": {},
   "outputs": [
    {
     "data": {
      "text/plain": [
       "<AxesSubplot:>"
      ]
     },
     "execution_count": 11,
     "metadata": {},
     "output_type": "execute_result"
    },
    {
     "data": {
      "image/png": "[encoded data removed]",
      "text/plain": [
       "<Figure size 432x288 with 1 Axes>"
      ]
     },
     "metadata": {},
     "output_type": "display_data"
    }
   ],
   "source": [
    "hs_na = housing.isna().sum()\n",
    "hs_na = (hs_na[hs_na>10]/housing.shape[0])*100\n",
    "hs_na.plot.bar()"
   ]
  },
  {
   "cell_type": "code",
   "execution_count": null,
   "metadata": {},
   "outputs": [],
   "source": []
  },
  {
   "cell_type": "code",
   "execution_count": 13,
   "metadata": {},
   "outputs": [],
   "source": [
    "# housingw.columns"
   ]
  },
  {
   "cell_type": "code",
   "execution_count": 15,
   "metadata": {},
   "outputs": [],
   "source": [
    "#housingw = housing[housing['MSZoning'] !='A (agr)']\n",
    "#housingw = housingw[housingw['MSZoning'] !='I (all)']\n",
    "#housingw = housingw[housingw['MSZoning'] !='C (all)']\n",
    "\n",
    "#housingw.shape\n",
    "#print(housingw['MSZoning'].value_counts())\n",
    "#print(housingw['Neighborhood'].value_counts())\n",
    "#print(housingw['Condition1'].value_counts())\n",
    "#print(housingw['Condition2'].value_counts())\n",
    "#print(housingw['BldgType'].value_counts())\n",
    "#print(housingw['HouseStyle'].value_counts())\n",
    "#print(housingw['OverallQual'].value_counts())\n",
    "#print(housingw['OverallCond'].value_counts())\n",
    "#print(housingw['RoofStyle'].value_counts())\n",
    "#print(housingw['RoofMatl'].value_counts())\n",
    "#print(housingw['Electrical'].value_counts())\n",
    "#print(housingw['FullBath'].value_counts())\n",
    "#print(housingw['HalfBath'].value_counts())\n",
    "#print(housingw['TotRmsAbvGrd'].value_counts())\n",
    "#print(housingw['Functional'].value_counts())\n",
    "#print(housingw['Fireplaces'].value_counts())\n",
    "#print(housingw['FireplaceQu'].value_counts())\n",
    "#print(housingw['GarageType'].value_counts())\n",
    "#print(housingw['GarageCars'].value_counts())\n",
    "#print(housingw['SaleType'].value_counts())\n",
    "#print(housingw['SaleCondition'].value_counts())\n",
    "\n",
    "# print(housingw['Utilities'].value_counts())\n",
    "\n",
    "\n",
    "#housingw.boxplot(column ='SalePrice', by = 'MSSubClass')\n",
    "#housingw.boxplot(column ='SalePrice', by = 'Neighborhood')\n",
    "#housingw.boxplot(column ='SalePrice', by = 'HouseStyle')\n",
    "#housingw.boxplot(column ='SalePrice', by = 'RoofMatl')\n",
    "#housingw.boxplot(column ='SalePrice', by = 'MasVnrType')\n",
    "#housingw.boxplot(column ='SalePrice', by = 'KitchenQual')\n",
    "#housingw.boxplot(column ='SalePrice', by = 'TotRmsAbvGrd')\n",
    "#housingw.boxplot(column ='SalePrice', by = 'Functional')\n",
    "#housingw.boxplot(column ='SalePrice', by = 'Fireplaces')\n",
    "#housingw.boxplot(column ='SalePrice', by = 'GarageCars')\n",
    "#housingw.boxplot(column ='SalePrice', by = 'SaleCondition')\n",
    "\n",
    "#bathrm = housingw['FullBath'] + housingw['BsmtFullBath'] + (housingw['HalfBath']*0.5) + (housing['BsmtHalfBath']*0.5)\n",
    "#bathrm.value_counts()\n",
    "\n",
    "#housingw.boxplot(column ='SalePrice', by = 'HeatingQC')\n",
    "#housingw.boxplot(column ='SalePrice', by = 'FullBath')\n",
    "\n",
    "#housingw.boxplot(column ='SalePrice', by = 'MSZoning')\n",
    "#housingw.boxplot(column ='SalePrice', by = 'LotShape')\n",
    "#housingw.boxplot(column ='SalePrice', by = 'LandSlope')\n",
    "#housingw.boxplot(column ='SalePrice', by = 'LandContour')\n",
    "#housingw.boxplot(column ='SalePrice', by = 'CentralAir')\n",
    "\n",
    "#housingw.plot(kind = 'scatter', x = 'PoolArea', y= 'SalePrice')\n",
    "#housingw.plot(kind = 'scatter', x = 'LotFrontage', y= 'SalePrice')\n",
    "#housingw.plot(kind = 'scatter', x = 'LotArea', y= 'SalePrice')\n",
    "#housingw.plot(kind = 'scatter', x = '1stFlrSF', y= 'SalePrice')\n",
    "#housingw.plot(kind = 'scatter', x = '2ndFlrSF', y= 'SalePrice')\n",
    "#housingw.plot(kind = 'scatter', x = 'LowQualFinSF', y= 'SalePrice')\n",
    "#housingw.plot(kind = 'scatter', x = 'GarageArea', y= 'SalePrice')\n",
    "#housingw.plot(kind = 'scatter', x = 'GarageArea', y= 'GarageCars')\n",
    "\n",
    "#housingw.plot(kind = 'scatter', x = 'CentralAir', y= 'SalePrice')\n"
   ]
  },
  {
   "cell_type": "markdown",
   "metadata": {},
   "source": [
    "- Remove columns\n",
    "- Price on map\n",
    "- Encode others\n",
    "- Scatter matrix\n",
    "- Correlation Matrix \n"
   ]
  },
  {
   "cell_type": "markdown",
   "metadata": {},
   "source": [
    "## Remove Columns"
   ]
  },
  {
   "cell_type": "code",
   "execution_count": 16,
   "metadata": {},
   "outputs": [
    {
     "data": {
      "text/plain": [
       "(2560, 31)"
      ]
     },
     "execution_count": 16,
     "metadata": {},
     "output_type": "execute_result"
    }
   ],
   "source": [
    "housing = pd.read_csv(\"data/Ames_Housing_Price_Data.csv\")\n",
    "housing = housing[housing['MSZoning'] !='A (agr)']\n",
    "housing = housing[housing['MSZoning'] !='I (all)']\n",
    "housing = housing[housing['MSZoning'] !='C (all)']\n",
    "\n",
    "\n",
    "bathrm = (housing['FullBath'] + housing['BsmtFullBath'] +\n",
    "(housing['HalfBath']*0.5) + (housing['BsmtHalfBath']*0.5))\n",
    "housing['bathrm_cnt'] = bathrm\n",
    "\n",
    "\n",
    "patioSF = (housing['WoodDeckSF'] + housing['OpenPorchSF']+ housing['EnclosedPorch'] + \n",
    "           housing['3SsnPorch'] + housing['ScreenPorch'])\n",
    "housing['patioSF'] = patioSF\n",
    "\n",
    "\n",
    "\n",
    "coldrop=['Alley', 'LotShape', 'LandContour', 'Utilities', 'LotConfig','LandSlope', \n",
    "         'RoofStyle','RoofMatl','Exterior2nd','Exterior1st', 'MasVnrType',\n",
    "         'MasVnrArea','ExterQual','ExterCond','Foundation','BsmtQual','BsmtCond',\n",
    "         'BsmtExposure', 'BsmtFinType1','BsmtFinType2','BsmtFinSF1','BsmtFinSF2',\n",
    "         'Heating','HeatingQC','CentralAir','Electrical',\n",
    "         'FullBath','HalfBath','BsmtHalfBath','BsmtFullBath',\n",
    "         'LowQualFinSF','KitchenAbvGr','Functional','FireplaceQu',\n",
    "         'GarageType','GarageYrBlt','GarageFinish','GarageCars','GarageQual','GarageCond',\n",
    "         'PavedDrive',\n",
    "         'WoodDeckSF','OpenPorchSF','EnclosedPorch','3SsnPorch','ScreenPorch',      \n",
    "         'PoolArea','PoolQC','Fence','MiscFeature','SaleType',\n",
    "         'SaleCondition']\n",
    "\n",
    "\n",
    "housing = housing.drop(coldrop, axis = 1)\n",
    "housing = housing.drop(['Unnamed: 0'], axis =1)\n",
    "housing.shape"
   ]
  },
  {
   "cell_type": "code",
   "execution_count": 17,
   "metadata": {},
   "outputs": [
    {
     "data": {
      "text/plain": [
       "Index(['PID', 'GrLivArea', 'SalePrice', 'MSSubClass', 'MSZoning',\n",
       "       'LotFrontage', 'LotArea', 'Street', 'Neighborhood', 'Condition1',\n",
       "       'Condition2', 'BldgType', 'HouseStyle', 'OverallQual', 'OverallCond',\n",
       "       'YearBuilt', 'YearRemodAdd', 'BsmtUnfSF', 'TotalBsmtSF', '1stFlrSF',\n",
       "       '2ndFlrSF', 'BedroomAbvGr', 'KitchenQual', 'TotRmsAbvGrd', 'Fireplaces',\n",
       "       'GarageArea', 'MiscVal', 'MoSold', 'YrSold', 'bathrm_cnt', 'patioSF'],\n",
       "      dtype='object')"
      ]
     },
     "execution_count": 17,
     "metadata": {},
     "output_type": "execute_result"
    }
   ],
   "source": [
    "housing.columns"
   ]
  },
  {
   "cell_type": "code",
   "execution_count": 18,
   "metadata": {},
   "outputs": [
    {
     "data": {
      "text/plain": [
       "<AxesSubplot:>"
      ]
     },
     "execution_count": 18,
     "metadata": {},
     "output_type": "execute_result"
    },
    {
     "data": {
      "image/png": "[encoded data removed]",
      "text/plain": [
       "<Figure size 432x288 with 1 Axes>"
      ]
     },
     "metadata": {},
     "output_type": "display_data"
    }
   ],
   "source": [
    "hs_na = housing.isna().sum()\n",
    "hs_na = (hs_na[hs_na>10]/housing.shape[0])*100\n",
    "hs_na.plot.bar()"
   ]
  },
  {
   "cell_type": "code",
   "execution_count": 19,
   "metadata": {},
   "outputs": [
    {
     "name": "stderr",
     "output_type": "stream",
     "text": [
      "/Users/benburkey/opt/anaconda3/lib/python3.8/site-packages/IPython/core/interactiveshell.py:3146: DtypeWarning: Columns (36,40,81,87) have mixed types.Specify dtype option on import or set low_memory=False.\n",
      "  has_raised = await self.run_ast_nodes(code_ast.body, cell_name,\n"
     ]
    }
   ],
   "source": [
    "realEstate = pd.read_csv(\"data/Ames_Real_Estate_Data.csv\")\n",
    "realEstate = realEstate[['MapRefNo','Prop_Addr','MA_Zip1']]"
   ]
  },
  {
   "cell_type": "code",
   "execution_count": 20,
   "metadata": {},
   "outputs": [
    {
     "name": "stdout",
     "output_type": "stream",
     "text": [
      "(2586, 3)\n"
     ]
    },
    {
     "data": {
      "text/plain": [
       "<AxesSubplot:>"
      ]
     },
     "execution_count": 20,
     "metadata": {},
     "output_type": "execute_result"
    },
    {
     "data": {
      "image/png": "[encoded data removed]",
      "text/plain": [
       "<Figure size 432x288 with 1 Axes>"
      ]
     },
     "metadata": {},
     "output_type": "display_data"
    }
   ],
   "source": [
    "geodata = housing.merge(realEstate, left_on = 'PID', right_on = 'MapRefNo')\n",
    "geodata = geodata[['PID','Prop_Addr','MA_Zip1']]\n",
    "print(geodata.shape)\n",
    "geodata.head(10)\n",
    "\n",
    "hs_na = geodata.isna().sum()\n",
    "hs_na.plot.bar()"
   ]
  },
  {
   "cell_type": "code",
   "execution_count": 21,
   "metadata": {},
   "outputs": [
    {
     "name": "stdout",
     "output_type": "stream",
     "text": [
      "(2559,)\n",
      "(2560, 31)\n",
      "(2559, 31)\n"
     ]
    }
   ],
   "source": [
    "# Check for duplicates\n",
    "uni = housing.PID.unique()\n",
    "uni.shape[0]-housing.shape[0]\n",
    "print(uni.shape)\n",
    "print(housing.shape)\n",
    "\n",
    "#Drop row with duplicate\n",
    "housing = housing.drop_duplicates(subset = 'PID')\n",
    "geodata = geodata\n",
    "print(housing.shape)\n"
   ]
  },
  {
   "cell_type": "markdown",
   "metadata": {},
   "source": [
    "# Distance to University"
   ]
  },
  {
   "cell_type": "code",
   "execution_count": 28,
   "metadata": {},
   "outputs": [
    {
     "data": {
      "text/html": [
       "<div>\n",
       "<style scoped>\n",
       "    .dataframe tbody tr th:only-of-type {\n",
       "        vertical-align: middle;\n",
       "    }\n",
       "\n",
       "    .dataframe tbody tr th {\n",
       "        vertical-align: top;\n",
       "    }\n",
       "\n",
       "    .dataframe thead th {\n",
       "        text-align: right;\n",
       "    }\n",
       "</style>\n",
       "<table border=\"1\" class=\"dataframe\">\n",
       "  <thead>\n",
       "    <tr style=\"text-align: right;\">\n",
       "      <th></th>\n",
       "      <th>PID</th>\n",
       "      <th>Prop_Addr</th>\n",
       "      <th>MA_Zip1</th>\n",
       "    </tr>\n",
       "  </thead>\n",
       "  <tbody>\n",
       "    <tr>\n",
       "      <th>0</th>\n",
       "      <td>909176150</td>\n",
       "      <td>436 HAYWARD AVE</td>\n",
       "      <td>50010.0</td>\n",
       "    </tr>\n",
       "    <tr>\n",
       "      <th>1</th>\n",
       "      <td>905476230</td>\n",
       "      <td>3416 WEST ST</td>\n",
       "      <td>50014.0</td>\n",
       "    </tr>\n",
       "    <tr>\n",
       "      <th>2</th>\n",
       "      <td>905476230</td>\n",
       "      <td>3416 WEST ST</td>\n",
       "      <td>50014.0</td>\n",
       "    </tr>\n",
       "    <tr>\n",
       "      <th>3</th>\n",
       "      <td>535377150</td>\n",
       "      <td>1524 DOUGLAS AVE</td>\n",
       "      <td>50010.0</td>\n",
       "    </tr>\n",
       "    <tr>\n",
       "      <th>4</th>\n",
       "      <td>534177230</td>\n",
       "      <td>2304 FILLMORE AVE</td>\n",
       "      <td>50010.0</td>\n",
       "    </tr>\n",
       "    <tr>\n",
       "      <th>...</th>\n",
       "      <td>...</td>\n",
       "      <td>...</td>\n",
       "      <td>...</td>\n",
       "    </tr>\n",
       "    <tr>\n",
       "      <th>2581</th>\n",
       "      <td>903205040</td>\n",
       "      <td>1021 RIDGEWOOD AVE</td>\n",
       "      <td>50010.0</td>\n",
       "    </tr>\n",
       "    <tr>\n",
       "      <th>2582</th>\n",
       "      <td>905402060</td>\n",
       "      <td>3619 MARY CIR</td>\n",
       "      <td>50014.0</td>\n",
       "    </tr>\n",
       "    <tr>\n",
       "      <th>2583</th>\n",
       "      <td>909275030</td>\n",
       "      <td>2140 SUNSET DR 2142</td>\n",
       "      <td>16801.0</td>\n",
       "    </tr>\n",
       "    <tr>\n",
       "      <th>2584</th>\n",
       "      <td>907192040</td>\n",
       "      <td>5319 CLEMENS BLVD</td>\n",
       "      <td>50014.0</td>\n",
       "    </tr>\n",
       "    <tr>\n",
       "      <th>2585</th>\n",
       "      <td>906223180</td>\n",
       "      <td>1025 VERMONT CT</td>\n",
       "      <td>50014.0</td>\n",
       "    </tr>\n",
       "  </tbody>\n",
       "</table>\n",
       "<p>2586 rows × 3 columns</p>\n",
       "</div>"
      ],
      "text/plain": [
       "            PID            Prop_Addr  MA_Zip1\n",
       "0     909176150      436 HAYWARD AVE  50010.0\n",
       "1     905476230         3416 WEST ST  50014.0\n",
       "2     905476230         3416 WEST ST  50014.0\n",
       "3     535377150     1524 DOUGLAS AVE  50010.0\n",
       "4     534177230    2304 FILLMORE AVE  50010.0\n",
       "...         ...                  ...      ...\n",
       "2581  903205040   1021 RIDGEWOOD AVE  50010.0\n",
       "2582  905402060        3619 MARY CIR  50014.0\n",
       "2583  909275030  2140 SUNSET DR 2142  16801.0\n",
       "2584  907192040    5319 CLEMENS BLVD  50014.0\n",
       "2585  906223180      1025 VERMONT CT  50014.0\n",
       "\n",
       "[2586 rows x 3 columns]"
      ]
     },
     "execution_count": 28,
     "metadata": {},
     "output_type": "execute_result"
    }
   ],
   "source": [
    "geodata"
   ]
  },
  {
   "cell_type": "code",
   "execution_count": 103,
   "metadata": {},
   "outputs": [],
   "source": [
    "import geopy\n",
    "from geopy import Nominatim\n",
    "from geopy.extra.rate_limiter import RateLimiter\n",
    "from geopy.distance import geodesic"
   ]
  },
  {
   "cell_type": "code",
   "execution_count": 159,
   "metadata": {},
   "outputs": [],
   "source": [
    "# initializing locator and geocode\n",
    "locator = Nominatim(user_agent=\"myGeocoder\")\n",
    "geocode = RateLimiter(locator.geocode, min_delay_seconds=1.5)"
   ]
  },
  {
   "cell_type": "code",
   "execution_count": 104,
   "metadata": {
    "scrolled": true
   },
   "outputs": [
    {
     "ename": "KeyboardInterrupt",
     "evalue": "",
     "output_type": "error",
     "traceback": [
      "\u001b[0;31m---------------------------------------------------------------------------\u001b[0m",
      "\u001b[0;31mKeyboardInterrupt\u001b[0m                         Traceback (most recent call last)",
      "\u001b[0;32m<ipython-input-104-e692fccb221b>\u001b[0m in \u001b[0;36m<module>\u001b[0;34m\u001b[0m\n\u001b[1;32m      1\u001b[0m \u001b[0mlocator\u001b[0m \u001b[0;34m=\u001b[0m \u001b[0mNominatim\u001b[0m\u001b[0;34m(\u001b[0m\u001b[0muser_agent\u001b[0m\u001b[0;34m=\u001b[0m\u001b[0;34m\"myGeocoder\"\u001b[0m\u001b[0;34m)\u001b[0m\u001b[0;34m\u001b[0m\u001b[0;34m\u001b[0m\u001b[0m\n\u001b[1;32m      2\u001b[0m \u001b[0mgeocode\u001b[0m \u001b[0;34m=\u001b[0m \u001b[0mRateLimiter\u001b[0m\u001b[0;34m(\u001b[0m\u001b[0mlocator\u001b[0m\u001b[0;34m.\u001b[0m\u001b[0mgeocode\u001b[0m\u001b[0;34m,\u001b[0m \u001b[0mmin_delay_seconds\u001b[0m\u001b[0;34m=\u001b[0m\u001b[0;36m1.5\u001b[0m\u001b[0;34m)\u001b[0m\u001b[0;34m\u001b[0m\u001b[0;34m\u001b[0m\u001b[0m\n\u001b[0;32m----> 3\u001b[0;31m \u001b[0mgeodata\u001b[0m\u001b[0;34m[\u001b[0m\u001b[0;34m'Full_Addr'\u001b[0m\u001b[0;34m]\u001b[0m \u001b[0;34m=\u001b[0m \u001b[0;34m[\u001b[0m\u001b[0mgeocode\u001b[0m\u001b[0;34m(\u001b[0m\u001b[0mProp_Addr\u001b[0m\u001b[0;34m+\u001b[0m\u001b[0;34m', Ames, USA'\u001b[0m\u001b[0;34m)\u001b[0m \u001b[0;32mif\u001b[0m \u001b[0mtype\u001b[0m\u001b[0;34m(\u001b[0m\u001b[0mProp_Addr\u001b[0m\u001b[0;34m)\u001b[0m\u001b[0;34m==\u001b[0m\u001b[0mstr\u001b[0m \u001b[0;32melse\u001b[0m \u001b[0;32mNone\u001b[0m \u001b[0;32mfor\u001b[0m \u001b[0mProp_Addr\u001b[0m \u001b[0;32min\u001b[0m \u001b[0mgeodata\u001b[0m\u001b[0;34m[\u001b[0m\u001b[0;34m'Prop_Addr'\u001b[0m\u001b[0;34m]\u001b[0m\u001b[0;34m]\u001b[0m\u001b[0;34m\u001b[0m\u001b[0;34m\u001b[0m\u001b[0m\n\u001b[0m\u001b[1;32m      4\u001b[0m \u001b[0;31m# locations = [geocode(addr+', Ames, USA') if type(addr)==str else None for addr in stree_addresses]\u001b[0m\u001b[0;34m\u001b[0m\u001b[0;34m\u001b[0m\u001b[0;34m\u001b[0m\u001b[0m\n",
      "\u001b[0;32m<ipython-input-104-e692fccb221b>\u001b[0m in \u001b[0;36m<listcomp>\u001b[0;34m(.0)\u001b[0m\n\u001b[1;32m      1\u001b[0m \u001b[0mlocator\u001b[0m \u001b[0;34m=\u001b[0m \u001b[0mNominatim\u001b[0m\u001b[0;34m(\u001b[0m\u001b[0muser_agent\u001b[0m\u001b[0;34m=\u001b[0m\u001b[0;34m\"myGeocoder\"\u001b[0m\u001b[0;34m)\u001b[0m\u001b[0;34m\u001b[0m\u001b[0;34m\u001b[0m\u001b[0m\n\u001b[1;32m      2\u001b[0m \u001b[0mgeocode\u001b[0m \u001b[0;34m=\u001b[0m \u001b[0mRateLimiter\u001b[0m\u001b[0;34m(\u001b[0m\u001b[0mlocator\u001b[0m\u001b[0;34m.\u001b[0m\u001b[0mgeocode\u001b[0m\u001b[0;34m,\u001b[0m \u001b[0mmin_delay_seconds\u001b[0m\u001b[0;34m=\u001b[0m\u001b[0;36m1.5\u001b[0m\u001b[0;34m)\u001b[0m\u001b[0;34m\u001b[0m\u001b[0;34m\u001b[0m\u001b[0m\n\u001b[0;32m----> 3\u001b[0;31m \u001b[0mgeodata\u001b[0m\u001b[0;34m[\u001b[0m\u001b[0;34m'Full_Addr'\u001b[0m\u001b[0;34m]\u001b[0m \u001b[0;34m=\u001b[0m \u001b[0;34m[\u001b[0m\u001b[0mgeocode\u001b[0m\u001b[0;34m(\u001b[0m\u001b[0mProp_Addr\u001b[0m\u001b[0;34m+\u001b[0m\u001b[0;34m', Ames, USA'\u001b[0m\u001b[0;34m)\u001b[0m \u001b[0;32mif\u001b[0m \u001b[0mtype\u001b[0m\u001b[0;34m(\u001b[0m\u001b[0mProp_Addr\u001b[0m\u001b[0;34m)\u001b[0m\u001b[0;34m==\u001b[0m\u001b[0mstr\u001b[0m \u001b[0;32melse\u001b[0m \u001b[0;32mNone\u001b[0m \u001b[0;32mfor\u001b[0m \u001b[0mProp_Addr\u001b[0m \u001b[0;32min\u001b[0m \u001b[0mgeodata\u001b[0m\u001b[0;34m[\u001b[0m\u001b[0;34m'Prop_Addr'\u001b[0m\u001b[0;34m]\u001b[0m\u001b[0;34m]\u001b[0m\u001b[0;34m\u001b[0m\u001b[0;34m\u001b[0m\u001b[0m\n\u001b[0m\u001b[1;32m      4\u001b[0m \u001b[0;31m# locations = [geocode(addr+', Ames, USA') if type(addr)==str else None for addr in stree_addresses]\u001b[0m\u001b[0;34m\u001b[0m\u001b[0;34m\u001b[0m\u001b[0;34m\u001b[0m\u001b[0m\n",
      "\u001b[0;32m~/opt/anaconda3/lib/python3.8/site-packages/geopy/extra/rate_limiter.py\u001b[0m in \u001b[0;36m__call__\u001b[0;34m(self, *args, **kwargs)\u001b[0m\n\u001b[1;32m    270\u001b[0m         \u001b[0mgen\u001b[0m \u001b[0;34m=\u001b[0m \u001b[0mself\u001b[0m\u001b[0;34m.\u001b[0m\u001b[0m_retries_gen\u001b[0m\u001b[0;34m(\u001b[0m\u001b[0margs\u001b[0m\u001b[0;34m,\u001b[0m \u001b[0mkwargs\u001b[0m\u001b[0;34m)\u001b[0m\u001b[0;34m\u001b[0m\u001b[0;34m\u001b[0m\u001b[0m\n\u001b[1;32m    271\u001b[0m         \u001b[0;32mfor\u001b[0m \u001b[0m_\u001b[0m \u001b[0;32min\u001b[0m \u001b[0mgen\u001b[0m\u001b[0;34m:\u001b[0m\u001b[0;34m\u001b[0m\u001b[0;34m\u001b[0m\u001b[0m\n\u001b[0;32m--> 272\u001b[0;31m             \u001b[0mself\u001b[0m\u001b[0;34m.\u001b[0m\u001b[0m_acquire_request_slot\u001b[0m\u001b[0;34m(\u001b[0m\u001b[0;34m)\u001b[0m\u001b[0;34m\u001b[0m\u001b[0;34m\u001b[0m\u001b[0m\n\u001b[0m\u001b[1;32m    273\u001b[0m             \u001b[0;32mtry\u001b[0m\u001b[0;34m:\u001b[0m\u001b[0;34m\u001b[0m\u001b[0;34m\u001b[0m\u001b[0m\n\u001b[1;32m    274\u001b[0m                 \u001b[0mres\u001b[0m \u001b[0;34m=\u001b[0m \u001b[0mself\u001b[0m\u001b[0;34m.\u001b[0m\u001b[0mfunc\u001b[0m\u001b[0;34m(\u001b[0m\u001b[0;34m*\u001b[0m\u001b[0margs\u001b[0m\u001b[0;34m,\u001b[0m \u001b[0;34m**\u001b[0m\u001b[0mkwargs\u001b[0m\u001b[0;34m)\u001b[0m\u001b[0;34m\u001b[0m\u001b[0;34m\u001b[0m\u001b[0m\n",
      "\u001b[0;32m~/opt/anaconda3/lib/python3.8/site-packages/geopy/extra/rate_limiter.py\u001b[0m in \u001b[0;36m_acquire_request_slot\u001b[0;34m(self)\u001b[0m\n\u001b[1;32m    265\u001b[0m     \u001b[0;32mdef\u001b[0m \u001b[0m_acquire_request_slot\u001b[0m\u001b[0;34m(\u001b[0m\u001b[0mself\u001b[0m\u001b[0;34m)\u001b[0m\u001b[0;34m:\u001b[0m\u001b[0;34m\u001b[0m\u001b[0;34m\u001b[0m\u001b[0m\n\u001b[1;32m    266\u001b[0m         \u001b[0;32mfor\u001b[0m \u001b[0mwait\u001b[0m \u001b[0;32min\u001b[0m \u001b[0mself\u001b[0m\u001b[0;34m.\u001b[0m\u001b[0m_acquire_request_slot_gen\u001b[0m\u001b[0;34m(\u001b[0m\u001b[0;34m)\u001b[0m\u001b[0;34m:\u001b[0m\u001b[0;34m\u001b[0m\u001b[0;34m\u001b[0m\u001b[0m\n\u001b[0;32m--> 267\u001b[0;31m             \u001b[0mself\u001b[0m\u001b[0;34m.\u001b[0m\u001b[0m_sleep\u001b[0m\u001b[0;34m(\u001b[0m\u001b[0mwait\u001b[0m\u001b[0;34m)\u001b[0m\u001b[0;34m\u001b[0m\u001b[0;34m\u001b[0m\u001b[0m\n\u001b[0m\u001b[1;32m    268\u001b[0m \u001b[0;34m\u001b[0m\u001b[0m\n\u001b[1;32m    269\u001b[0m     \u001b[0;32mdef\u001b[0m \u001b[0m__call__\u001b[0m\u001b[0;34m(\u001b[0m\u001b[0mself\u001b[0m\u001b[0;34m,\u001b[0m \u001b[0;34m*\u001b[0m\u001b[0margs\u001b[0m\u001b[0;34m,\u001b[0m \u001b[0;34m**\u001b[0m\u001b[0mkwargs\u001b[0m\u001b[0;34m)\u001b[0m\u001b[0;34m:\u001b[0m\u001b[0;34m\u001b[0m\u001b[0;34m\u001b[0m\u001b[0m\n",
      "\u001b[0;32m~/opt/anaconda3/lib/python3.8/site-packages/geopy/extra/rate_limiter.py\u001b[0m in \u001b[0;36m_sleep\u001b[0;34m(self, seconds)\u001b[0m\n\u001b[1;32m    261\u001b[0m     \u001b[0;32mdef\u001b[0m \u001b[0m_sleep\u001b[0m\u001b[0;34m(\u001b[0m\u001b[0mself\u001b[0m\u001b[0;34m,\u001b[0m \u001b[0mseconds\u001b[0m\u001b[0;34m)\u001b[0m\u001b[0;34m:\u001b[0m  \u001b[0;31m# pragma: no cover\u001b[0m\u001b[0;34m\u001b[0m\u001b[0;34m\u001b[0m\u001b[0m\n\u001b[1;32m    262\u001b[0m         \u001b[0mlogger\u001b[0m\u001b[0;34m.\u001b[0m\u001b[0mdebug\u001b[0m\u001b[0;34m(\u001b[0m\u001b[0mtype\u001b[0m\u001b[0;34m(\u001b[0m\u001b[0mself\u001b[0m\u001b[0;34m)\u001b[0m\u001b[0;34m.\u001b[0m\u001b[0m__name__\u001b[0m \u001b[0;34m+\u001b[0m \u001b[0;34m\" sleep(%r)\"\u001b[0m\u001b[0;34m,\u001b[0m \u001b[0mseconds\u001b[0m\u001b[0;34m)\u001b[0m\u001b[0;34m\u001b[0m\u001b[0;34m\u001b[0m\u001b[0m\n\u001b[0;32m--> 263\u001b[0;31m         \u001b[0msleep\u001b[0m\u001b[0;34m(\u001b[0m\u001b[0mseconds\u001b[0m\u001b[0;34m)\u001b[0m\u001b[0;34m\u001b[0m\u001b[0;34m\u001b[0m\u001b[0m\n\u001b[0m\u001b[1;32m    264\u001b[0m \u001b[0;34m\u001b[0m\u001b[0m\n\u001b[1;32m    265\u001b[0m     \u001b[0;32mdef\u001b[0m \u001b[0m_acquire_request_slot\u001b[0m\u001b[0;34m(\u001b[0m\u001b[0mself\u001b[0m\u001b[0;34m)\u001b[0m\u001b[0;34m:\u001b[0m\u001b[0;34m\u001b[0m\u001b[0;34m\u001b[0m\u001b[0m\n",
      "\u001b[0;31mKeyboardInterrupt\u001b[0m: "
     ]
    }
   ],
   "source": [
    "# creating geocode column Full_Addr \n",
    "geodata['Full_Addr'] = [geocode(Prop_Addr+', Ames, USA') if type(Prop_Addr)==str else None for Prop_Addr in geodata['Prop_Addr']]"
   ]
  },
  {
   "cell_type": "code",
   "execution_count": 2,
   "metadata": {
    "scrolled": true
   },
   "outputs": [
    {
     "ename": "NameError",
     "evalue": "name 'geodata' is not defined",
     "output_type": "error",
     "traceback": [
      "\u001b[0;31m---------------------------------------------------------------------------\u001b[0m",
      "\u001b[0;31mNameError\u001b[0m                                 Traceback (most recent call last)",
      "\u001b[0;32m<ipython-input-2-f8b11683dae2>\u001b[0m in \u001b[0;36m<module>\u001b[0;34m\u001b[0m\n\u001b[0;32m----> 1\u001b[0;31m \u001b[0mgeodata\u001b[0m\u001b[0;34m[\u001b[0m\u001b[0;34m'lat'\u001b[0m\u001b[0;34m]\u001b[0m \u001b[0;34m=\u001b[0m \u001b[0;34m[\u001b[0m\u001b[0mg\u001b[0m\u001b[0;34m.\u001b[0m\u001b[0mlatitude\u001b[0m \u001b[0;32mfor\u001b[0m \u001b[0mg\u001b[0m \u001b[0;32min\u001b[0m \u001b[0mgeodata\u001b[0m\u001b[0;34m.\u001b[0m\u001b[0mFull_Addr\u001b[0m\u001b[0;34m]\u001b[0m\u001b[0;34m\u001b[0m\u001b[0;34m\u001b[0m\u001b[0m\n\u001b[0m\u001b[1;32m      2\u001b[0m \u001b[0;31m# geodata['long'] = [g.longitude for g in df.gcode]\u001b[0m\u001b[0;34m\u001b[0m\u001b[0;34m\u001b[0m\u001b[0;34m\u001b[0m\u001b[0m\n",
      "\u001b[0;31mNameError\u001b[0m: name 'geodata' is not defined"
     ]
    }
   ],
   "source": [
    "# pulling long and lat from Full_Addr to create new separate columns\n",
    "# ERROR - NoneType has no attribute longitude/latitude\n",
    "geodata['lat'] = [g.latitude for g in geodata.Full_Addr]\n",
    "geodata['long'] = [g.longitude for g in geodata.Full_Addr]"
   ]
  },
  {
   "cell_type": "code",
   "execution_count": 1,
   "metadata": {},
   "outputs": [
    {
     "ename": "NameError",
     "evalue": "name 'geodata' is not defined",
     "output_type": "error",
     "traceback": [
      "\u001b[0;31m---------------------------------------------------------------------------\u001b[0m",
      "\u001b[0;31mNameError\u001b[0m                                 Traceback (most recent call last)",
      "\u001b[0;32m<ipython-input-1-a4a386ac675f>\u001b[0m in \u001b[0;36m<module>\u001b[0;34m\u001b[0m\n\u001b[0;32m----> 1\u001b[0;31m \u001b[0mgeodata\u001b[0m\u001b[0;34m[\u001b[0m\u001b[0;34m'Full_Addr'\u001b[0m\u001b[0;34m]\u001b[0m\u001b[0;34m.\u001b[0m\u001b[0mapply\u001b[0m\u001b[0;34m(\u001b[0m\u001b[0;32mlambda\u001b[0m \u001b[0mx\u001b[0m\u001b[0;34m:\u001b[0m \u001b[0mx\u001b[0m\u001b[0;34m.\u001b[0m\u001b[0mlatitude\u001b[0m\u001b[0;34m)\u001b[0m\u001b[0;34m\u001b[0m\u001b[0;34m\u001b[0m\u001b[0m\n\u001b[0m\u001b[1;32m      2\u001b[0m \u001b[0;31m# geodata['longitude'] = geodata['Full_Addr'].map(lambda x: x.longitude)\u001b[0m\u001b[0;34m\u001b[0m\u001b[0;34m\u001b[0m\u001b[0;34m\u001b[0m\u001b[0m\n",
      "\u001b[0;31mNameError\u001b[0m: name 'geodata' is not defined"
     ]
    }
   ],
   "source": [
    "# second attempt at creating separate lat and long columns\n",
    "geodata['latitude'] = geodata['Full_Addr'].map(lambda x: x.latitude)\n",
    "geodata['longitude'] = geodata['Full_Addr'].map(lambda x: x.longitude)"
   ]
  },
  {
   "cell_type": "code",
   "execution_count": 132,
   "metadata": {},
   "outputs": [],
   "source": [
    "# For whatever reason creating longitude and latitude columns from 'test' works\n",
    "# Keeping for debugging reference\n",
    "test = geodata.head()"
   ]
  },
  {
   "cell_type": "code",
   "execution_count": 57,
   "metadata": {},
   "outputs": [
    {
     "name": "stderr",
     "output_type": "stream",
     "text": [
      "<ipython-input-57-3cb7138a7166>:3: SettingWithCopyWarning: \n",
      "A value is trying to be set on a copy of a slice from a DataFrame.\n",
      "Try using .loc[row_indexer,col_indexer] = value instead\n",
      "\n",
      "See the caveats in the documentation: https://pandas.pydata.org/pandas-docs/stable/user_guide/indexing.html#returning-a-view-versus-a-copy\n",
      "  test['locations'] = [geocode(Prop_Addr+', Ames, USA') if type(Prop_Addr)==str else None for Prop_Addr in test['Prop_Addr']]\n"
     ]
    }
   ],
   "source": [
    "locator = Nominatim(user_agent=\"myGeocoder\")\n",
    "geocode = RateLimiter(locator.geocode, min_delay_seconds=1.5)\n",
    "test['locations'] = [geocode(Prop_Addr+', Ames, USA') if type(Prop_Addr)==str else None for Prop_Addr in test['Prop_Addr']]\n",
    "# locations = [geocode(addr+', Ames, USA') if type(addr)==str else None for addr in stree_addresses]"
   ]
  },
  {
   "cell_type": "code",
   "execution_count": 118,
   "metadata": {},
   "outputs": [
    {
     "data": {
      "text/html": [
       "<div>\n",
       "<style scoped>\n",
       "    .dataframe tbody tr th:only-of-type {\n",
       "        vertical-align: middle;\n",
       "    }\n",
       "\n",
       "    .dataframe tbody tr th {\n",
       "        vertical-align: top;\n",
       "    }\n",
       "\n",
       "    .dataframe thead th {\n",
       "        text-align: right;\n",
       "    }\n",
       "</style>\n",
       "<table border=\"1\" class=\"dataframe\">\n",
       "  <thead>\n",
       "    <tr style=\"text-align: right;\">\n",
       "      <th></th>\n",
       "      <th>PID</th>\n",
       "      <th>Prop_Addr</th>\n",
       "      <th>MA_Zip1</th>\n",
       "      <th>Full_Addr</th>\n",
       "    </tr>\n",
       "  </thead>\n",
       "  <tbody>\n",
       "    <tr>\n",
       "      <th>0</th>\n",
       "      <td>909176150</td>\n",
       "      <td>436 HAYWARD AVE</td>\n",
       "      <td>50010.0</td>\n",
       "      <td>(436, Hayward Avenue, Campustown, Ames, Story ...</td>\n",
       "    </tr>\n",
       "    <tr>\n",
       "      <th>1</th>\n",
       "      <td>905476230</td>\n",
       "      <td>3416 WEST ST</td>\n",
       "      <td>50014.0</td>\n",
       "      <td>(3416, West Street, Union Drive, Ames, Story C...</td>\n",
       "    </tr>\n",
       "    <tr>\n",
       "      <th>2</th>\n",
       "      <td>905476230</td>\n",
       "      <td>3416 WEST ST</td>\n",
       "      <td>50014.0</td>\n",
       "      <td>(3416, West Street, Union Drive, Ames, Story C...</td>\n",
       "    </tr>\n",
       "    <tr>\n",
       "      <th>3</th>\n",
       "      <td>535377150</td>\n",
       "      <td>1524 DOUGLAS AVE</td>\n",
       "      <td>50010.0</td>\n",
       "      <td>(1524, Douglas Avenue, Broadmoor, Ames, Story ...</td>\n",
       "    </tr>\n",
       "    <tr>\n",
       "      <th>4</th>\n",
       "      <td>534177230</td>\n",
       "      <td>2304 FILLMORE AVE</td>\n",
       "      <td>50010.0</td>\n",
       "      <td>(2304, Fillmore Avenue, Allenview, Ames, Story...</td>\n",
       "    </tr>\n",
       "  </tbody>\n",
       "</table>\n",
       "</div>"
      ],
      "text/plain": [
       "         PID          Prop_Addr  MA_Zip1  \\\n",
       "0  909176150    436 HAYWARD AVE  50010.0   \n",
       "1  905476230       3416 WEST ST  50014.0   \n",
       "2  905476230       3416 WEST ST  50014.0   \n",
       "3  535377150   1524 DOUGLAS AVE  50010.0   \n",
       "4  534177230  2304 FILLMORE AVE  50010.0   \n",
       "\n",
       "                                           Full_Addr  \n",
       "0  (436, Hayward Avenue, Campustown, Ames, Story ...  \n",
       "1  (3416, West Street, Union Drive, Ames, Story C...  \n",
       "2  (3416, West Street, Union Drive, Ames, Story C...  \n",
       "3  (1524, Douglas Avenue, Broadmoor, Ames, Story ...  \n",
       "4  (2304, Fillmore Avenue, Allenview, Ames, Story...  "
      ]
     },
     "execution_count": 118,
     "metadata": {},
     "output_type": "execute_result"
    }
   ],
   "source": [
    "test"
   ]
  },
  {
   "cell_type": "code",
   "execution_count": 135,
   "metadata": {
    "scrolled": false
   },
   "outputs": [
    {
     "name": "stderr",
     "output_type": "stream",
     "text": [
      "<ipython-input-135-1e1bcc6d3795>:1: SettingWithCopyWarning: \n",
      "A value is trying to be set on a copy of a slice from a DataFrame.\n",
      "Try using .loc[row_indexer,col_indexer] = value instead\n",
      "\n",
      "See the caveats in the documentation: https://pandas.pydata.org/pandas-docs/stable/user_guide/indexing.html#returning-a-view-versus-a-copy\n",
      "  test['latitude'] = test['Full_Addr'].map(lambda x: x.latitude)\n",
      "<ipython-input-135-1e1bcc6d3795>:2: SettingWithCopyWarning: \n",
      "A value is trying to be set on a copy of a slice from a DataFrame.\n",
      "Try using .loc[row_indexer,col_indexer] = value instead\n",
      "\n",
      "See the caveats in the documentation: https://pandas.pydata.org/pandas-docs/stable/user_guide/indexing.html#returning-a-view-versus-a-copy\n",
      "  test['longitude'] = test['Full_Addr'].map(lambda x: x.longitude)\n"
     ]
    }
   ],
   "source": [
    "test['latitude'] = test['Full_Addr'].map(lambda x: x.latitude)\n",
    "test['longitude'] = test['Full_Addr'].map(lambda x: x.longitude)"
   ]
  },
  {
   "cell_type": "code",
   "execution_count": 82,
   "metadata": {},
   "outputs": [],
   "source": [
    "# function to get distance between coordinates of address and Iowa State University\n",
    "from math import sin, cos, sqrt, atan2, radians\n",
    "\n",
    "def get_dist(lat, long):\n",
    "    R = 6373.0\n",
    "    lat1 = radians(42.0267)\n",
    "    long1 = radians(-93.6465)\n",
    "    dlon = radians(long) - long1\n",
    "    dlat = radians(lat) - lat1\n",
    "    a = sin(dlat / 2)**2 + cos(radians(lat)) * cos(lat1) * sin(dlon / 2)**2\n",
    "    c = 2 * atan2(sqrt(a), sqrt(1 - a))\n",
    "    distance = R * c\n",
    "    return distance"
   ]
  },
  {
   "cell_type": "code",
   "execution_count": 83,
   "metadata": {},
   "outputs": [
    {
     "data": {
      "text/plain": [
       "0.9988964828921082"
      ]
     },
     "execution_count": 83,
     "metadata": {},
     "output_type": "execute_result"
    }
   ],
   "source": [
    "get_dist(42.01856448979592, -93.65161918367347)"
   ]
  },
  {
   "cell_type": "code",
   "execution_count": 85,
   "metadata": {},
   "outputs": [
    {
     "name": "stderr",
     "output_type": "stream",
     "text": [
      "<ipython-input-85-aeaa7dbb3483>:1: SettingWithCopyWarning: \n",
      "A value is trying to be set on a copy of a slice from a DataFrame.\n",
      "Try using .loc[row_indexer,col_indexer] = value instead\n",
      "\n",
      "See the caveats in the documentation: https://pandas.pydata.org/pandas-docs/stable/user_guide/indexing.html#returning-a-view-versus-a-copy\n",
      "  test['dist'] = test.apply(lambda x: get_dist(x['latitude'], x['longitude']), axis=1)\n"
     ]
    }
   ],
   "source": [
    "# new column 'dist' in test dataframe\n",
    "test['dist'] = test.apply(lambda x: get_dist(x['latitude'], x['longitude']), axis=1)"
   ]
  },
  {
   "cell_type": "code",
   "execution_count": 86,
   "metadata": {},
   "outputs": [
    {
     "data": {
      "text/html": [
       "<div>\n",
       "<style scoped>\n",
       "    .dataframe tbody tr th:only-of-type {\n",
       "        vertical-align: middle;\n",
       "    }\n",
       "\n",
       "    .dataframe tbody tr th {\n",
       "        vertical-align: top;\n",
       "    }\n",
       "\n",
       "    .dataframe thead th {\n",
       "        text-align: right;\n",
       "    }\n",
       "</style>\n",
       "<table border=\"1\" class=\"dataframe\">\n",
       "  <thead>\n",
       "    <tr style=\"text-align: right;\">\n",
       "      <th></th>\n",
       "      <th>PID</th>\n",
       "      <th>Prop_Addr</th>\n",
       "      <th>MA_Zip1</th>\n",
       "      <th>locations</th>\n",
       "      <th>coords</th>\n",
       "      <th>latitude</th>\n",
       "      <th>longitude</th>\n",
       "      <th>dist</th>\n",
       "    </tr>\n",
       "  </thead>\n",
       "  <tbody>\n",
       "    <tr>\n",
       "      <th>0</th>\n",
       "      <td>909176150</td>\n",
       "      <td>436 HAYWARD AVE</td>\n",
       "      <td>50010.0</td>\n",
       "      <td>(436, Hayward Avenue, Campustown, Ames, Story ...</td>\n",
       "      <td>(42.01856448979592, -93.65161918367347)</td>\n",
       "      <td>42.018564</td>\n",
       "      <td>-93.651619</td>\n",
       "      <td>0.998896</td>\n",
       "    </tr>\n",
       "    <tr>\n",
       "      <th>1</th>\n",
       "      <td>905476230</td>\n",
       "      <td>3416 WEST ST</td>\n",
       "      <td>50014.0</td>\n",
       "      <td>(3416, West Street, Union Drive, Ames, Story C...</td>\n",
       "      <td>(42.024855315930424, -93.66367099341755)</td>\n",
       "      <td>42.024855</td>\n",
       "      <td>-93.663671</td>\n",
       "      <td>1.433537</td>\n",
       "    </tr>\n",
       "    <tr>\n",
       "      <th>2</th>\n",
       "      <td>905476230</td>\n",
       "      <td>3416 WEST ST</td>\n",
       "      <td>50014.0</td>\n",
       "      <td>(3416, West Street, Union Drive, Ames, Story C...</td>\n",
       "      <td>(42.024855315930424, -93.66367099341755)</td>\n",
       "      <td>42.024855</td>\n",
       "      <td>-93.663671</td>\n",
       "      <td>1.433537</td>\n",
       "    </tr>\n",
       "    <tr>\n",
       "      <th>3</th>\n",
       "      <td>535377150</td>\n",
       "      <td>1524 DOUGLAS AVE</td>\n",
       "      <td>50010.0</td>\n",
       "      <td>(1524, Douglas Avenue, Broadmoor, Ames, Story ...</td>\n",
       "      <td>(42.03739146938776, -93.61220695918368)</td>\n",
       "      <td>42.037391</td>\n",
       "      <td>-93.612207</td>\n",
       "      <td>3.072689</td>\n",
       "    </tr>\n",
       "    <tr>\n",
       "      <th>4</th>\n",
       "      <td>534177230</td>\n",
       "      <td>2304 FILLMORE AVE</td>\n",
       "      <td>50010.0</td>\n",
       "      <td>(2304, Fillmore Avenue, Allenview, Ames, Story...</td>\n",
       "      <td>(42.04455376067282, -93.63181831620726)</td>\n",
       "      <td>42.044554</td>\n",
       "      <td>-93.631818</td>\n",
       "      <td>2.326978</td>\n",
       "    </tr>\n",
       "  </tbody>\n",
       "</table>\n",
       "</div>"
      ],
      "text/plain": [
       "         PID          Prop_Addr  MA_Zip1  \\\n",
       "0  909176150    436 HAYWARD AVE  50010.0   \n",
       "1  905476230       3416 WEST ST  50014.0   \n",
       "2  905476230       3416 WEST ST  50014.0   \n",
       "3  535377150   1524 DOUGLAS AVE  50010.0   \n",
       "4  534177230  2304 FILLMORE AVE  50010.0   \n",
       "\n",
       "                                           locations  \\\n",
       "0  (436, Hayward Avenue, Campustown, Ames, Story ...   \n",
       "1  (3416, West Street, Union Drive, Ames, Story C...   \n",
       "2  (3416, West Street, Union Drive, Ames, Story C...   \n",
       "3  (1524, Douglas Avenue, Broadmoor, Ames, Story ...   \n",
       "4  (2304, Fillmore Avenue, Allenview, Ames, Story...   \n",
       "\n",
       "                                     coords   latitude  longitude      dist  \n",
       "0   (42.01856448979592, -93.65161918367347)  42.018564 -93.651619  0.998896  \n",
       "1  (42.024855315930424, -93.66367099341755)  42.024855 -93.663671  1.433537  \n",
       "2  (42.024855315930424, -93.66367099341755)  42.024855 -93.663671  1.433537  \n",
       "3   (42.03739146938776, -93.61220695918368)  42.037391 -93.612207  3.072689  \n",
       "4   (42.04455376067282, -93.63181831620726)  42.044554 -93.631818  2.326978  "
      ]
     },
     "execution_count": 86,
     "metadata": {},
     "output_type": "execute_result"
    }
   ],
   "source": [
    "test"
   ]
  },
  {
   "cell_type": "markdown",
   "metadata": {},
   "source": [
    "# SPLIT DATA "
   ]
  },
  {
   "cell_type": "code",
   "execution_count": 22,
   "metadata": {},
   "outputs": [
    {
     "data": {
      "text/html": [
       "<div>\n",
       "<style scoped>\n",
       "    .dataframe tbody tr th:only-of-type {\n",
       "        vertical-align: middle;\n",
       "    }\n",
       "\n",
       "    .dataframe tbody tr th {\n",
       "        vertical-align: top;\n",
       "    }\n",
       "\n",
       "    .dataframe thead th {\n",
       "        text-align: right;\n",
       "    }\n",
       "</style>\n",
       "<table border=\"1\" class=\"dataframe\">\n",
       "  <thead>\n",
       "    <tr style=\"text-align: right;\">\n",
       "      <th></th>\n",
       "      <th>PID</th>\n",
       "      <th>Prop_Addr</th>\n",
       "      <th>MA_Zip1</th>\n",
       "    </tr>\n",
       "  </thead>\n",
       "  <tbody>\n",
       "    <tr>\n",
       "      <th>0</th>\n",
       "      <td>909176150</td>\n",
       "      <td>436 HAYWARD AVE</td>\n",
       "      <td>50010.0</td>\n",
       "    </tr>\n",
       "    <tr>\n",
       "      <th>1</th>\n",
       "      <td>905476230</td>\n",
       "      <td>3416 WEST ST</td>\n",
       "      <td>50014.0</td>\n",
       "    </tr>\n",
       "    <tr>\n",
       "      <th>2</th>\n",
       "      <td>905476230</td>\n",
       "      <td>3416 WEST ST</td>\n",
       "      <td>50014.0</td>\n",
       "    </tr>\n",
       "    <tr>\n",
       "      <th>3</th>\n",
       "      <td>535377150</td>\n",
       "      <td>1524 DOUGLAS AVE</td>\n",
       "      <td>50010.0</td>\n",
       "    </tr>\n",
       "    <tr>\n",
       "      <th>4</th>\n",
       "      <td>534177230</td>\n",
       "      <td>2304 FILLMORE AVE</td>\n",
       "      <td>50010.0</td>\n",
       "    </tr>\n",
       "    <tr>\n",
       "      <th>...</th>\n",
       "      <td>...</td>\n",
       "      <td>...</td>\n",
       "      <td>...</td>\n",
       "    </tr>\n",
       "    <tr>\n",
       "      <th>2581</th>\n",
       "      <td>903205040</td>\n",
       "      <td>1021 RIDGEWOOD AVE</td>\n",
       "      <td>50010.0</td>\n",
       "    </tr>\n",
       "    <tr>\n",
       "      <th>2582</th>\n",
       "      <td>905402060</td>\n",
       "      <td>3619 MARY CIR</td>\n",
       "      <td>50014.0</td>\n",
       "    </tr>\n",
       "    <tr>\n",
       "      <th>2583</th>\n",
       "      <td>909275030</td>\n",
       "      <td>2140 SUNSET DR 2142</td>\n",
       "      <td>16801.0</td>\n",
       "    </tr>\n",
       "    <tr>\n",
       "      <th>2584</th>\n",
       "      <td>907192040</td>\n",
       "      <td>5319 CLEMENS BLVD</td>\n",
       "      <td>50014.0</td>\n",
       "    </tr>\n",
       "    <tr>\n",
       "      <th>2585</th>\n",
       "      <td>906223180</td>\n",
       "      <td>1025 VERMONT CT</td>\n",
       "      <td>50014.0</td>\n",
       "    </tr>\n",
       "  </tbody>\n",
       "</table>\n",
       "<p>2586 rows × 3 columns</p>\n",
       "</div>"
      ],
      "text/plain": [
       "            PID            Prop_Addr  MA_Zip1\n",
       "0     909176150      436 HAYWARD AVE  50010.0\n",
       "1     905476230         3416 WEST ST  50014.0\n",
       "2     905476230         3416 WEST ST  50014.0\n",
       "3     535377150     1524 DOUGLAS AVE  50010.0\n",
       "4     534177230    2304 FILLMORE AVE  50010.0\n",
       "...         ...                  ...      ...\n",
       "2581  903205040   1021 RIDGEWOOD AVE  50010.0\n",
       "2582  905402060        3619 MARY CIR  50014.0\n",
       "2583  909275030  2140 SUNSET DR 2142  16801.0\n",
       "2584  907192040    5319 CLEMENS BLVD  50014.0\n",
       "2585  906223180      1025 VERMONT CT  50014.0\n",
       "\n",
       "[2586 rows x 3 columns]"
      ]
     },
     "execution_count": 22,
     "metadata": {},
     "output_type": "execute_result"
    }
   ],
   "source": [
    "geodata"
   ]
  },
  {
   "cell_type": "code",
   "execution_count": null,
   "metadata": {},
   "outputs": [],
   "source": [
    "#1 merge geodata and housing dataframes\n",
    "#2 lat, long, zip, distance "
   ]
  }
 ],
 "metadata": {
  "kernelspec": {
   "display_name": "Python 3",
   "language": "python",
   "name": "python3"
  },
  "language_info": {
   "codemirror_mode": {
    "name": "ipython",
    "version": 3
   },
   "file_extension": ".py",
   "mimetype": "text/x-python",
   "name": "python",
   "nbconvert_exporter": "python",
   "pygments_lexer": "ipython3",
   "version": "3.8.5"
  }
 },
 "nbformat": 4,
 "nbformat_minor": 5
}
