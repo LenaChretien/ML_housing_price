{
 "cells": [
  {
   "cell_type": "markdown",
   "id": "d2a24d04",
   "metadata": {},
   "source": [
    "# EDA for AMES housing prices"
   ]
  },
  {
   "cell_type": "code",
   "execution_count": 93,
   "id": "a253dbea",
   "metadata": {},
   "outputs": [],
   "source": [
    "import numpy as np\n",
    "import pandas as pd\n",
    "from matplotlib import pyplot as plt\n",
    "plt.style.use('ggplot')\n",
    "import seaborn as sns\n",
    "from sklearn.model_selection import train_test_split"
   ]
  },
  {
   "cell_type": "code",
   "execution_count": 2,
   "id": "dd0c5817",
   "metadata": {},
   "outputs": [
    {
     "data": {
      "text/plain": [
       "Index(['Unnamed: 0', 'PID', 'GrLivArea', 'SalePrice', 'MSSubClass', 'MSZoning',\n",
       "       'LotFrontage', 'LotArea', 'Street', 'Alley', 'LotShape', 'LandContour',\n",
       "       'Utilities', 'LotConfig', 'LandSlope', 'Neighborhood', 'Condition1',\n",
       "       'Condition2', 'BldgType', 'HouseStyle', 'OverallQual', 'OverallCond',\n",
       "       'YearBuilt', 'YearRemodAdd', 'RoofStyle', 'RoofMatl', 'Exterior1st',\n",
       "       'Exterior2nd', 'MasVnrType', 'MasVnrArea', 'ExterQual', 'ExterCond',\n",
       "       'Foundation', 'BsmtQual', 'BsmtCond', 'BsmtExposure', 'BsmtFinType1',\n",
       "       'BsmtFinSF1', 'BsmtFinType2', 'BsmtFinSF2', 'BsmtUnfSF', 'TotalBsmtSF',\n",
       "       'Heating', 'HeatingQC', 'CentralAir', 'Electrical', '1stFlrSF',\n",
       "       '2ndFlrSF', 'LowQualFinSF', 'BsmtFullBath', 'BsmtHalfBath', 'FullBath',\n",
       "       'HalfBath', 'BedroomAbvGr', 'KitchenAbvGr', 'KitchenQual',\n",
       "       'TotRmsAbvGrd', 'Functional', 'Fireplaces', 'FireplaceQu', 'GarageType',\n",
       "       'GarageYrBlt', 'GarageFinish', 'GarageCars', 'GarageArea', 'GarageQual',\n",
       "       'GarageCond', 'PavedDrive', 'WoodDeckSF', 'OpenPorchSF',\n",
       "       'EnclosedPorch', '3SsnPorch', 'ScreenPorch', 'PoolArea', 'PoolQC',\n",
       "       'Fence', 'MiscFeature', 'MiscVal', 'MoSold', 'YrSold', 'SaleType',\n",
       "       'SaleCondition'],\n",
       "      dtype='object')"
      ]
     },
     "execution_count": 2,
     "metadata": {},
     "output_type": "execute_result"
    }
   ],
   "source": [
    "housing = pd.read_csv(\"data/Ames_Housing_Price_Data.csv\")\n",
    "housing.shape\n",
    "housing.columns"
   ]
  },
  {
   "cell_type": "code",
   "execution_count": null,
   "id": "66ec4483",
   "metadata": {},
   "outputs": [],
   "source": [
    "uni = housing.PID.unique()\n",
    "uni.shape"
   ]
  },
  {
   "cell_type": "code",
   "execution_count": null,
   "id": "56caac30",
   "metadata": {},
   "outputs": [],
   "source": [
    "realEstate = pd.read_csv(\"data/Ames_Real_Estate_Data.csv\")"
   ]
  },
  {
   "cell_type": "code",
   "execution_count": null,
   "id": "65832eab",
   "metadata": {},
   "outputs": [],
   "source": [
    "realEstate.columns"
   ]
  },
  {
   "cell_type": "code",
   "execution_count": null,
   "id": "7d403f22",
   "metadata": {},
   "outputs": [],
   "source": [
    "hs_na = housing.isna().sum()\n",
    "hs_na = (hs_na[hs_na>10]/housing.shape[0])*100\n",
    "hs_na.plot.bar()"
   ]
  },
  {
   "cell_type": "code",
   "execution_count": null,
   "id": "c960ba18",
   "metadata": {},
   "outputs": [],
   "source": []
  },
  {
   "cell_type": "code",
   "execution_count": null,
   "id": "214d63a7",
   "metadata": {},
   "outputs": [],
   "source": [
    "housingw.columns"
   ]
  },
  {
   "cell_type": "code",
   "execution_count": 82,
   "id": "5574217d",
   "metadata": {},
   "outputs": [
    {
     "name": "stdout",
     "output_type": "stream",
     "text": [
      "AllPub    2559\n",
      "NoSewr       1\n",
      "Name: Utilities, dtype: int64\n"
     ]
    }
   ],
   "source": [
    "#housingw = housing[housing['MSZoning'] !='A (agr)']\n",
    "#housingw = housingw[housingw['MSZoning'] !='I (all)']\n",
    "#housingw = housingw[housingw['MSZoning'] !='C (all)']\n",
    "\n",
    "#housingw.shape\n",
    "#print(housingw['MSZoning'].value_counts())\n",
    "#print(housingw['Neighborhood'].value_counts())\n",
    "#print(housingw['Condition1'].value_counts())\n",
    "#print(housingw['Condition2'].value_counts())\n",
    "#print(housingw['BldgType'].value_counts())\n",
    "#print(housingw['HouseStyle'].value_counts())\n",
    "#print(housingw['OverallQual'].value_counts())\n",
    "#print(housingw['OverallCond'].value_counts())\n",
    "#print(housingw['RoofStyle'].value_counts())\n",
    "#print(housingw['RoofMatl'].value_counts())\n",
    "#print(housingw['Electrical'].value_counts())\n",
    "#print(housingw['FullBath'].value_counts())\n",
    "#print(housingw['HalfBath'].value_counts())\n",
    "#print(housingw['TotRmsAbvGrd'].value_counts())\n",
    "#print(housingw['Functional'].value_counts())\n",
    "#print(housingw['Fireplaces'].value_counts())\n",
    "#print(housingw['FireplaceQu'].value_counts())\n",
    "#print(housingw['GarageType'].value_counts())\n",
    "#print(housingw['GarageCars'].value_counts())\n",
    "#print(housingw['SaleType'].value_counts())\n",
    "#print(housingw['SaleCondition'].value_counts())\n",
    "\n",
    "print(housingw['Utilities'].value_counts())\n",
    "\n",
    "\n",
    "#housingw.boxplot(column ='SalePrice', by = 'MSSubClass')\n",
    "#housingw.boxplot(column ='SalePrice', by = 'Neighborhood')\n",
    "#housingw.boxplot(column ='SalePrice', by = 'HouseStyle')\n",
    "#housingw.boxplot(column ='SalePrice', by = 'RoofMatl')\n",
    "#housingw.boxplot(column ='SalePrice', by = 'MasVnrType')\n",
    "#housingw.boxplot(column ='SalePrice', by = 'KitchenQual')\n",
    "#housingw.boxplot(column ='SalePrice', by = 'TotRmsAbvGrd')\n",
    "#housingw.boxplot(column ='SalePrice', by = 'Functional')\n",
    "#housingw.boxplot(column ='SalePrice', by = 'Fireplaces')\n",
    "#housingw.boxplot(column ='SalePrice', by = 'GarageCars')\n",
    "#housingw.boxplot(column ='SalePrice', by = 'SaleCondition')\n",
    "\n",
    "#bathrm = housingw['FullBath'] + housingw['BsmtFullBath'] + (housingw['HalfBath']*0.5) + (housing['BsmtHalfBath']*0.5)\n",
    "#bathrm.value_counts()\n",
    "\n",
    "#housingw.boxplot(column ='SalePrice', by = 'HeatingQC')\n",
    "#housingw.boxplot(column ='SalePrice', by = 'FullBath')\n",
    "\n",
    "#housingw.boxplot(column ='SalePrice', by = 'MSZoning')\n",
    "#housingw.boxplot(column ='SalePrice', by = 'LotShape')\n",
    "#housingw.boxplot(column ='SalePrice', by = 'LandSlope')\n",
    "#housingw.boxplot(column ='SalePrice', by = 'LandContour')\n",
    "#housingw.boxplot(column ='SalePrice', by = 'CentralAir')\n",
    "\n",
    "#housingw.plot(kind = 'scatter', x = 'PoolArea', y= 'SalePrice')\n",
    "#housingw.plot(kind = 'scatter', x = 'LotFrontage', y= 'SalePrice')\n",
    "#housingw.plot(kind = 'scatter', x = 'LotArea', y= 'SalePrice')\n",
    "#housingw.plot(kind = 'scatter', x = '1stFlrSF', y= 'SalePrice')\n",
    "#housingw.plot(kind = 'scatter', x = '2ndFlrSF', y= 'SalePrice')\n",
    "#housingw.plot(kind = 'scatter', x = 'LowQualFinSF', y= 'SalePrice')\n",
    "#housingw.plot(kind = 'scatter', x = 'GarageArea', y= 'SalePrice')\n",
    "#housingw.plot(kind = 'scatter', x = 'GarageArea', y= 'GarageCars')\n",
    "\n",
    "#housingw.plot(kind = 'scatter', x = 'CentralAir', y= 'SalePrice')\n"
   ]
  },
  {
   "cell_type": "markdown",
   "id": "c4e4ab3b",
   "metadata": {},
   "source": [
    "- Remove columns\n",
    "- Price on map\n",
    "- Encode others\n",
    "- Scatter matrix\n",
    "- Correlation Matrix \n"
   ]
  },
  {
   "cell_type": "markdown",
   "id": "483b4c25",
   "metadata": {},
   "source": [
    "## Remove Columns"
   ]
  },
  {
   "cell_type": "code",
   "execution_count": 87,
   "id": "7adc5bcf",
   "metadata": {},
   "outputs": [
    {
     "data": {
      "text/plain": [
       "(2560, 31)"
      ]
     },
     "execution_count": 87,
     "metadata": {},
     "output_type": "execute_result"
    }
   ],
   "source": [
    "housing = pd.read_csv(\"data/Ames_Housing_Price_Data.csv\")\n",
    "housing = housing[housing['MSZoning'] !='A (agr)']\n",
    "housing = housing[housing['MSZoning'] !='I (all)']\n",
    "housing = housing[housing['MSZoning'] !='C (all)']\n",
    "\n",
    "\n",
    "bathrm = (housing['FullBath'] + housing['BsmtFullBath'] +\n",
    "(housing['HalfBath']*0.5) + (housing['BsmtHalfBath']*0.5))\n",
    "housing['bathrm_cnt'] = bathrm\n",
    "\n",
    "\n",
    "patioSF = (housing['WoodDeckSF'] + housing['OpenPorchSF']+ housing['EnclosedPorch'] + \n",
    "           housing['3SsnPorch'] + housing['ScreenPorch'])\n",
    "housing['patioSF'] = patioSF\n",
    "\n",
    "\n",
    "\n",
    "coldrop=['Alley', 'LotShape', 'LandContour', 'Utilities', 'LotConfig','LandSlope', \n",
    "         'RoofStyle','RoofMatl','Exterior2nd','Exterior1st', 'MasVnrType',\n",
    "         'MasVnrArea','ExterQual','ExterCond','Foundation','BsmtQual','BsmtCond',\n",
    "         'BsmtExposure', 'BsmtFinType1','BsmtFinType2','BsmtFinSF1','BsmtFinSF2',\n",
    "         'Heating','HeatingQC','CentralAir','Electrical',\n",
    "         'FullBath','HalfBath','BsmtHalfBath','BsmtFullBath',\n",
    "         'LowQualFinSF','KitchenAbvGr','Functional','FireplaceQu',\n",
    "         'GarageType','GarageYrBlt','GarageFinish','GarageCars','GarageQual','GarageCond',\n",
    "         'PavedDrive',\n",
    "         'WoodDeckSF','OpenPorchSF','EnclosedPorch','3SsnPorch','ScreenPorch',      \n",
    "         'PoolArea','PoolQC','Fence','MiscFeature','SaleType',\n",
    "         'SaleCondition']\n",
    "\n",
    "\n",
    "housing = housing.drop(coldrop, axis = 1)\n",
    "housing = housing.drop(['Unnamed: 0'], axis =1)\n",
    "housing.shape"
   ]
  },
  {
   "cell_type": "code",
   "execution_count": 88,
   "id": "74cb6a1a",
   "metadata": {},
   "outputs": [
    {
     "data": {
      "text/plain": [
       "Index(['PID', 'GrLivArea', 'SalePrice', 'MSSubClass', 'MSZoning',\n",
       "       'LotFrontage', 'LotArea', 'Street', 'Neighborhood', 'Condition1',\n",
       "       'Condition2', 'BldgType', 'HouseStyle', 'OverallQual', 'OverallCond',\n",
       "       'YearBuilt', 'YearRemodAdd', 'BsmtUnfSF', 'TotalBsmtSF', '1stFlrSF',\n",
       "       '2ndFlrSF', 'BedroomAbvGr', 'KitchenQual', 'TotRmsAbvGrd', 'Fireplaces',\n",
       "       'GarageArea', 'MiscVal', 'MoSold', 'YrSold', 'bathrm_cnt', 'patioSF'],\n",
       "      dtype='object')"
      ]
     },
     "execution_count": 88,
     "metadata": {},
     "output_type": "execute_result"
    }
   ],
   "source": [
    "housing.columns"
   ]
  },
  {
   "cell_type": "code",
   "execution_count": 89,
   "id": "1fe95b31",
   "metadata": {},
   "outputs": [
    {
     "data": {
      "text/plain": [
       "<AxesSubplot:>"
      ]
     },
     "execution_count": 89,
     "metadata": {},
     "output_type": "execute_result"
    },
    {
     "data": {
      "image/png": "[encoded data removed]",
      "text/plain": [
       "<Figure size 432x288 with 1 Axes>"
      ]
     },
     "metadata": {},
     "output_type": "display_data"
    }
   ],
   "source": [
    "hs_na = housing.isna().sum()\n",
    "hs_na = (hs_na[hs_na>10]/housing.shape[0])*100\n",
    "hs_na.plot.bar()"
   ]
  },
  {
   "cell_type": "code",
   "execution_count": 107,
   "id": "e5833b75",
   "metadata": {},
   "outputs": [],
   "source": [
    "realEstate = pd.read_csv(\"data/Ames_Real_Estate_Data.csv\")\n",
    "realEstate = realEstate[['MapRefNo','Prop_Addr','MA_Zip1']]"
   ]
  },
  {
   "cell_type": "code",
   "execution_count": 114,
   "id": "136a634b",
   "metadata": {},
   "outputs": [
    {
     "name": "stdout",
     "output_type": "stream",
     "text": [
      "(2586, 3)\n"
     ]
    },
    {
     "data": {
      "text/plain": [
       "<AxesSubplot:>"
      ]
     },
     "execution_count": 114,
     "metadata": {},
     "output_type": "execute_result"
    },
    {
     "data": {
      "image/png": "[encoded data removed]",
      "text/plain": [
       "<Figure size 432x288 with 1 Axes>"
      ]
     },
     "metadata": {},
     "output_type": "display_data"
    }
   ],
   "source": [
    "geodata = housing.merge(realEstate, left_on = 'PID', right_on = 'MapRefNo')\n",
    "geodata = geodata[['PID','Prop_Addr','MA_Zip1']]\n",
    "print(geodata.shape)\n",
    "geodata.head(10)\n",
    "\n",
    "hs_na = geodata.isna().sum()\n",
    "hs_na.plot.bar()"
   ]
  },
  {
   "cell_type": "code",
   "execution_count": 117,
   "id": "cdb2e474",
   "metadata": {},
   "outputs": [
    {
     "name": "stdout",
     "output_type": "stream",
     "text": [
      "(2559,)\n",
      "(2560, 31)\n",
      "(2559, 31)\n"
     ]
    }
   ],
   "source": [
    "# Check for duplicates\n",
    "uni = housing.PID.unique()\n",
    "uni.shape[0]-housing.shape[0]\n",
    "print(uni.shape)\n",
    "print(housing.shape)\n",
    "\n",
    "#Drop row with duplicate\n",
    "housing = housing.drop_duplicates(subset = 'PID')\n",
    "geodata = geodata\n",
    "print(housing.shape)\n"
   ]
  },
  {
   "cell_type": "markdown",
   "id": "8f55443b",
   "metadata": {},
   "source": [
    "# SPLIT DATA "
   ]
  },
  {
   "cell_type": "code",
   "execution_count": null,
   "id": "6609bc59",
   "metadata": {},
   "outputs": [],
   "source": [
    "train_set,"
   ]
  }
 ],
 "metadata": {
  "kernelspec": {
   "display_name": "Python 3",
   "language": "python",
   "name": "python3"
  },
  "language_info": {
   "codemirror_mode": {
    "name": "ipython",
    "version": 3
   },
   "file_extension": ".py",
   "mimetype": "text/x-python",
   "name": "python",
   "nbconvert_exporter": "python",
   "pygments_lexer": "ipython3",
   "version": "3.8.8"
  }
 },
 "nbformat": 4,
 "nbformat_minor": 5
}
