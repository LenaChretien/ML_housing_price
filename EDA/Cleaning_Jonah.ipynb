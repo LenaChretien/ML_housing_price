{
 "cells": [
  {
   "cell_type": "code",
   "execution_count": 89,
   "id": "9ffa8112",
   "metadata": {},
   "outputs": [],
   "source": [
    "# Loading in libraries\n",
    "import numpy as np\n",
    "import pandas as pd\n",
    "from matplotlib import pyplot as plt\n",
    "plt.style.use('ggplot')\n",
    "import seaborn as sns"
   ]
  },
  {
   "cell_type": "code",
   "execution_count": 90,
   "id": "4d96d8ad",
   "metadata": {},
   "outputs": [],
   "source": [
    "# Reading in train_set csv\n",
    "train = pd.read_csv('train_set.csv')"
   ]
  },
  {
   "cell_type": "code",
   "execution_count": 91,
   "id": "a61ea539",
   "metadata": {
    "scrolled": false
   },
   "outputs": [
    {
     "data": {
      "text/html": [
       "<div>\n",
       "<style scoped>\n",
       "    .dataframe tbody tr th:only-of-type {\n",
       "        vertical-align: middle;\n",
       "    }\n",
       "\n",
       "    .dataframe tbody tr th {\n",
       "        vertical-align: top;\n",
       "    }\n",
       "\n",
       "    .dataframe thead th {\n",
       "        text-align: right;\n",
       "    }\n",
       "</style>\n",
       "<table border=\"1\" class=\"dataframe\">\n",
       "  <thead>\n",
       "    <tr style=\"text-align: right;\">\n",
       "      <th></th>\n",
       "      <th>Unnamed: 0</th>\n",
       "      <th>Unnamed: 0.1</th>\n",
       "      <th>PID</th>\n",
       "      <th>GrLivArea</th>\n",
       "      <th>SalePrice</th>\n",
       "      <th>MSSubClass</th>\n",
       "      <th>MSZoning</th>\n",
       "      <th>LotFrontage</th>\n",
       "      <th>LotArea</th>\n",
       "      <th>Street</th>\n",
       "      <th>...</th>\n",
       "      <th>patioSF</th>\n",
       "      <th>Prop_Addr</th>\n",
       "      <th>Full_Adr</th>\n",
       "      <th>gcode</th>\n",
       "      <th>lat</th>\n",
       "      <th>long</th>\n",
       "      <th>dist</th>\n",
       "      <th>zip</th>\n",
       "      <th>tract</th>\n",
       "      <th>income</th>\n",
       "    </tr>\n",
       "  </thead>\n",
       "  <tbody>\n",
       "    <tr>\n",
       "      <th>0</th>\n",
       "      <td>1971</td>\n",
       "      <td>1971</td>\n",
       "      <td>535180070</td>\n",
       "      <td>1236</td>\n",
       "      <td>134450</td>\n",
       "      <td>20</td>\n",
       "      <td>RL</td>\n",
       "      <td>72.0</td>\n",
       "      <td>10011</td>\n",
       "      <td>Pave</td>\n",
       "      <td>...</td>\n",
       "      <td>0</td>\n",
       "      <td>210 21ST ST</td>\n",
       "      <td>210 21ST ST, Ames, IA</td>\n",
       "      <td>210, 21st Street, Broadmoor, Ames, Story Count...</td>\n",
       "      <td>42.042894</td>\n",
       "      <td>-93.612641</td>\n",
       "      <td>3.326988</td>\n",
       "      <td>50010.0</td>\n",
       "      <td>1.916900e+10</td>\n",
       "      <td>52375.0</td>\n",
       "    </tr>\n",
       "    <tr>\n",
       "      <th>1</th>\n",
       "      <td>1357</td>\n",
       "      <td>1357</td>\n",
       "      <td>908102040</td>\n",
       "      <td>2200</td>\n",
       "      <td>145900</td>\n",
       "      <td>90</td>\n",
       "      <td>RL</td>\n",
       "      <td>67.0</td>\n",
       "      <td>8777</td>\n",
       "      <td>Pave</td>\n",
       "      <td>...</td>\n",
       "      <td>70</td>\n",
       "      <td>234 SOUTH DAKOTA AVE 236</td>\n",
       "      <td>234 SOUTH DAKOTA AVE 236, Ames, IA</td>\n",
       "      <td>234, South Dakota Avenue, Ames, Story County, ...</td>\n",
       "      <td>42.020564</td>\n",
       "      <td>-93.678868</td>\n",
       "      <td>2.760245</td>\n",
       "      <td>50014.0</td>\n",
       "      <td>1.916900e+10</td>\n",
       "      <td>33311.0</td>\n",
       "    </tr>\n",
       "    <tr>\n",
       "      <th>2</th>\n",
       "      <td>357</td>\n",
       "      <td>357</td>\n",
       "      <td>906380170</td>\n",
       "      <td>1220</td>\n",
       "      <td>194000</td>\n",
       "      <td>20</td>\n",
       "      <td>RL</td>\n",
       "      <td>64.0</td>\n",
       "      <td>7406</td>\n",
       "      <td>Pave</td>\n",
       "      <td>...</td>\n",
       "      <td>159</td>\n",
       "      <td>5327 DURANT ST</td>\n",
       "      <td>5327 DURANT ST, Ames, IA</td>\n",
       "      <td>5327, Durant Street, Sunset Ridge, Ames, Story...</td>\n",
       "      <td>42.024622</td>\n",
       "      <td>-93.691352</td>\n",
       "      <td>3.713174</td>\n",
       "      <td>50014.0</td>\n",
       "      <td>1.916900e+10</td>\n",
       "      <td>60833.0</td>\n",
       "    </tr>\n",
       "    <tr>\n",
       "      <th>3</th>\n",
       "      <td>65</td>\n",
       "      <td>65</td>\n",
       "      <td>909250060</td>\n",
       "      <td>2447</td>\n",
       "      <td>169000</td>\n",
       "      <td>50</td>\n",
       "      <td>RL</td>\n",
       "      <td>50.0</td>\n",
       "      <td>9638</td>\n",
       "      <td>Pave</td>\n",
       "      <td>...</td>\n",
       "      <td>430</td>\n",
       "      <td>2320 KNAPP ST</td>\n",
       "      <td>2320 KNAPP ST, Ames, IA</td>\n",
       "      <td>2320, Knapp Street, Union Drive, Ames, Story C...</td>\n",
       "      <td>42.019084</td>\n",
       "      <td>-93.646893</td>\n",
       "      <td>0.847709</td>\n",
       "      <td>50014.0</td>\n",
       "      <td>1.916900e+10</td>\n",
       "      <td>20878.0</td>\n",
       "    </tr>\n",
       "    <tr>\n",
       "      <th>4</th>\n",
       "      <td>1094</td>\n",
       "      <td>1094</td>\n",
       "      <td>534276180</td>\n",
       "      <td>1074</td>\n",
       "      <td>124000</td>\n",
       "      <td>20</td>\n",
       "      <td>RL</td>\n",
       "      <td>74.0</td>\n",
       "      <td>7450</td>\n",
       "      <td>Pave</td>\n",
       "      <td>...</td>\n",
       "      <td>72</td>\n",
       "      <td>2027 FERNDALE AVE</td>\n",
       "      <td>2027 FERNDALE AVE, Ames, IA</td>\n",
       "      <td>2027, Ferndale Avenue, Melrose Park, Ames, Sto...</td>\n",
       "      <td>42.042544</td>\n",
       "      <td>-93.621391</td>\n",
       "      <td>2.721892</td>\n",
       "      <td>50010.0</td>\n",
       "      <td>1.916900e+10</td>\n",
       "      <td>61991.0</td>\n",
       "    </tr>\n",
       "  </tbody>\n",
       "</table>\n",
       "<p>5 rows × 42 columns</p>\n",
       "</div>"
      ],
      "text/plain": [
       "   Unnamed: 0  Unnamed: 0.1        PID  GrLivArea  SalePrice  MSSubClass  \\\n",
       "0        1971          1971  535180070       1236     134450          20   \n",
       "1        1357          1357  908102040       2200     145900          90   \n",
       "2         357           357  906380170       1220     194000          20   \n",
       "3          65            65  909250060       2447     169000          50   \n",
       "4        1094          1094  534276180       1074     124000          20   \n",
       "\n",
       "  MSZoning  LotFrontage  LotArea Street  ... patioSF  \\\n",
       "0       RL         72.0    10011   Pave  ...       0   \n",
       "1       RL         67.0     8777   Pave  ...      70   \n",
       "2       RL         64.0     7406   Pave  ...     159   \n",
       "3       RL         50.0     9638   Pave  ...     430   \n",
       "4       RL         74.0     7450   Pave  ...      72   \n",
       "\n",
       "                  Prop_Addr                            Full_Adr  \\\n",
       "0               210 21ST ST               210 21ST ST, Ames, IA   \n",
       "1  234 SOUTH DAKOTA AVE 236  234 SOUTH DAKOTA AVE 236, Ames, IA   \n",
       "2            5327 DURANT ST            5327 DURANT ST, Ames, IA   \n",
       "3             2320 KNAPP ST             2320 KNAPP ST, Ames, IA   \n",
       "4         2027 FERNDALE AVE         2027 FERNDALE AVE, Ames, IA   \n",
       "\n",
       "                                               gcode        lat       long  \\\n",
       "0  210, 21st Street, Broadmoor, Ames, Story Count...  42.042894 -93.612641   \n",
       "1  234, South Dakota Avenue, Ames, Story County, ...  42.020564 -93.678868   \n",
       "2  5327, Durant Street, Sunset Ridge, Ames, Story...  42.024622 -93.691352   \n",
       "3  2320, Knapp Street, Union Drive, Ames, Story C...  42.019084 -93.646893   \n",
       "4  2027, Ferndale Avenue, Melrose Park, Ames, Sto...  42.042544 -93.621391   \n",
       "\n",
       "       dist      zip         tract   income  \n",
       "0  3.326988  50010.0  1.916900e+10  52375.0  \n",
       "1  2.760245  50014.0  1.916900e+10  33311.0  \n",
       "2  3.713174  50014.0  1.916900e+10  60833.0  \n",
       "3  0.847709  50014.0  1.916900e+10  20878.0  \n",
       "4  2.721892  50010.0  1.916900e+10  61991.0  \n",
       "\n",
       "[5 rows x 42 columns]"
      ]
     },
     "execution_count": 91,
     "metadata": {},
     "output_type": "execute_result"
    }
   ],
   "source": [
    "# Inspect train_set\n",
    "train.head()"
   ]
  },
  {
   "cell_type": "code",
   "execution_count": 92,
   "id": "5a66c093",
   "metadata": {},
   "outputs": [
    {
     "data": {
      "text/plain": [
       "(1984, 42)"
      ]
     },
     "execution_count": 92,
     "metadata": {},
     "output_type": "execute_result"
    }
   ],
   "source": [
    "# Checking original shape\n",
    "train.shape"
   ]
  },
  {
   "cell_type": "code",
   "execution_count": 93,
   "id": "cd190476",
   "metadata": {
    "scrolled": true
   },
   "outputs": [],
   "source": [
    "# Adding dummy variable columns for MSZoning, Keeping MSZoning column as well\n",
    "dummies = pd.get_dummies(train, prefix=['MSZoning'], columns = ['MSZoning'], drop_first = True)\n",
    "dummies = dummies[['PID','MSZoning_RH','MSZoning_RL','MSZoning_RM']]\n",
    "train = train.merge(dummies, left_on = 'PID', right_on = 'PID')"
   ]
  },
  {
   "cell_type": "code",
   "execution_count": 94,
   "id": "687719ca",
   "metadata": {},
   "outputs": [
    {
     "data": {
      "text/plain": [
       "(1984, 45)"
      ]
     },
     "execution_count": 94,
     "metadata": {},
     "output_type": "execute_result"
    }
   ],
   "source": [
    "# Should see 3 col increase, no row decrease\n",
    "train.shape"
   ]
  },
  {
   "cell_type": "code",
   "execution_count": 95,
   "id": "45ae872f",
   "metadata": {},
   "outputs": [],
   "source": [
    "# Creating function to see if Condition1 or Condition2 shows proximity to RR\n",
    "def near_rr(df):\n",
    "    rr = ['RRAe', 'RRAn', 'RRNn','RRNe']\n",
    "    if df['Condition1'] in rr:\n",
    "        return 1\n",
    "    if df['Condition2'] in rr:\n",
    "        return 1\n",
    "    else:\n",
    "        return 0"
   ]
  },
  {
   "cell_type": "code",
   "execution_count": 96,
   "id": "e9f3f8ec",
   "metadata": {},
   "outputs": [],
   "source": [
    "# Creating near RR column\n",
    "train['NearRR'] = train.apply(near_rr, axis =1)"
   ]
  },
  {
   "cell_type": "code",
   "execution_count": 97,
   "id": "d648eb80",
   "metadata": {},
   "outputs": [
    {
     "data": {
      "text/plain": [
       "(1984, 46)"
      ]
     },
     "execution_count": 97,
     "metadata": {},
     "output_type": "execute_result"
    }
   ],
   "source": [
    "# Should see 1 col increase, no row decrease\n",
    "train.shape"
   ]
  },
  {
   "cell_type": "code",
   "execution_count": 98,
   "id": "12993f32",
   "metadata": {},
   "outputs": [],
   "source": [
    "# Creating function to see if Condition1 or Condition2 shows proximity to Positive Feature\n",
    "def near_pos(df):\n",
    "    pos = ['PosA', 'PosN']\n",
    "    if df['Condition1'] in pos:\n",
    "        return 1\n",
    "    if df['Condition2'] in pos:\n",
    "        return 1\n",
    "    else:\n",
    "        return 0"
   ]
  },
  {
   "cell_type": "code",
   "execution_count": 99,
   "id": "4b4bf3ff",
   "metadata": {},
   "outputs": [],
   "source": [
    "# Creating near Positive Feature column\n",
    "train['NearPos'] = train.apply(near_pos, axis = 1)"
   ]
  },
  {
   "cell_type": "code",
   "execution_count": 100,
   "id": "f5e38d20",
   "metadata": {},
   "outputs": [
    {
     "data": {
      "text/plain": [
       "(1984, 47)"
      ]
     },
     "execution_count": 100,
     "metadata": {},
     "output_type": "execute_result"
    }
   ],
   "source": [
    "# Should see 1 col increase, no row decrease\n",
    "train.shape"
   ]
  },
  {
   "cell_type": "code",
   "execution_count": 101,
   "id": "fc9c859c",
   "metadata": {},
   "outputs": [],
   "source": [
    "# Creating function to see if Condition1 or Condition2 shows house is adjacent to arterial road\n",
    "def near_art(df):\n",
    "    art = ['Artery']\n",
    "    if df['Condition1'] in art:\n",
    "        return 1\n",
    "    if df['Condition2'] in art:\n",
    "        return 1\n",
    "    else:\n",
    "        return 0"
   ]
  },
  {
   "cell_type": "code",
   "execution_count": 102,
   "id": "26482b87",
   "metadata": {},
   "outputs": [],
   "source": [
    "# Creating adjacent to arterial road column\n",
    "train['Artery'] = train.apply(near_art, axis = 1)"
   ]
  },
  {
   "cell_type": "code",
   "execution_count": 103,
   "id": "530e5fe1",
   "metadata": {
    "scrolled": true
   },
   "outputs": [
    {
     "data": {
      "text/plain": [
       "(1984, 48)"
      ]
     },
     "execution_count": 103,
     "metadata": {},
     "output_type": "execute_result"
    }
   ],
   "source": [
    "# Should see 1 col increase, no row decrease\n",
    "train.shape"
   ]
  },
  {
   "cell_type": "code",
   "execution_count": 105,
   "id": "edcf4b60",
   "metadata": {},
   "outputs": [],
   "source": [
    "# Function to converting ordinal KitchenQual to number\n",
    "def qual_to_num_kit(df):\n",
    "    if df['KitchenQual'] == 'Po':\n",
    "        return 1\n",
    "    if df['KitchenQual'] == 'Fa':\n",
    "        return 2\n",
    "    if df['KitchenQual'] == 'TA':\n",
    "        return 3\n",
    "    if df['KitchenQual'] == 'Gd':\n",
    "        return 4\n",
    "    if df['KitchenQual'] == 'Ex':\n",
    "        return 5"
   ]
  },
  {
   "cell_type": "code",
   "execution_count": 106,
   "id": "2782d287",
   "metadata": {},
   "outputs": [],
   "source": [
    "# Replacing Kitchen Qual string values with numerical\n",
    "train['KitchenQual'] = train.apply(qual_to_num_kit, axis = 1)"
   ]
  },
  {
   "cell_type": "code",
   "execution_count": 111,
   "id": "ad8ed532",
   "metadata": {},
   "outputs": [
    {
     "data": {
      "text/plain": [
       "(1984, 48)"
      ]
     },
     "execution_count": 111,
     "metadata": {},
     "output_type": "execute_result"
    }
   ],
   "source": [
    "# Should see no col increase\n",
    "train.shape"
   ]
  }
 ],
 "metadata": {
  "kernelspec": {
   "display_name": "Python 3",
   "language": "python",
   "name": "python3"
  },
  "language_info": {
   "codemirror_mode": {
    "name": "ipython",
    "version": 3
   },
   "file_extension": ".py",
   "mimetype": "text/x-python",
   "name": "python",
   "nbconvert_exporter": "python",
   "pygments_lexer": "ipython3",
   "version": "3.8.8"
  }
 },
 "nbformat": 4,
 "nbformat_minor": 5
}
