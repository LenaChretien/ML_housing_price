{
 "cells": [
  {
   "cell_type": "markdown",
   "id": "22d597ba",
   "metadata": {},
   "source": [
    "# EDA for AMES housing prices"
   ]
  },
  {
   "cell_type": "code",
   "execution_count": 2,
   "id": "49aa502a",
   "metadata": {},
   "outputs": [],
   "source": [
    "import numpy as np\n",
    "import pandas as pd\n",
    "from matplotlib import pyplot as plt\n",
    "plt.style.use('ggplot')\n",
    "import seaborn as sns\n",
    "from sklearn.model_selection import train_test_split"
   ]
  },
  {
   "cell_type": "code",
   "execution_count": 61,
   "id": "76526a4f",
   "metadata": {},
   "outputs": [
    {
     "data": {
      "text/plain": [
       "Index(['Unnamed: 0', 'PID', 'GrLivArea', 'SalePrice', 'MSSubClass', 'MSZoning',\n",
       "       'LotFrontage', 'LotArea', 'Street', 'Alley', 'LotShape', 'LandContour',\n",
       "       'Utilities', 'LotConfig', 'LandSlope', 'Neighborhood', 'Condition1',\n",
       "       'Condition2', 'BldgType', 'HouseStyle', 'OverallQual', 'OverallCond',\n",
       "       'YearBuilt', 'YearRemodAdd', 'RoofStyle', 'RoofMatl', 'Exterior1st',\n",
       "       'Exterior2nd', 'MasVnrType', 'MasVnrArea', 'ExterQual', 'ExterCond',\n",
       "       'Foundation', 'BsmtQual', 'BsmtCond', 'BsmtExposure', 'BsmtFinType1',\n",
       "       'BsmtFinSF1', 'BsmtFinType2', 'BsmtFinSF2', 'BsmtUnfSF', 'TotalBsmtSF',\n",
       "       'Heating', 'HeatingQC', 'CentralAir', 'Electrical', '1stFlrSF',\n",
       "       '2ndFlrSF', 'LowQualFinSF', 'BsmtFullBath', 'BsmtHalfBath', 'FullBath',\n",
       "       'HalfBath', 'BedroomAbvGr', 'KitchenAbvGr', 'KitchenQual',\n",
       "       'TotRmsAbvGrd', 'Functional', 'Fireplaces', 'FireplaceQu', 'GarageType',\n",
       "       'GarageYrBlt', 'GarageFinish', 'GarageCars', 'GarageArea', 'GarageQual',\n",
       "       'GarageCond', 'PavedDrive', 'WoodDeckSF', 'OpenPorchSF',\n",
       "       'EnclosedPorch', '3SsnPorch', 'ScreenPorch', 'PoolArea', 'PoolQC',\n",
       "       'Fence', 'MiscFeature', 'MiscVal', 'MoSold', 'YrSold', 'SaleType',\n",
       "       'SaleCondition'],\n",
       "      dtype='object')"
      ]
     },
     "execution_count": 61,
     "metadata": {},
     "output_type": "execute_result"
    }
   ],
   "source": [
    "housing = pd.read_csv(\"ML_housing_price/data/Ames_Housing_Price_Data.csv\")\n",
    "housing.shape\n",
    "housing.columns"
   ]
  },
  {
   "cell_type": "code",
   "execution_count": 62,
   "id": "06210711",
   "metadata": {},
   "outputs": [
    {
     "data": {
      "text/plain": [
       "(2579,)"
      ]
     },
     "execution_count": 62,
     "metadata": {},
     "output_type": "execute_result"
    }
   ],
   "source": [
    "uni = housing.PID.unique()\n",
    "uni.shape"
   ]
  },
  {
   "cell_type": "code",
   "execution_count": 63,
   "id": "141dc8bd",
   "metadata": {},
   "outputs": [
    {
     "data": {
      "text/plain": [
       "<AxesSubplot:>"
      ]
     },
     "execution_count": 63,
     "metadata": {},
     "output_type": "execute_result"
    },
    {
     "data": {
      "image/png": "[encoded data removed]",
      "text/plain": [
       "<Figure size 432x288 with 1 Axes>"
      ]
     },
     "metadata": {},
     "output_type": "display_data"
    }
   ],
   "source": [
    "hs_na = housing.isna().sum()\n",
    "hs_na = (hs_na[hs_na>10]/housing.shape[0])*100\n",
    "hs_na.plot.bar()"
   ]
  },
  {
   "cell_type": "code",
   "execution_count": 13,
   "id": "ee9e01ce",
   "metadata": {},
   "outputs": [],
   "source": [
    "# housingw.columns"
   ]
  },
  {
   "cell_type": "code",
   "execution_count": 15,
   "id": "dbd9db82",
   "metadata": {},
   "outputs": [],
   "source": [
    "#housingw = housing[housing['MSZoning'] !='A (agr)']\n",
    "#housingw = housingw[housingw['MSZoning'] !='I (all)']\n",
    "#housingw = housingw[housingw['MSZoning'] !='C (all)']\n",
    "\n",
    "#housingw.shape\n",
    "#print(housingw['MSZoning'].value_counts())\n",
    "#print(housingw['Neighborhood'].value_counts())\n",
    "#print(housingw['Condition1'].value_counts())\n",
    "#print(housingw['Condition2'].value_counts())\n",
    "#print(housingw['BldgType'].value_counts())\n",
    "#print(housingw['HouseStyle'].value_counts())\n",
    "#print(housingw['OverallQual'].value_counts())\n",
    "#print(housingw['OverallCond'].value_counts())\n",
    "#print(housingw['RoofStyle'].value_counts())\n",
    "#print(housingw['RoofMatl'].value_counts())\n",
    "#print(housingw['Electrical'].value_counts())\n",
    "#print(housingw['FullBath'].value_counts())\n",
    "#print(housingw['HalfBath'].value_counts())\n",
    "#print(housingw['TotRmsAbvGrd'].value_counts())\n",
    "#print(housingw['Functional'].value_counts())\n",
    "#print(housingw['Fireplaces'].value_counts())\n",
    "#print(housingw['FireplaceQu'].value_counts())\n",
    "#print(housingw['GarageType'].value_counts())\n",
    "#print(housingw['GarageCars'].value_counts())\n",
    "#print(housingw['SaleType'].value_counts())\n",
    "#print(housingw['SaleCondition'].value_counts())\n",
    "\n",
    "# print(housingw['Utilities'].value_counts())\n",
    "\n",
    "\n",
    "#housingw.boxplot(column ='SalePrice', by = 'MSSubClass')\n",
    "#housingw.boxplot(column ='SalePrice', by = 'Neighborhood')\n",
    "#housingw.boxplot(column ='SalePrice', by = 'HouseStyle')\n",
    "#housingw.boxplot(column ='SalePrice', by = 'RoofMatl')\n",
    "#housingw.boxplot(column ='SalePrice', by = 'MasVnrType')\n",
    "#housingw.boxplot(column ='SalePrice', by = 'KitchenQual')\n",
    "#housingw.boxplot(column ='SalePrice', by = 'TotRmsAbvGrd')\n",
    "#housingw.boxplot(column ='SalePrice', by = 'Functional')\n",
    "#housingw.boxplot(column ='SalePrice', by = 'Fireplaces')\n",
    "#housingw.boxplot(column ='SalePrice', by = 'GarageCars')\n",
    "#housingw.boxplot(column ='SalePrice', by = 'SaleCondition')\n",
    "\n",
    "#bathrm = housingw['FullBath'] + housingw['BsmtFullBath'] + (housingw['HalfBath']*0.5) + (housing['BsmtHalfBath']*0.5)\n",
    "#bathrm.value_counts()\n",
    "\n",
    "#housingw.boxplot(column ='SalePrice', by = 'HeatingQC')\n",
    "#housingw.boxplot(column ='SalePrice', by = 'FullBath')\n",
    "\n",
    "#housingw.boxplot(column ='SalePrice', by = 'MSZoning')\n",
    "#housingw.boxplot(column ='SalePrice', by = 'LotShape')\n",
    "#housingw.boxplot(column ='SalePrice', by = 'LandSlope')\n",
    "#housingw.boxplot(column ='SalePrice', by = 'LandContour')\n",
    "#housingw.boxplot(column ='SalePrice', by = 'CentralAir')\n",
    "\n",
    "#housingw.plot(kind = 'scatter', x = 'PoolArea', y= 'SalePrice')\n",
    "#housingw.plot(kind = 'scatter', x = 'LotFrontage', y= 'SalePrice')\n",
    "#housingw.plot(kind = 'scatter', x = 'LotArea', y= 'SalePrice')\n",
    "#housingw.plot(kind = 'scatter', x = '1stFlrSF', y= 'SalePrice')\n",
    "#housingw.plot(kind = 'scatter', x = '2ndFlrSF', y= 'SalePrice')\n",
    "#housingw.plot(kind = 'scatter', x = 'LowQualFinSF', y= 'SalePrice')\n",
    "#housingw.plot(kind = 'scatter', x = 'GarageArea', y= 'SalePrice')\n",
    "#housingw.plot(kind = 'scatter', x = 'GarageArea', y= 'GarageCars')\n",
    "\n",
    "#housingw.plot(kind = 'scatter', x = 'CentralAir', y= 'SalePrice')\n"
   ]
  },
  {
   "cell_type": "markdown",
   "id": "515d231b",
   "metadata": {},
   "source": [
    "- Remove columns\n",
    "- Price on map\n",
    "- Encode others\n",
    "- Scatter matrix\n",
    "- Correlation Matrix \n"
   ]
  },
  {
   "cell_type": "markdown",
   "id": "83eab6d2",
   "metadata": {},
   "source": [
    "## Remove Columns"
   ]
  },
  {
   "cell_type": "code",
   "execution_count": 296,
   "id": "6a7bc4d9",
   "metadata": {},
   "outputs": [
    {
     "data": {
      "text/plain": [
       "(2560, 31)"
      ]
     },
     "execution_count": 296,
     "metadata": {},
     "output_type": "execute_result"
    }
   ],
   "source": [
    "housing = pd.read_csv(\"ML_housing_price/data/Ames_Housing_Price_Data.csv\")\n",
    "housing = housing[housing['MSZoning'] !='A (agr)']\n",
    "housing = housing[housing['MSZoning'] !='I (all)']\n",
    "housing = housing[housing['MSZoning'] !='C (all)']\n",
    "\n",
    "\n",
    "bathrm = (housing['FullBath'] + housing['BsmtFullBath'] +\n",
    "(housing['HalfBath']*0.5) + (housing['BsmtHalfBath']*0.5))\n",
    "housing['bathrm_cnt'] = bathrm\n",
    "\n",
    "\n",
    "patioSF = (housing['WoodDeckSF'] + housing['OpenPorchSF']+ housing['EnclosedPorch'] + \n",
    "           housing['3SsnPorch'] + housing['ScreenPorch'])\n",
    "housing['patioSF'] = patioSF\n",
    "\n",
    "\n",
    "\n",
    "coldrop=['Alley', 'LotShape', 'LandContour', 'Utilities', 'LotConfig','LandSlope', \n",
    "         'RoofStyle','RoofMatl','Exterior2nd','Exterior1st', 'MasVnrType',\n",
    "         'MasVnrArea','ExterQual','ExterCond','Foundation','BsmtQual','BsmtCond',\n",
    "         'BsmtExposure', 'BsmtFinType1','BsmtFinType2','BsmtFinSF1','BsmtFinSF2',\n",
    "         'Heating','HeatingQC','CentralAir','Electrical',\n",
    "         'FullBath','HalfBath','BsmtHalfBath','BsmtFullBath',\n",
    "         'LowQualFinSF','KitchenAbvGr','Functional','FireplaceQu',\n",
    "         'GarageType','GarageYrBlt','GarageFinish','GarageCars','GarageQual','GarageCond',\n",
    "         'PavedDrive',\n",
    "         'WoodDeckSF','OpenPorchSF','EnclosedPorch','3SsnPorch','ScreenPorch',      \n",
    "         'PoolArea','PoolQC','Fence','MiscFeature','SaleType',\n",
    "         'SaleCondition']\n",
    "\n",
    "\n",
    "housing = housing.drop(coldrop, axis = 1)\n",
    "housing = housing.drop(['Unnamed: 0'], axis =1)\n",
    "housing.shape"
   ]
  },
  {
   "cell_type": "code",
   "execution_count": 65,
   "id": "c3a0ae37",
   "metadata": {},
   "outputs": [
    {
     "data": {
      "text/plain": [
       "Index(['PID', 'GrLivArea', 'SalePrice', 'MSSubClass', 'MSZoning',\n",
       "       'LotFrontage', 'LotArea', 'Street', 'Neighborhood', 'Condition1',\n",
       "       'Condition2', 'BldgType', 'HouseStyle', 'OverallQual', 'OverallCond',\n",
       "       'YearBuilt', 'YearRemodAdd', 'BsmtUnfSF', 'TotalBsmtSF', '1stFlrSF',\n",
       "       '2ndFlrSF', 'BedroomAbvGr', 'KitchenQual', 'TotRmsAbvGrd', 'Fireplaces',\n",
       "       'GarageArea', 'MiscVal', 'MoSold', 'YrSold', 'bathrm_cnt', 'patioSF'],\n",
       "      dtype='object')"
      ]
     },
     "execution_count": 65,
     "metadata": {},
     "output_type": "execute_result"
    }
   ],
   "source": [
    "housing.columns"
   ]
  },
  {
   "cell_type": "code",
   "execution_count": 66,
   "id": "8f168d1a",
   "metadata": {},
   "outputs": [
    {
     "data": {
      "text/plain": [
       "<AxesSubplot:>"
      ]
     },
     "execution_count": 66,
     "metadata": {},
     "output_type": "execute_result"
    },
    {
     "data": {
      "image/png": "[encoded data removed]",
      "text/plain": [
       "<Figure size 432x288 with 1 Axes>"
      ]
     },
     "metadata": {},
     "output_type": "display_data"
    }
   ],
   "source": [
    "hs_na = housing.isna().sum()\n",
    "hs_na = (hs_na[hs_na>10]/housing.shape[0])*100\n",
    "hs_na.plot.bar()"
   ]
  },
  {
   "cell_type": "code",
   "execution_count": 67,
   "id": "2ea9897f",
   "metadata": {},
   "outputs": [
    {
     "name": "stderr",
     "output_type": "stream",
     "text": [
      "/Users/Lena/opt/anaconda3/lib/python3.8/site-packages/IPython/core/interactiveshell.py:3165: DtypeWarning: Columns (36,40,81,87) have mixed types.Specify dtype option on import or set low_memory=False.\n",
      "  has_raised = await self.run_ast_nodes(code_ast.body, cell_name,\n"
     ]
    }
   ],
   "source": [
    "realEstate = pd.read_csv(\"ML_housing_price/data/Ames_Real_Estate_Data.csv\")\n",
    "realEstate = realEstate[['MapRefNo','Prop_Addr','MA_Zip1']]"
   ]
  },
  {
   "cell_type": "code",
   "execution_count": 68,
   "id": "c5a48e31",
   "metadata": {},
   "outputs": [
    {
     "name": "stdout",
     "output_type": "stream",
     "text": [
      "(2586, 3)\n"
     ]
    },
    {
     "data": {
      "text/plain": [
       "PID          0\n",
       "Prop_Addr    0\n",
       "MA_Zip1      3\n",
       "dtype: int64"
      ]
     },
     "execution_count": 68,
     "metadata": {},
     "output_type": "execute_result"
    },
    {
     "data": {
      "image/png": "[encoded data removed]",
      "text/plain": [
       "<Figure size 432x288 with 1 Axes>"
      ]
     },
     "metadata": {},
     "output_type": "display_data"
    }
   ],
   "source": [
    "geodata = housing.merge(realEstate, left_on = 'PID', right_on = 'MapRefNo')\n",
    "geodata = geodata[['PID','Prop_Addr','MA_Zip1']]\n",
    "print(geodata.shape)\n",
    "geodata.head(10)\n",
    "\n",
    "hs_na = geodata.isna().sum()\n",
    "hs_na.plot.bar()\n",
    "hs_na"
   ]
  },
  {
   "cell_type": "markdown",
   "id": "613e3728",
   "metadata": {},
   "source": [
    "# Distance to University"
   ]
  },
  {
   "cell_type": "code",
   "execution_count": 69,
   "id": "dc5f4377",
   "metadata": {},
   "outputs": [
    {
     "data": {
      "text/plain": [
       "(array([3.000e+00, 7.000e+00, 4.000e+00, 6.000e+00, 2.433e+03, 1.070e+02,\n",
       "        6.000e+00, 2.000e+00, 9.000e+00, 6.000e+00]),\n",
       " array([  783. , 10656.3, 20529.6, 30402.9, 40276.2, 50149.5, 60022.8,\n",
       "        69896.1, 79769.4, 89642.7, 99516. ]),\n",
       " <BarContainer object of 10 artists>)"
      ]
     },
     "execution_count": 69,
     "metadata": {},
     "output_type": "execute_result"
    },
    {
     "data": {
      "image/png": "[encoded data removed]",
      "text/plain": [
       "<Figure size 432x288 with 1 Axes>"
      ]
     },
     "metadata": {},
     "output_type": "display_data"
    }
   ],
   "source": [
    "geodata\n",
    "uni = geodata.MA_Zip1.unique()\n",
    "\n",
    "uni\n",
    "\n",
    "plt.hist(geodata.MA_Zip1)"
   ]
  },
  {
   "cell_type": "code",
   "execution_count": 70,
   "id": "be4e1efe",
   "metadata": {},
   "outputs": [],
   "source": [
    "import geopy\n",
    "from geopy import Nominatim\n",
    "from geopy.extra.rate_limiter import RateLimiter\n",
    "from geopy.distance import geodesic"
   ]
  },
  {
   "cell_type": "code",
   "execution_count": 71,
   "id": "5297648d",
   "metadata": {},
   "outputs": [],
   "source": [
    "# initializing locator and geocode\n",
    "locator = Nominatim(user_agent=\"myGeocoder\")\n",
    "geocode = RateLimiter(locator.geocode, min_delay_seconds=1.3)\n",
    "\n",
    "geodata.head()\n",
    "geodata['Full_Adr'] = geodata['Prop_Addr'] + ', Ames, IA'\n",
    "geodata.head()\n",
    "\n",
    "\n",
    "\n",
    "df1 = geodata.iloc[:100, :]\n",
    "df2 = geodata.iloc[100:200, :]\n",
    "df3 = geodata.iloc[200:300, :]\n",
    "df4 = geodata.iloc[300:400, :]\n",
    "df5 = geodata.iloc[400:500, :]\n",
    "df6 = geodata.iloc[500:600, :]\n",
    "df7 = geodata.iloc[600:700, :]\n",
    "df8 = geodata.iloc[700:800, :]\n",
    "df9 = geodata.iloc[800:900, :]\n",
    "df10 = geodata.iloc[900:1000, :]\n",
    "df11 = geodata.iloc[1000:1100, :]\n",
    "df12 = geodata.iloc[1100:1200, :]\n",
    "df13 = geodata.iloc[1200:1300, :]\n",
    "df14 = geodata.iloc[1300:1400, :]\n",
    "df15 = geodata.iloc[1400:1500, :]\n",
    "df16 = geodata.iloc[1500:1600, :]\n",
    "df17 = geodata.iloc[1600:1700, :]\n",
    "df18 = geodata.iloc[1700:1800, :]\n",
    "df19 = geodata.iloc[1800:1900, :]\n",
    "df20 = geodata.iloc[1900:2000, :]\n",
    "df21 = geodata.iloc[2000:2100, :]\n",
    "df22 = geodata.iloc[2100:2200, :]\n",
    "df23 = geodata.iloc[2200:2300, :]\n",
    "df24 = geodata.iloc[2300:2400, :]\n",
    "df25 = geodata.iloc[2400:2500, :]\n",
    "df26 = geodata.iloc[2500:, :]\n"
   ]
  },
  {
   "cell_type": "code",
   "execution_count": 72,
   "id": "36e56b13",
   "metadata": {},
   "outputs": [
    {
     "name": "stderr",
     "output_type": "stream",
     "text": [
      "<ipython-input-72-a6d6f469ca90>:1: SettingWithCopyWarning: \n",
      "A value is trying to be set on a copy of a slice from a DataFrame.\n",
      "Try using .loc[row_indexer,col_indexer] = value instead\n",
      "\n",
      "See the caveats in the documentation: https://pandas.pydata.org/pandas-docs/stable/user_guide/indexing.html#returning-a-view-versus-a-copy\n",
      "  df1['gcode'] = df1['Full_Adr'].apply(geocode)\n"
     ]
    },
    {
     "name": "stdout",
     "output_type": "stream",
     "text": [
      "df1 done\n"
     ]
    },
    {
     "name": "stderr",
     "output_type": "stream",
     "text": [
      "<ipython-input-72-a6d6f469ca90>:3: SettingWithCopyWarning: \n",
      "A value is trying to be set on a copy of a slice from a DataFrame.\n",
      "Try using .loc[row_indexer,col_indexer] = value instead\n",
      "\n",
      "See the caveats in the documentation: https://pandas.pydata.org/pandas-docs/stable/user_guide/indexing.html#returning-a-view-versus-a-copy\n",
      "  df2['gcode'] = df2['Full_Adr'].apply(geocode)\n"
     ]
    },
    {
     "name": "stdout",
     "output_type": "stream",
     "text": [
      "df2 done\n"
     ]
    },
    {
     "name": "stderr",
     "output_type": "stream",
     "text": [
      "<ipython-input-72-a6d6f469ca90>:5: SettingWithCopyWarning: \n",
      "A value is trying to be set on a copy of a slice from a DataFrame.\n",
      "Try using .loc[row_indexer,col_indexer] = value instead\n",
      "\n",
      "See the caveats in the documentation: https://pandas.pydata.org/pandas-docs/stable/user_guide/indexing.html#returning-a-view-versus-a-copy\n",
      "  df3['gcode'] = df3['Full_Adr'].apply(geocode)\n"
     ]
    },
    {
     "name": "stdout",
     "output_type": "stream",
     "text": [
      "df3 done\n"
     ]
    },
    {
     "name": "stderr",
     "output_type": "stream",
     "text": [
      "<ipython-input-72-a6d6f469ca90>:7: SettingWithCopyWarning: \n",
      "A value is trying to be set on a copy of a slice from a DataFrame.\n",
      "Try using .loc[row_indexer,col_indexer] = value instead\n",
      "\n",
      "See the caveats in the documentation: https://pandas.pydata.org/pandas-docs/stable/user_guide/indexing.html#returning-a-view-versus-a-copy\n",
      "  df4['gcode'] = df4['Full_Adr'].apply(geocode)\n"
     ]
    },
    {
     "name": "stdout",
     "output_type": "stream",
     "text": [
      "df4 done\n"
     ]
    },
    {
     "name": "stderr",
     "output_type": "stream",
     "text": [
      "<ipython-input-72-a6d6f469ca90>:9: SettingWithCopyWarning: \n",
      "A value is trying to be set on a copy of a slice from a DataFrame.\n",
      "Try using .loc[row_indexer,col_indexer] = value instead\n",
      "\n",
      "See the caveats in the documentation: https://pandas.pydata.org/pandas-docs/stable/user_guide/indexing.html#returning-a-view-versus-a-copy\n",
      "  df5['gcode'] = df5['Full_Adr'].apply(geocode)\n"
     ]
    },
    {
     "name": "stdout",
     "output_type": "stream",
     "text": [
      "df5 done\n"
     ]
    },
    {
     "name": "stderr",
     "output_type": "stream",
     "text": [
      "<ipython-input-72-a6d6f469ca90>:11: SettingWithCopyWarning: \n",
      "A value is trying to be set on a copy of a slice from a DataFrame.\n",
      "Try using .loc[row_indexer,col_indexer] = value instead\n",
      "\n",
      "See the caveats in the documentation: https://pandas.pydata.org/pandas-docs/stable/user_guide/indexing.html#returning-a-view-versus-a-copy\n",
      "  df6['gcode'] = df6['Full_Adr'].apply(geocode)\n"
     ]
    },
    {
     "name": "stdout",
     "output_type": "stream",
     "text": [
      "df6 done\n"
     ]
    },
    {
     "name": "stderr",
     "output_type": "stream",
     "text": [
      "<ipython-input-72-a6d6f469ca90>:13: SettingWithCopyWarning: \n",
      "A value is trying to be set on a copy of a slice from a DataFrame.\n",
      "Try using .loc[row_indexer,col_indexer] = value instead\n",
      "\n",
      "See the caveats in the documentation: https://pandas.pydata.org/pandas-docs/stable/user_guide/indexing.html#returning-a-view-versus-a-copy\n",
      "  df7['gcode'] = df7['Full_Adr'].apply(geocode)\n"
     ]
    },
    {
     "name": "stdout",
     "output_type": "stream",
     "text": [
      "df7 done\n"
     ]
    },
    {
     "name": "stderr",
     "output_type": "stream",
     "text": [
      "<ipython-input-72-a6d6f469ca90>:15: SettingWithCopyWarning: \n",
      "A value is trying to be set on a copy of a slice from a DataFrame.\n",
      "Try using .loc[row_indexer,col_indexer] = value instead\n",
      "\n",
      "See the caveats in the documentation: https://pandas.pydata.org/pandas-docs/stable/user_guide/indexing.html#returning-a-view-versus-a-copy\n",
      "  df8['gcode'] = df8['Full_Adr'].apply(geocode)\n"
     ]
    },
    {
     "name": "stdout",
     "output_type": "stream",
     "text": [
      "df8 done\n"
     ]
    },
    {
     "name": "stderr",
     "output_type": "stream",
     "text": [
      "<ipython-input-72-a6d6f469ca90>:17: SettingWithCopyWarning: \n",
      "A value is trying to be set on a copy of a slice from a DataFrame.\n",
      "Try using .loc[row_indexer,col_indexer] = value instead\n",
      "\n",
      "See the caveats in the documentation: https://pandas.pydata.org/pandas-docs/stable/user_guide/indexing.html#returning-a-view-versus-a-copy\n",
      "  df9['gcode'] = df9['Full_Adr'].apply(geocode)\n"
     ]
    },
    {
     "name": "stdout",
     "output_type": "stream",
     "text": [
      "df9 done\n",
      "df10 done\n"
     ]
    },
    {
     "name": "stderr",
     "output_type": "stream",
     "text": [
      "<ipython-input-72-a6d6f469ca90>:19: SettingWithCopyWarning: \n",
      "A value is trying to be set on a copy of a slice from a DataFrame.\n",
      "Try using .loc[row_indexer,col_indexer] = value instead\n",
      "\n",
      "See the caveats in the documentation: https://pandas.pydata.org/pandas-docs/stable/user_guide/indexing.html#returning-a-view-versus-a-copy\n",
      "  df10['gcode'] = df10['Full_Adr'].apply(geocode)\n"
     ]
    }
   ],
   "source": [
    "df1['gcode'] = df1['Full_Adr'].apply(geocode)\n",
    "print(\"df1 done\")\n",
    "df2['gcode'] = df2['Full_Adr'].apply(geocode)\n",
    "print(\"df2 done\")\n",
    "df3['gcode'] = df3['Full_Adr'].apply(geocode)\n",
    "print(\"df3 done\")\n",
    "df4['gcode'] = df4['Full_Adr'].apply(geocode)\n",
    "print(\"df4 done\")\n",
    "df5['gcode'] = df5['Full_Adr'].apply(geocode)\n",
    "print(\"df5 done\")\n",
    "df6['gcode'] = df6['Full_Adr'].apply(geocode)\n",
    "print(\"df6 done\")\n",
    "df7['gcode'] = df7['Full_Adr'].apply(geocode)\n",
    "print(\"df7 done\")\n",
    "df8['gcode'] = df8['Full_Adr'].apply(geocode)\n",
    "print(\"df8 done\")\n",
    "df9['gcode'] = df9['Full_Adr'].apply(geocode)\n",
    "print(\"df9 done\")\n",
    "df10['gcode'] = df10['Full_Adr'].apply(geocode)\n",
    "print(\"df10 done\")"
   ]
  },
  {
   "cell_type": "code",
   "execution_count": 73,
   "id": "0daae79e",
   "metadata": {},
   "outputs": [
    {
     "name": "stderr",
     "output_type": "stream",
     "text": [
      "<ipython-input-73-5e5ad9895505>:1: SettingWithCopyWarning: \n",
      "A value is trying to be set on a copy of a slice from a DataFrame.\n",
      "Try using .loc[row_indexer,col_indexer] = value instead\n",
      "\n",
      "See the caveats in the documentation: https://pandas.pydata.org/pandas-docs/stable/user_guide/indexing.html#returning-a-view-versus-a-copy\n",
      "  df11['gcode'] = df11['Full_Adr'].apply(geocode)\n"
     ]
    },
    {
     "name": "stdout",
     "output_type": "stream",
     "text": [
      "df11 done\n"
     ]
    },
    {
     "name": "stderr",
     "output_type": "stream",
     "text": [
      "<ipython-input-73-5e5ad9895505>:3: SettingWithCopyWarning: \n",
      "A value is trying to be set on a copy of a slice from a DataFrame.\n",
      "Try using .loc[row_indexer,col_indexer] = value instead\n",
      "\n",
      "See the caveats in the documentation: https://pandas.pydata.org/pandas-docs/stable/user_guide/indexing.html#returning-a-view-versus-a-copy\n",
      "  df12['gcode'] = df12['Full_Adr'].apply(geocode)\n"
     ]
    },
    {
     "name": "stdout",
     "output_type": "stream",
     "text": [
      "df12 done\n"
     ]
    },
    {
     "name": "stderr",
     "output_type": "stream",
     "text": [
      "<ipython-input-73-5e5ad9895505>:5: SettingWithCopyWarning: \n",
      "A value is trying to be set on a copy of a slice from a DataFrame.\n",
      "Try using .loc[row_indexer,col_indexer] = value instead\n",
      "\n",
      "See the caveats in the documentation: https://pandas.pydata.org/pandas-docs/stable/user_guide/indexing.html#returning-a-view-versus-a-copy\n",
      "  df13['gcode'] = df13['Full_Adr'].apply(geocode)\n"
     ]
    },
    {
     "name": "stdout",
     "output_type": "stream",
     "text": [
      "df13 done\n"
     ]
    },
    {
     "name": "stderr",
     "output_type": "stream",
     "text": [
      "<ipython-input-73-5e5ad9895505>:7: SettingWithCopyWarning: \n",
      "A value is trying to be set on a copy of a slice from a DataFrame.\n",
      "Try using .loc[row_indexer,col_indexer] = value instead\n",
      "\n",
      "See the caveats in the documentation: https://pandas.pydata.org/pandas-docs/stable/user_guide/indexing.html#returning-a-view-versus-a-copy\n",
      "  df14['gcode'] = df14['Full_Adr'].apply(geocode)\n"
     ]
    },
    {
     "name": "stdout",
     "output_type": "stream",
     "text": [
      "df14 done\n"
     ]
    },
    {
     "name": "stderr",
     "output_type": "stream",
     "text": [
      "<ipython-input-73-5e5ad9895505>:9: SettingWithCopyWarning: \n",
      "A value is trying to be set on a copy of a slice from a DataFrame.\n",
      "Try using .loc[row_indexer,col_indexer] = value instead\n",
      "\n",
      "See the caveats in the documentation: https://pandas.pydata.org/pandas-docs/stable/user_guide/indexing.html#returning-a-view-versus-a-copy\n",
      "  df15['gcode'] = df15['Full_Adr'].apply(geocode)\n"
     ]
    },
    {
     "name": "stdout",
     "output_type": "stream",
     "text": [
      "df15 done\n"
     ]
    },
    {
     "name": "stderr",
     "output_type": "stream",
     "text": [
      "<ipython-input-73-5e5ad9895505>:11: SettingWithCopyWarning: \n",
      "A value is trying to be set on a copy of a slice from a DataFrame.\n",
      "Try using .loc[row_indexer,col_indexer] = value instead\n",
      "\n",
      "See the caveats in the documentation: https://pandas.pydata.org/pandas-docs/stable/user_guide/indexing.html#returning-a-view-versus-a-copy\n",
      "  df16['gcode'] = df16['Full_Adr'].apply(geocode)\n"
     ]
    },
    {
     "name": "stdout",
     "output_type": "stream",
     "text": [
      "df16 done\n"
     ]
    },
    {
     "name": "stderr",
     "output_type": "stream",
     "text": [
      "<ipython-input-73-5e5ad9895505>:13: SettingWithCopyWarning: \n",
      "A value is trying to be set on a copy of a slice from a DataFrame.\n",
      "Try using .loc[row_indexer,col_indexer] = value instead\n",
      "\n",
      "See the caveats in the documentation: https://pandas.pydata.org/pandas-docs/stable/user_guide/indexing.html#returning-a-view-versus-a-copy\n",
      "  df17['gcode'] = df17['Full_Adr'].apply(geocode)\n"
     ]
    },
    {
     "name": "stdout",
     "output_type": "stream",
     "text": [
      "df17 done\n"
     ]
    },
    {
     "name": "stderr",
     "output_type": "stream",
     "text": [
      "<ipython-input-73-5e5ad9895505>:15: SettingWithCopyWarning: \n",
      "A value is trying to be set on a copy of a slice from a DataFrame.\n",
      "Try using .loc[row_indexer,col_indexer] = value instead\n",
      "\n",
      "See the caveats in the documentation: https://pandas.pydata.org/pandas-docs/stable/user_guide/indexing.html#returning-a-view-versus-a-copy\n",
      "  df18['gcode'] = df18['Full_Adr'].apply(geocode)\n"
     ]
    },
    {
     "name": "stdout",
     "output_type": "stream",
     "text": [
      "df18 done\n"
     ]
    },
    {
     "name": "stderr",
     "output_type": "stream",
     "text": [
      "<ipython-input-73-5e5ad9895505>:17: SettingWithCopyWarning: \n",
      "A value is trying to be set on a copy of a slice from a DataFrame.\n",
      "Try using .loc[row_indexer,col_indexer] = value instead\n",
      "\n",
      "See the caveats in the documentation: https://pandas.pydata.org/pandas-docs/stable/user_guide/indexing.html#returning-a-view-versus-a-copy\n",
      "  df19['gcode'] = df19['Full_Adr'].apply(geocode)\n"
     ]
    },
    {
     "name": "stdout",
     "output_type": "stream",
     "text": [
      "df19 done\n",
      "df20 done\n"
     ]
    },
    {
     "name": "stderr",
     "output_type": "stream",
     "text": [
      "<ipython-input-73-5e5ad9895505>:19: SettingWithCopyWarning: \n",
      "A value is trying to be set on a copy of a slice from a DataFrame.\n",
      "Try using .loc[row_indexer,col_indexer] = value instead\n",
      "\n",
      "See the caveats in the documentation: https://pandas.pydata.org/pandas-docs/stable/user_guide/indexing.html#returning-a-view-versus-a-copy\n",
      "  df20['gcode'] = df20['Full_Adr'].apply(geocode)\n"
     ]
    }
   ],
   "source": [
    "df11['gcode'] = df11['Full_Adr'].apply(geocode)\n",
    "print(\"df11 done\")\n",
    "df12['gcode'] = df12['Full_Adr'].apply(geocode)\n",
    "print(\"df12 done\")\n",
    "df13['gcode'] = df13['Full_Adr'].apply(geocode)\n",
    "print(\"df13 done\")\n",
    "df14['gcode'] = df14['Full_Adr'].apply(geocode)\n",
    "print(\"df14 done\")\n",
    "df15['gcode'] = df15['Full_Adr'].apply(geocode)\n",
    "print(\"df15 done\")\n",
    "df16['gcode'] = df16['Full_Adr'].apply(geocode)\n",
    "print(\"df16 done\")\n",
    "df17['gcode'] = df17['Full_Adr'].apply(geocode)\n",
    "print(\"df17 done\")\n",
    "df18['gcode'] = df18['Full_Adr'].apply(geocode)\n",
    "print(\"df18 done\")\n",
    "df19['gcode'] = df19['Full_Adr'].apply(geocode)\n",
    "print(\"df19 done\")\n",
    "df20['gcode'] = df20['Full_Adr'].apply(geocode)\n",
    "print(\"df20 done\")"
   ]
  },
  {
   "cell_type": "code",
   "execution_count": 74,
   "id": "673121a8",
   "metadata": {},
   "outputs": [
    {
     "name": "stderr",
     "output_type": "stream",
     "text": [
      "<ipython-input-74-95b12218cf1e>:1: SettingWithCopyWarning: \n",
      "A value is trying to be set on a copy of a slice from a DataFrame.\n",
      "Try using .loc[row_indexer,col_indexer] = value instead\n",
      "\n",
      "See the caveats in the documentation: https://pandas.pydata.org/pandas-docs/stable/user_guide/indexing.html#returning-a-view-versus-a-copy\n",
      "  df21['gcode'] = df21['Full_Adr'].apply(geocode)\n"
     ]
    },
    {
     "name": "stdout",
     "output_type": "stream",
     "text": [
      "df21 done\n"
     ]
    },
    {
     "name": "stderr",
     "output_type": "stream",
     "text": [
      "<ipython-input-74-95b12218cf1e>:3: SettingWithCopyWarning: \n",
      "A value is trying to be set on a copy of a slice from a DataFrame.\n",
      "Try using .loc[row_indexer,col_indexer] = value instead\n",
      "\n",
      "See the caveats in the documentation: https://pandas.pydata.org/pandas-docs/stable/user_guide/indexing.html#returning-a-view-versus-a-copy\n",
      "  df22['gcode'] = df22['Full_Adr'].apply(geocode)\n"
     ]
    },
    {
     "name": "stdout",
     "output_type": "stream",
     "text": [
      "df22 done\n"
     ]
    },
    {
     "name": "stderr",
     "output_type": "stream",
     "text": [
      "<ipython-input-74-95b12218cf1e>:5: SettingWithCopyWarning: \n",
      "A value is trying to be set on a copy of a slice from a DataFrame.\n",
      "Try using .loc[row_indexer,col_indexer] = value instead\n",
      "\n",
      "See the caveats in the documentation: https://pandas.pydata.org/pandas-docs/stable/user_guide/indexing.html#returning-a-view-versus-a-copy\n",
      "  df23['gcode'] = df23['Full_Adr'].apply(geocode)\n"
     ]
    },
    {
     "name": "stdout",
     "output_type": "stream",
     "text": [
      "df23 done\n"
     ]
    },
    {
     "name": "stderr",
     "output_type": "stream",
     "text": [
      "<ipython-input-74-95b12218cf1e>:7: SettingWithCopyWarning: \n",
      "A value is trying to be set on a copy of a slice from a DataFrame.\n",
      "Try using .loc[row_indexer,col_indexer] = value instead\n",
      "\n",
      "See the caveats in the documentation: https://pandas.pydata.org/pandas-docs/stable/user_guide/indexing.html#returning-a-view-versus-a-copy\n",
      "  df24['gcode'] = df24['Full_Adr'].apply(geocode)\n"
     ]
    },
    {
     "name": "stdout",
     "output_type": "stream",
     "text": [
      "df24 done\n"
     ]
    },
    {
     "name": "stderr",
     "output_type": "stream",
     "text": [
      "<ipython-input-74-95b12218cf1e>:9: SettingWithCopyWarning: \n",
      "A value is trying to be set on a copy of a slice from a DataFrame.\n",
      "Try using .loc[row_indexer,col_indexer] = value instead\n",
      "\n",
      "See the caveats in the documentation: https://pandas.pydata.org/pandas-docs/stable/user_guide/indexing.html#returning-a-view-versus-a-copy\n",
      "  df25['gcode'] = df25['Full_Adr'].apply(geocode)\n"
     ]
    },
    {
     "name": "stdout",
     "output_type": "stream",
     "text": [
      "df25 done\n",
      "df26 done\n"
     ]
    },
    {
     "name": "stderr",
     "output_type": "stream",
     "text": [
      "<ipython-input-74-95b12218cf1e>:11: SettingWithCopyWarning: \n",
      "A value is trying to be set on a copy of a slice from a DataFrame.\n",
      "Try using .loc[row_indexer,col_indexer] = value instead\n",
      "\n",
      "See the caveats in the documentation: https://pandas.pydata.org/pandas-docs/stable/user_guide/indexing.html#returning-a-view-versus-a-copy\n",
      "  df26['gcode'] = df26['Full_Adr'].apply(geocode)\n"
     ]
    }
   ],
   "source": [
    "df21['gcode'] = df21['Full_Adr'].apply(geocode)\n",
    "print(\"df21 done\")\n",
    "df22['gcode'] = df22['Full_Adr'].apply(geocode)\n",
    "print(\"df22 done\")\n",
    "df23['gcode'] = df23['Full_Adr'].apply(geocode)\n",
    "print(\"df23 done\")\n",
    "df24['gcode'] = df24['Full_Adr'].apply(geocode)\n",
    "print(\"df24 done\")\n",
    "df25['gcode'] = df25['Full_Adr'].apply(geocode)\n",
    "print(\"df25 done\")\n",
    "df26['gcode'] = df26['Full_Adr'].apply(geocode)\n",
    "print(\"df26 done\")"
   ]
  },
  {
   "cell_type": "code",
   "execution_count": 86,
   "id": "b8e2cf27",
   "metadata": {},
   "outputs": [],
   "source": [
    "df1['lat'] = df1['gcode'].apply(lambda loc: loc.latitude if loc else None)\n",
    "df1['long'] = df1['gcode'].apply(lambda loc: loc.longitude if loc else None)\n",
    "\n",
    "df2['lat'] = df2['gcode'].apply(lambda loc: loc.latitude if loc else None)\n",
    "df2['long'] = df2['gcode'].apply(lambda loc: loc.longitude if loc else None)\n",
    "\n",
    "df3['lat'] = df3['gcode'].apply(lambda loc: loc.latitude if loc else None)\n",
    "df3['long'] = df3['gcode'].apply(lambda loc: loc.longitude if loc else None)\n",
    "\n",
    "df4['lat'] = df4['gcode'].apply(lambda loc: loc.latitude if loc else None)\n",
    "df4['long'] = df4['gcode'].apply(lambda loc: loc.longitude if loc else None)\n",
    "\n",
    "df5['lat'] = df5['gcode'].apply(lambda loc: loc.latitude if loc else None)\n",
    "df5['long'] = df5['gcode'].apply(lambda loc: loc.longitude if loc else None)\n",
    "\n",
    "df6['lat'] = df6['gcode'].apply(lambda loc: loc.latitude if loc else None)\n",
    "df6['long'] = df6['gcode'].apply(lambda loc: loc.longitude if loc else None)\n",
    "\n",
    "df7['lat'] = df7['gcode'].apply(lambda loc: loc.latitude if loc else None)\n",
    "df7['long'] = df7['gcode'].apply(lambda loc: loc.longitude if loc else None)\n",
    "\n",
    "df8['lat'] = df8['gcode'].apply(lambda loc: loc.latitude if loc else None)\n",
    "df8['long'] = df8['gcode'].apply(lambda loc: loc.longitude if loc else None)\n",
    "\n",
    "df9['lat'] = df9['gcode'].apply(lambda loc: loc.latitude if loc else None)\n",
    "df9['long'] = df9['gcode'].apply(lambda loc: loc.longitude if loc else None)\n",
    "\n",
    "df10['lat'] = df10['gcode'].apply(lambda loc: loc.latitude if loc else None)\n",
    "df10['long'] = df10['gcode'].apply(lambda loc: loc.longitude if loc else None)\n",
    "\n",
    "df11['lat'] = df11['gcode'].apply(lambda loc: loc.latitude if loc else None)\n",
    "df11['long'] = df11['gcode'].apply(lambda loc: loc.longitude if loc else None)\n",
    "\n",
    "df12['lat'] = df12['gcode'].apply(lambda loc: loc.latitude if loc else None)\n",
    "df12['long'] = df12['gcode'].apply(lambda loc: loc.longitude if loc else None)\n",
    "\n",
    "df13['lat'] = df13['gcode'].apply(lambda loc: loc.latitude if loc else None)\n",
    "df13['long'] = df13['gcode'].apply(lambda loc: loc.longitude if loc else None)\n",
    "\n",
    "df14['lat'] = df14['gcode'].apply(lambda loc: loc.latitude if loc else None)\n",
    "df14['long'] = df14['gcode'].apply(lambda loc: loc.longitude if loc else None)\n",
    "\n",
    "df15['lat'] = df15['gcode'].apply(lambda loc: loc.latitude if loc else None)\n",
    "df15['long'] = df15['gcode'].apply(lambda loc: loc.longitude if loc else None)\n",
    "\n",
    "df16['lat'] = df16['gcode'].apply(lambda loc: loc.latitude if loc else None)\n",
    "df16['long'] = df16['gcode'].apply(lambda loc: loc.longitude if loc else None)\n",
    "\n",
    "df17['lat'] = df17['gcode'].apply(lambda loc: loc.latitude if loc else None)\n",
    "df17['long'] = df17['gcode'].apply(lambda loc: loc.longitude if loc else None)\n",
    "\n",
    "df18['lat'] = df18['gcode'].apply(lambda loc: loc.latitude if loc else None)\n",
    "df18['long'] = df18['gcode'].apply(lambda loc: loc.longitude if loc else None)\n",
    "\n",
    "df19['lat'] = df19['gcode'].apply(lambda loc: loc.latitude if loc else None)\n",
    "df19['long'] = df19['gcode'].apply(lambda loc: loc.longitude if loc else None)\n",
    "\n",
    "df20['lat'] = df20['gcode'].apply(lambda loc: loc.latitude if loc else None)\n",
    "df20['long'] = df20['gcode'].apply(lambda loc: loc.longitude if loc else None)\n",
    "\n",
    "\n",
    "df21['lat'] = df21['gcode'].apply(lambda loc: loc.latitude if loc else None)\n",
    "df21['long'] = df21['gcode'].apply(lambda loc: loc.longitude if loc else None)\n",
    "\n",
    "df22['lat'] = df22['gcode'].apply(lambda loc: loc.latitude if loc else None)\n",
    "df22['long'] = df22['gcode'].apply(lambda loc: loc.longitude if loc else None)\n",
    "\n",
    "df23['lat'] = df23['gcode'].apply(lambda loc: loc.latitude if loc else None)\n",
    "df23['long'] = df23['gcode'].apply(lambda loc: loc.longitude if loc else None)\n",
    "\n",
    "df24['lat'] = df24['gcode'].apply(lambda loc: loc.latitude if loc else None)\n",
    "df24['long'] = df24['gcode'].apply(lambda loc: loc.longitude if loc else None)\n",
    "\n",
    "df25['lat'] = df25['gcode'].apply(lambda loc: loc.latitude if loc else None)\n",
    "df25['long'] = df25['gcode'].apply(lambda loc: loc.longitude if loc else None)\n",
    "\n",
    "df26['lat'] = df26['gcode'].apply(lambda loc: loc.latitude if loc else None)\n",
    "df26['long'] = df26['gcode'].apply(lambda loc: loc.longitude if loc else None)"
   ]
  },
  {
   "cell_type": "code",
   "execution_count": 87,
   "id": "082fdab2",
   "metadata": {
    "scrolled": true
   },
   "outputs": [
    {
     "data": {
      "text/plain": [
       "(2586, 7)"
      ]
     },
     "execution_count": 87,
     "metadata": {},
     "output_type": "execute_result"
    }
   ],
   "source": [
    "df = df1.append(df2.append(df3.append(df4.append(df5.append(df6.append(df7.append(df8.append(df9.append(df10.append(df11.append(df12.append(df13.append(df14.append(df15.append(df16)))))))))))))))\n",
    "df.shape\n",
    "\n",
    "df = df.append(df17.append(df18.append(df19.append(df20.append(df21.append(df22.append(df23.append(df24.append(df25.append(df26))))))))))\n",
    "df.shape\n",
    "geodata = df\n",
    "geodata.shape"
   ]
  },
  {
   "cell_type": "code",
   "execution_count": 94,
   "id": "c8e33405",
   "metadata": {},
   "outputs": [],
   "source": [
    "# function to get distance between coordinates of address and Iowa State University\n",
    "from math import sin, cos, sqrt, atan2, radians\n",
    "\n",
    "def get_dist(lat, long):\n",
    "    R = 6373.0\n",
    "    lat1 = radians(42.0267)\n",
    "    long1 = radians(-93.6465)\n",
    "    dlon = radians(long) - long1\n",
    "    dlat = radians(lat) - lat1\n",
    "    a = sin(dlat / 2)**2 + cos(radians(lat)) * cos(lat1) * sin(dlon / 2)**2\n",
    "    c = 2 * atan2(sqrt(a), sqrt(1 - a))\n",
    "    distance = R * c\n",
    "    return distance"
   ]
  },
  {
   "cell_type": "code",
   "execution_count": 95,
   "id": "7b38c132",
   "metadata": {},
   "outputs": [],
   "source": [
    "geodata['dist'] = geodata.apply(lambda x: get_dist(x['lat'], x['long']), axis=1)"
   ]
  },
  {
   "cell_type": "code",
   "execution_count": 96,
   "id": "3d8c3b3a",
   "metadata": {
    "scrolled": true
   },
   "outputs": [
    {
     "data": {
      "text/plain": [
       "Index(['PID', 'Prop_Addr', 'MA_Zip1', 'Full_Adr', 'gcode', 'lat', 'long',\n",
       "       'dist'],\n",
       "      dtype='object')"
      ]
     },
     "execution_count": 96,
     "metadata": {},
     "output_type": "execute_result"
    }
   ],
   "source": [
    "geodata.columns"
   ]
  },
  {
   "cell_type": "markdown",
   "id": "4fd5624a",
   "metadata": {},
   "source": [
    "Combine with housing data"
   ]
  },
  {
   "cell_type": "code",
   "execution_count": 297,
   "id": "b9f153aa",
   "metadata": {},
   "outputs": [
    {
     "data": {
      "text/plain": [
       "(2588, 38)"
      ]
     },
     "execution_count": 297,
     "metadata": {},
     "output_type": "execute_result"
    }
   ],
   "source": [
    "housing = housing.merge(geodata,left_on = 'PID', right_on = 'PID')\n",
    "housing.shape"
   ]
  },
  {
   "cell_type": "code",
   "execution_count": 298,
   "id": "dad2cf85",
   "metadata": {},
   "outputs": [
    {
     "data": {
      "text/plain": [
       "(2542, 38)"
      ]
     },
     "execution_count": 298,
     "metadata": {},
     "output_type": "execute_result"
    }
   ],
   "source": [
    "housing = housing.drop_duplicates(subset = 'PID')\n",
    "housing.shape"
   ]
  },
  {
   "cell_type": "code",
   "execution_count": 299,
   "id": "f3e165af",
   "metadata": {},
   "outputs": [
    {
     "data": {
      "image/png": "[encoded data removed]",
      "text/plain": [
       "<Figure size 432x288 with 1 Axes>"
      ]
     },
     "metadata": {},
     "output_type": "display_data"
    }
   ],
   "source": [
    "hs_na = housing.isna().sum()\n",
    "hs_na.plot.bar()\n",
    "\n",
    "\n",
    "\n",
    "missingRows = pd.isnull(housing.dist)\n",
    "missingRows.sum()\n",
    "housing = housing[~missingRows]"
   ]
  },
  {
   "cell_type": "code",
   "execution_count": 300,
   "id": "9aaa1391",
   "metadata": {
    "scrolled": true
   },
   "outputs": [
    {
     "data": {
      "text/plain": [
       "(2480, 37)"
      ]
     },
     "execution_count": 300,
     "metadata": {},
     "output_type": "execute_result"
    },
    {
     "data": {
      "image/png": "[encoded data removed]",
      "text/plain": [
       "<Figure size 432x288 with 1 Axes>"
      ]
     },
     "metadata": {},
     "output_type": "display_data"
    }
   ],
   "source": [
    "hs_na = housing.isna().sum()\n",
    "hs_na.plot.bar()\n",
    "housing.shape\n",
    "\n",
    "housing = housing.drop(['MA_Zip1'], axis =1)\n",
    "hs_na = housing.isna().sum()\n",
    "hs_na.plot.bar()\n",
    "housing.shape"
   ]
  },
  {
   "cell_type": "markdown",
   "id": "c5a8e24c",
   "metadata": {},
   "source": [
    "# Get Zipcodes"
   ]
  },
  {
   "cell_type": "code",
   "execution_count": 301,
   "id": "eb2ec4d3",
   "metadata": {},
   "outputs": [],
   "source": [
    "housing.columns\n",
    "\n",
    "\n",
    "#data = geodata.gcode[0]\n",
    "#data.address\n",
    "def get_zip(address):\n",
    "    import re\n",
    "    address = address.raw\n",
    "    address = address['display_name']\n",
    "    address = address.split(',')[-2].strip()\n",
    "    zipe = re.findall(r'\\d+', address)\n",
    "    if zipe != []:\n",
    "        zipe = int(zipe[0])\n",
    "    else:\n",
    "        zipe = np.nan\n",
    "    return zipe"
   ]
  },
  {
   "cell_type": "code",
   "execution_count": 302,
   "id": "72da3954",
   "metadata": {},
   "outputs": [
    {
     "name": "stderr",
     "output_type": "stream",
     "text": [
      "/Users/Lena/opt/anaconda3/lib/python3.8/site-packages/pandas/core/indexing.py:1637: SettingWithCopyWarning: \n",
      "A value is trying to be set on a copy of a slice from a DataFrame\n",
      "\n",
      "See the caveats in the documentation: https://pandas.pydata.org/pandas-docs/stable/user_guide/indexing.html#returning-a-view-versus-a-copy\n",
      "  self._setitem_single_block(indexer, value, name)\n"
     ]
    }
   ],
   "source": [
    "data = housing['dist'] \n",
    "housing['zip'] =data\n",
    "housing.columns\n",
    "\n",
    "for i in range(0,housing.shape[0]):\n",
    "    housing['zip'].iloc[i] = get_zip(housing['gcode'].iloc[i])"
   ]
  },
  {
   "cell_type": "code",
   "execution_count": 303,
   "id": "23a1d5e5",
   "metadata": {
    "scrolled": true
   },
   "outputs": [
    {
     "name": "stdout",
     "output_type": "stream",
     "text": [
      "Size of housing =   (2480, 38)\n",
      "(2542, 4)\n",
      "Index(['Unnamed: 0', 'tract', 'PID', 'income'], dtype='object')\n",
      "Index(['PID', 'GrLivArea', 'SalePrice', 'MSSubClass', 'MSZoning',\n",
      "       'LotFrontage', 'LotArea', 'Street', 'Neighborhood', 'Condition1',\n",
      "       'Condition2', 'BldgType', 'HouseStyle', 'OverallQual', 'OverallCond',\n",
      "       'YearBuilt', 'YearRemodAdd', 'BsmtUnfSF', 'TotalBsmtSF', '1stFlrSF',\n",
      "       '2ndFlrSF', 'BedroomAbvGr', 'KitchenQual', 'TotRmsAbvGrd', 'Fireplaces',\n",
      "       'GarageArea', 'MiscVal', 'MoSold', 'YrSold', 'bathrm_cnt', 'patioSF',\n",
      "       'Prop_Addr', 'Full_Adr', 'gcode', 'lat', 'long', 'dist', 'zip'],\n",
      "      dtype='object')\n"
     ]
    }
   ],
   "source": [
    "tract = pd.read_csv(\"ML_housing_price/data/tract_census_Ames.csv\")\n",
    "print(\"Size of housing =  \", housing.shape)\n",
    "print(tract.shape)\n",
    "print(tract.columns)\n",
    "print(housing.columns)\n",
    "\n",
    "housing2 = housing.merge(tract, on='PID', how='left')"
   ]
  },
  {
   "cell_type": "code",
   "execution_count": 304,
   "id": "89657302",
   "metadata": {},
   "outputs": [],
   "source": [
    "#housing2 = housing.merge(tract, left_on='PID', right_on ='PID')"
   ]
  },
  {
   "cell_type": "code",
   "execution_count": 305,
   "id": "2a27d2e5",
   "metadata": {},
   "outputs": [],
   "source": [
    "#housing2.shape"
   ]
  },
  {
   "cell_type": "code",
   "execution_count": 306,
   "id": "effb7641",
   "metadata": {
    "scrolled": true
   },
   "outputs": [],
   "source": [
    "#hs_na = housing2.isna().sum()\n",
    "#hs_na.plot.bar()\n"
   ]
  },
  {
   "cell_type": "markdown",
   "id": "91bc3568",
   "metadata": {},
   "source": [
    "# Tract from website"
   ]
  },
  {
   "cell_type": "code",
   "execution_count": 309,
   "id": "aef2017c",
   "metadata": {},
   "outputs": [
    {
     "data": {
      "text/plain": [
       "Index(['PID', 'GrLivArea', 'SalePrice', 'MSSubClass', 'MSZoning',\n",
       "       'LotFrontage', 'LotArea', 'Street', 'Neighborhood', 'Condition1',\n",
       "       'Condition2', 'BldgType', 'HouseStyle', 'OverallQual', 'OverallCond',\n",
       "       'YearBuilt', 'YearRemodAdd', 'BsmtUnfSF', 'TotalBsmtSF', '1stFlrSF',\n",
       "       '2ndFlrSF', 'BedroomAbvGr', 'KitchenQual', 'TotRmsAbvGrd', 'Fireplaces',\n",
       "       'GarageArea', 'MiscVal', 'MoSold', 'YrSold', 'bathrm_cnt', 'patioSF',\n",
       "       'Prop_Addr', 'Full_Adr', 'gcode', 'lat', 'long', 'dist', 'zip'],\n",
       "      dtype='object')"
      ]
     },
     "execution_count": 309,
     "metadata": {},
     "output_type": "execute_result"
    }
   ],
   "source": [
    "housing.columns\n"
   ]
  },
  {
   "cell_type": "code",
   "execution_count": 310,
   "id": "65eb63ac",
   "metadata": {},
   "outputs": [
    {
     "data": {
      "text/plain": [
       "(2480, 38)"
      ]
     },
     "execution_count": 310,
     "metadata": {},
     "output_type": "execute_result"
    }
   ],
   "source": [
    "housing.shape"
   ]
  },
  {
   "cell_type": "code",
   "execution_count": 311,
   "id": "1325d6fb",
   "metadata": {},
   "outputs": [
    {
     "name": "stderr",
     "output_type": "stream",
     "text": [
      "<ipython-input-311-66068b959431>:3: SettingWithCopyWarning: \n",
      "A value is trying to be set on a copy of a slice from a DataFrame.\n",
      "Try using .loc[row_indexer,col_indexer] = value instead\n",
      "\n",
      "See the caveats in the documentation: https://pandas.pydata.org/pandas-docs/stable/user_guide/indexing.html#returning-a-view-versus-a-copy\n",
      "  addr['City'] = 'Ames'\n",
      "<ipython-input-311-66068b959431>:4: SettingWithCopyWarning: \n",
      "A value is trying to be set on a copy of a slice from a DataFrame.\n",
      "Try using .loc[row_indexer,col_indexer] = value instead\n",
      "\n",
      "See the caveats in the documentation: https://pandas.pydata.org/pandas-docs/stable/user_guide/indexing.html#returning-a-view-versus-a-copy\n",
      "  addr['State'] = 'IA'\n"
     ]
    },
    {
     "data": {
      "text/plain": [
       "(1249, 4)"
      ]
     },
     "execution_count": 311,
     "metadata": {},
     "output_type": "execute_result"
    }
   ],
   "source": [
    "addr = housing[['Prop_Addr','PID', 'Prop_Addr','zip']]\n",
    "addr.columns = ['Street','City','State','Zip']\n",
    "addr['City'] = 'Ames'\n",
    "addr['State'] = 'IA'\n",
    "#geodata['Country'] = 'USA'\n",
    "\n",
    "addr1 = addr.iloc[1:1250,:]\n",
    "addr2 = addr.iloc[1250:,:]\n",
    "addr1.to_csv('ML_housing_price/data/addr1_Ames.csv')\n",
    "addr2.to_csv('ML_housing_price/data/addr2_Ames.csv')\n",
    "addr1.shape"
   ]
  },
  {
   "cell_type": "code",
   "execution_count": 312,
   "id": "e0337810",
   "metadata": {},
   "outputs": [
    {
     "name": "stdout",
     "output_type": "stream",
     "text": [
      "Index(['Unnamed: 0', 'Street, City, State, Zip', 'No_Match'], dtype='object')\n",
      "Index(['Unnamed: 0', 'Street, City, State, Zip', 'No_Match'], dtype='object')\n",
      "(1249, 12)\n",
      "(1230, 12)\n",
      "(2479, 12)\n"
     ]
    },
    {
     "data": {
      "text/html": [
       "<div>\n",
       "<style scoped>\n",
       "    .dataframe tbody tr th:only-of-type {\n",
       "        vertical-align: middle;\n",
       "    }\n",
       "\n",
       "    .dataframe tbody tr th {\n",
       "        vertical-align: top;\n",
       "    }\n",
       "\n",
       "    .dataframe thead th {\n",
       "        text-align: right;\n",
       "    }\n",
       "</style>\n",
       "<table border=\"1\" class=\"dataframe\">\n",
       "  <thead>\n",
       "    <tr style=\"text-align: right;\">\n",
       "      <th></th>\n",
       "      <th>index</th>\n",
       "      <th>t1</th>\n",
       "    </tr>\n",
       "  </thead>\n",
       "  <tbody>\n",
       "    <tr>\n",
       "      <th>14</th>\n",
       "      <td>1</td>\n",
       "      <td>19169000700</td>\n",
       "    </tr>\n",
       "    <tr>\n",
       "      <th>17</th>\n",
       "      <td>3</td>\n",
       "      <td>19169000200</td>\n",
       "    </tr>\n",
       "    <tr>\n",
       "      <th>19</th>\n",
       "      <td>4</td>\n",
       "      <td>19169000400</td>\n",
       "    </tr>\n",
       "    <tr>\n",
       "      <th>21</th>\n",
       "      <td>5</td>\n",
       "      <td>19169001301</td>\n",
       "    </tr>\n",
       "    <tr>\n",
       "      <th>23</th>\n",
       "      <td>6</td>\n",
       "      <td>19169000900</td>\n",
       "    </tr>\n",
       "  </tbody>\n",
       "</table>\n",
       "</div>"
      ],
      "text/plain": [
       "    index           t1\n",
       "14      1  19169000700\n",
       "17      3  19169000200\n",
       "19      4  19169000400\n",
       "21      5  19169001301\n",
       "23      6  19169000900"
      ]
     },
     "execution_count": 312,
     "metadata": {},
     "output_type": "execute_result"
    }
   ],
   "source": [
    "cens1 = pd.read_csv(\"ML_housing_price/data/GeocodeResults.csv\")\n",
    "print(cens1.columns)\n",
    "#cens1 = cens1.sort_values('Unnamed: 0')\n",
    "cens1 = cens1.reset_index()\n",
    "cens1.columns = ['index','street','match','exact','adress','LonLat','t0','RL','t1','t2','t3','t4']\n",
    "\n",
    "cens1 = cens1.sort_values('index')\n",
    "\n",
    "cens1.head()\n",
    "\n",
    "\n",
    "\n",
    "######\n",
    "cens2 = pd.read_csv(\"ML_housing_price/data/GeocodeResults2.csv\")\n",
    "print(cens2.columns)\n",
    "cens2 = cens2.reset_index()\n",
    "cens2.columns = ['index','street','match','exact','adress','LonLat','t0','RL','t1','t2','t3','t4']\n",
    "\n",
    "cens2 = cens2.sort_values('index')\n",
    "\n",
    "cens2.head()\n",
    "\n",
    "\n",
    "##########\n",
    "print(cens1.shape)\n",
    "print(cens2.shape)\n",
    "cens1.shape[0] + cens2.shape[0]\n",
    "\n",
    "cens1 = cens1.append(cens2)\n",
    "print(cens1.shape)\n",
    "cens1.head()\n",
    "\n",
    "cens1 = cens1[cens1.t1.notnull()]\n",
    "\n",
    "## Make tract by stitching together\n",
    "cens1['t3'] = cens1['t3'].astype(int).astype(str)\n",
    "cens1['t3'] = cens1['t3'].apply(lambda x: '{0:0>6}'.format(x))\n",
    "\n",
    "#print(cens1.shape)\n",
    "\n",
    "cens1['t1'] = cens1['t1'].astype(int).astype(str) + cens1['t2'].astype(int).astype(str) + cens1['t3']\n",
    "cens1['t1'] = cens1['t1'].astype(int)\n",
    "cens1.columns\n",
    "cens1 = cens1[['index','t1']]\n",
    "cens1. columns = ['index','t1']\n",
    "cens1.head()"
   ]
  },
  {
   "cell_type": "markdown",
   "id": "b9392258",
   "metadata": {},
   "source": [
    "# Match them with income"
   ]
  },
  {
   "cell_type": "code",
   "execution_count": 313,
   "id": "949d325f",
   "metadata": {},
   "outputs": [
    {
     "data": {
      "text/plain": [
       "Index(['t1', 'S1901_C01_012E'], dtype='object')"
      ]
     },
     "execution_count": 313,
     "metadata": {},
     "output_type": "execute_result"
    }
   ],
   "source": [
    "census = pd.read_csv(\"ML_housing_price/data/Cenus_data.csv\")\n",
    "census = census.iloc[1:,:]\n",
    "census.head()\n",
    "\n",
    "cens_tract = census.GEO_ID\n",
    "cens_tract\n",
    "\n",
    "#census['t2'] = cens_tract.str[-4:].astype(int)\n",
    "census['t1'] = cens_tract.str[-11:].astype(int)\n",
    "census = census[['t1','S1901_C01_012E']]\n",
    "census.columns"
   ]
  },
  {
   "cell_type": "code",
   "execution_count": 314,
   "id": "5a235a5a",
   "metadata": {},
   "outputs": [
    {
     "data": {
      "text/html": [
       "<div>\n",
       "<style scoped>\n",
       "    .dataframe tbody tr th:only-of-type {\n",
       "        vertical-align: middle;\n",
       "    }\n",
       "\n",
       "    .dataframe tbody tr th {\n",
       "        vertical-align: top;\n",
       "    }\n",
       "\n",
       "    .dataframe thead th {\n",
       "        text-align: right;\n",
       "    }\n",
       "</style>\n",
       "<table border=\"1\" class=\"dataframe\">\n",
       "  <thead>\n",
       "    <tr style=\"text-align: right;\">\n",
       "      <th></th>\n",
       "      <th>t1</th>\n",
       "      <th>S1901_C01_012E</th>\n",
       "    </tr>\n",
       "  </thead>\n",
       "  <tbody>\n",
       "    <tr>\n",
       "      <th>1</th>\n",
       "      <td>19001960100</td>\n",
       "      <td>43382</td>\n",
       "    </tr>\n",
       "    <tr>\n",
       "      <th>2</th>\n",
       "      <td>19001960200</td>\n",
       "      <td>47269</td>\n",
       "    </tr>\n",
       "    <tr>\n",
       "      <th>3</th>\n",
       "      <td>19001960300</td>\n",
       "      <td>44583</td>\n",
       "    </tr>\n",
       "    <tr>\n",
       "      <th>4</th>\n",
       "      <td>19003950100</td>\n",
       "      <td>46188</td>\n",
       "    </tr>\n",
       "    <tr>\n",
       "      <th>5</th>\n",
       "      <td>19003950200</td>\n",
       "      <td>33661</td>\n",
       "    </tr>\n",
       "  </tbody>\n",
       "</table>\n",
       "</div>"
      ],
      "text/plain": [
       "            t1 S1901_C01_012E\n",
       "1  19001960100          43382\n",
       "2  19001960200          47269\n",
       "3  19001960300          44583\n",
       "4  19003950100          46188\n",
       "5  19003950200          33661"
      ]
     },
     "execution_count": 314,
     "metadata": {},
     "output_type": "execute_result"
    }
   ],
   "source": [
    "census.head()"
   ]
  },
  {
   "cell_type": "code",
   "execution_count": 315,
   "id": "d5838766",
   "metadata": {},
   "outputs": [
    {
     "data": {
      "text/plain": [
       "array([19001960100, 19001960200, 19001960300, 19003950100, 19003950200,\n",
       "       19005960100, 19005960200, 19005960300, 19005960400, 19005960500,\n",
       "       19007950100, 19007950200, 19007950300, 19007950400, 19007950500,\n",
       "       19009070100, 19009070200, 19009070300, 19011960100, 19011960200,\n",
       "       19011960300, 19011960400, 19011960500, 19011960600, 19011960700,\n",
       "       19013000100, 19013000200, 19013000300, 19013000400, 19013000500,\n",
       "       19013000700, 19013000800, 19013000900, 19013001000, 19013001100,\n",
       "       19013001200, 19013001301, 19013001302, 19013001400, 19013001501,\n",
       "       19013001502, 19013001503, 19013001600, 19013001701, 19013001702,\n",
       "       19013001800, 19013001900, 19013002000, 19013002200, 19013002301,\n",
       "       19013002303, 19013002304, 19013002400, 19013002500, 19013002601,\n",
       "       19013002603, 19013002604, 19013002700, 19013002800, 19013002901,\n",
       "       19013002902, 19013003001, 19013003002, 19015020100, 19015020200,\n",
       "       19015020300, 19015020400, 19015020500, 19015020600, 19015020700,\n",
       "       19017004000, 19017004100, 19017004200, 19017004300, 19017004400,\n",
       "       19017004500, 19017004600, 19017004700, 19019950100, 19019950200,\n",
       "       19019950300, 19019950400, 19019950500, 19019950600, 19021960100,\n",
       "       19021960200, 19021960300, 19021960400, 19021960500, 19021960600,\n",
       "       19023070100, 19023070200, 19023070300, 19023070400, 19023070500,\n",
       "       19025950100, 19025950200, 19025950300, 19025950400, 19027960100,\n",
       "       19027960200, 19027960300, 19027960400, 19027960500, 19027960600,\n",
       "       19029190100, 19029190200, 19029190300, 19029190400, 19029190500,\n",
       "       19031450100, 19031450200, 19031450300, 19031450400, 19031450500,\n",
       "       19033950102, 19033950200, 19033950300, 19033950402, 19033950600,\n",
       "       19033950700, 19033950800, 19033950900, 19033951000, 19033951400,\n",
       "       19033951600, 19035080100, 19035080200, 19035080300, 19035080400,\n",
       "       19037070100, 19037070200, 19037070300, 19037070400, 19039960100,\n",
       "       19039960200, 19039960300, 19041080100, 19041080200, 19041080300,\n",
       "       19041080400, 19043070100, 19043070200, 19043070300, 19043070400,\n",
       "       19043070500, 19043070600, 19045000100, 19045000200, 19045000300,\n",
       "       19045000400, 19045000500, 19045000600, 19045000700, 19045000800,\n",
       "       19045000900, 19045001000, 19045001100, 19045001200, 19047070100,\n",
       "       19047070200, 19047070300, 19047070400, 19047070500, 19049050100,\n",
       "       19049050200, 19049050300, 19049050400, 19049050500, 19049050600,\n",
       "       19049050700, 19049050803, 19049050805, 19049050807, 19049050809,\n",
       "       19049050811, 19049050812, 19049050901, 19049050902, 19051080100,\n",
       "       19051080200, 19053960100, 19053960200, 19053960300, 19055950100,\n",
       "       19055950200, 19055950300, 19055950400, 19057000200, 19057000300,\n",
       "       19057000400, 19057000500, 19057000600, 19057000700, 19057000800,\n",
       "       19057000900, 19057001000, 19057001100, 19057001200, 19059450200,\n",
       "       19059450500, 19059450800, 19059451000, 19059451100, 19061000100,\n",
       "       19061000300, 19061000400, 19061000500, 19061000600, 19061000701,\n",
       "       19061000702, 19061000801, 19061000802, 19061000900, 19061001101,\n",
       "       19061001102, 19061001201, 19061001202, 19061001204, 19061001205,\n",
       "       19061010101, 19061010103, 19061010104, 19061010105, 19061010201,\n",
       "       19061010202, 19061010300, 19061010400, 19061010500, 19061010600,\n",
       "       19063070100, 19063070200, 19063070300, 19063070400, 19065080100,\n",
       "       19065080200, 19065080300, 19065080400, 19065080500, 19065080600,\n",
       "       19065080700, 19067480100, 19067480200, 19067480300, 19067480400,\n",
       "       19067480500, 19069360100, 19069360200, 19069360300, 19071970100,\n",
       "       19071970200, 19071970300, 19073080100, 19073080200, 19073080300,\n",
       "       19073080500, 19075960100, 19075960200, 19075960300, 19075960400,\n",
       "       19077950100, 19077950200, 19077950300, 19079960100, 19079960200,\n",
       "       19079960300, 19079960400, 19079960500, 19081270100, 19081270200,\n",
       "       19081270300, 19081270400, 19083480100, 19083480200, 19083480300,\n",
       "       19083480400, 19083480500, 19083480600, 19085290100, 19085290200,\n",
       "       19085290300, 19085290400, 19085290500, 19087970100, 19087970200,\n",
       "       19087970300, 19087970400, 19087970500, 19089960100, 19089960200,\n",
       "       19089960300, 19091970100, 19091970200, 19091970300, 19091970400,\n",
       "       19093090100, 19093090200, 19093090300, 19095960100, 19095960200,\n",
       "       19095960300, 19095960400, 19097950100, 19097950200, 19097950300,\n",
       "       19097950400, 19097950500, 19097950600, 19099040100, 19099040200,\n",
       "       19099040300, 19099040400, 19099040500, 19099040600, 19099040700,\n",
       "       19099040800, 19099040900, 19101090100, 19101090200, 19101090300,\n",
       "       19101090400, 19103000100, 19103000200, 19103000301, 19103000302,\n",
       "       19103000400, 19103000500, 19103000600, 19103001100, 19103001200,\n",
       "       19103001300, 19103001400, 19103001500, 19103001600, 19103001700,\n",
       "       19103001801, 19103001802, 19103002100, 19103002300, 19103010100,\n",
       "       19103010200, 19103010301, 19103010302, 19103010400, 19103010500,\n",
       "       19105070100, 19105070300, 19105070400, 19105070500, 19105070600,\n",
       "       19107080100, 19107080200, 19107080300, 19107080400, 19109950100,\n",
       "       19109950200, 19109950300, 19109950400, 19109950500, 19109950600,\n",
       "       19111490100, 19111490200, 19111490300, 19111490400, 19111490500,\n",
       "       19111490600, 19111490700, 19111490800, 19111490900, 19111491000,\n",
       "       19111491100, 19113000100, 19113000201, 19113000203, 19113000205,\n",
       "       19113000206, 19113000207, 19113000300, 19113000400, 19113000500,\n",
       "       19113000600, 19113000700, 19113000800, 19113000901, 19113000902,\n",
       "       19113001001, 19113001002, 19113001003, 19113001101, 19113001102,\n",
       "       19113001200, 19113001300, 19113001400, 19113001500, 19113001600,\n",
       "       19113001700, 19113001800, 19113001900, 19113002200, 19113002300,\n",
       "       19113002400, 19113002500, 19113002600, 19113002700, 19113002800,\n",
       "       19113002900, 19113003001, 19113003002, 19113010100, 19113010200,\n",
       "       19113010300, 19113010400, 19113010500, 19113010600, 19113010700,\n",
       "       19113010800, 19115450100, 19115450200, 19115450300, 19117950100,\n",
       "       19117950200, 19117950300, 19117950400, 19119950100, 19119950200,\n",
       "       19119950300, 19121060100, 19121060200, 19121060300, 19123950100,\n",
       "       19123950200, 19123950300, 19123950400, 19123950500, 19123950600,\n",
       "       19123950700, 19125030100, 19125030200, 19125030300, 19125030401,\n",
       "       19125030402, 19125030500, 19125030600, 19125030700, 19127950100,\n",
       "       19127950200, 19127950300, 19127950400, 19127950500, 19127950600,\n",
       "       19127950700, 19127950800, 19127950900, 19127951000, 19129040100,\n",
       "       19129040201, 19129040202, 19129040301, 19129040302, 19131560100,\n",
       "       19131560200, 19131560300, 19133960100, 19133960200, 19133960300,\n",
       "       19133960400, 19135070100, 19135070200, 19135070300, 19137960100,\n",
       "       19137960200, 19137960300, 19137960400, 19139050100, 19139050200,\n",
       "       19139050300, 19139050400, 19139050500, 19139050600, 19139050700,\n",
       "       19139050800, 19139050900, 19139051000, 19141490100, 19141490200,\n",
       "       19141490300, 19141490400, 19143460100, 19143460200, 19145490100,\n",
       "       19145490200, 19145490300, 19145490400, 19145490500, 19145490600,\n",
       "       19147960100, 19147960200, 19147960300, 19147960400, 19149970100,\n",
       "       19149970200, 19149970300, 19149970400, 19149970500, 19149970600,\n",
       "       19151780100, 19151780200, 19151780300, 19153000101, 19153000102,\n",
       "       19153000103, 19153000201, 19153000202, 19153000300, 19153000400,\n",
       "       19153000500, 19153000600, 19153000701, 19153000702, 19153000703,\n",
       "       19153000704, 19153000801, 19153000802, 19153000803, 19153000901,\n",
       "       19153000902, 19153001000, 19153001100, 19153001200, 19153001500,\n",
       "       19153001700, 19153001800, 19153001900, 19153002100, 19153002600,\n",
       "       19153002700, 19153002800, 19153002900, 19153003001, 19153003002,\n",
       "       19153003100, 19153003200, 19153003901, 19153003902, 19153004001,\n",
       "       19153004004, 19153004100, 19153004200, 19153004300, 19153004400,\n",
       "       19153004501, 19153004502, 19153004602, 19153004603, 19153004701,\n",
       "       19153004702, 19153004800, 19153004900, 19153005000, 19153005100,\n",
       "       19153005200, 19153005300, 19153010101, 19153010102, 19153010203,\n",
       "       19153010205, 19153010207, 19153010208, 19153010209, 19153010211,\n",
       "       19153010212, 19153010404, 19153010405, 19153010406, 19153010407,\n",
       "       19153010408, 19153010409, 19153010500, 19153010600, 19153010702,\n",
       "       19153010703, 19153010705, 19153010706, 19153010802, 19153010803,\n",
       "       19153010804, 19153011001, 19153011021, 19153011025, 19153011026,\n",
       "       19153011027, 19153011028, 19153011111, 19153011112, 19153011113,\n",
       "       19153011114, 19153011201, 19153011203, 19153011205, 19153011206,\n",
       "       19153011300, 19153011404, 19153011500, 19153011600, 19153011701,\n",
       "       19153011702, 19155021200, 19155021400, 19155021501, 19155021502,\n",
       "       19155021602, 19155021603, 19155021701, 19155021702, 19155030100,\n",
       "       19155030200, 19155030300, 19155030401, 19155030402, 19155030501,\n",
       "       19155030502, 19155030601, 19155030602, 19155030700, 19155030800,\n",
       "       19155030900, 19155031000, 19155031100, 19155031200, 19155031300,\n",
       "       19155031400, 19155031601, 19155031602, 19155031700, 19155031800,\n",
       "       19155031900, 19157370100, 19157370200, 19157370300, 19157370400,\n",
       "       19157370500, 19159950100, 19159950200, 19161080100, 19161080200,\n",
       "       19161080300, 19161080400, 19163010101, 19163010102, 19163010201,\n",
       "       19163010202, 19163010300, 19163010401, 19163010402, 19163010600,\n",
       "       19163010700, 19163010800, 19163010900, 19163011000, 19163011100,\n",
       "       19163011200, 19163011300, 19163011400, 19163011500, 19163011600,\n",
       "       19163011700, 19163011800, 19163011900, 19163012000, 19163012100,\n",
       "       19163012200, 19163012300, 19163012400, 19163012501, 19163012502,\n",
       "       19163012601, 19163012602, 19163012701, 19163012702, 19163012801,\n",
       "       19163012802, 19163012901, 19163012902, 19163013000, 19163013100,\n",
       "       19163013200, 19163013300, 19163013400, 19163013500, 19163013600,\n",
       "       19163013702, 19163013703, 19163013705, 19163013706, 19165960100,\n",
       "       19165960200, 19165960300, 19165960400, 19167070100, 19167070200,\n",
       "       19167070300, 19167070400, 19167070500, 19167070600, 19167070700,\n",
       "       19169000100, 19169000200, 19169000300, 19169000400, 19169000500,\n",
       "       19169000600, 19169000700, 19169000800, 19169000900, 19169001000,\n",
       "       19169001100, 19169001200, 19169001301, 19169001302, 19169010100,\n",
       "       19169010200, 19169010300, 19169010400, 19169010500, 19169010600,\n",
       "       19171290100, 19171290200, 19171290300, 19171290400, 19171290500,\n",
       "       19171290600, 19173180100, 19173180200, 19173180300, 19175190100,\n",
       "       19175190200, 19175190300, 19175190400, 19177950100, 19177950200,\n",
       "       19179960100, 19179960200, 19179960300, 19179960400, 19179960500,\n",
       "       19179960600, 19179960700, 19179960800, 19179960900, 19179961000,\n",
       "       19179961100, 19181020100, 19181020200, 19181020300, 19181020400,\n",
       "       19181020500, 19181020600, 19181020700, 19181020800, 19181020900,\n",
       "       19181021000, 19181021100, 19181021200, 19183960100, 19183960200,\n",
       "       19183960300, 19183960400, 19183960500, 19185070100, 19185070200,\n",
       "       19185070300, 19187000100, 19187000200, 19187000300, 19187000400,\n",
       "       19187000500, 19187000600, 19187000700, 19187000900, 19187010100,\n",
       "       19187010200, 19187010300, 19187010400, 19189680100, 19189680200,\n",
       "       19189680300, 19191950100, 19191950200, 19191950300, 19191950400,\n",
       "       19191950500, 19193000100, 19193000200, 19193000300, 19193000400,\n",
       "       19193000500, 19193000600, 19193000700, 19193000800, 19193000900,\n",
       "       19193001000, 19193001100, 19193001200, 19193001300, 19193001400,\n",
       "       19193001500, 19193001800, 19193001900, 19193002000, 19193002101,\n",
       "       19193002102, 19193003100, 19193003200, 19193003300, 19193003500,\n",
       "       19193003600, 19193940200, 19195690100, 19195690200, 19195690300,\n",
       "       19197680100, 19197680200, 19197680300, 19197680400, 19197680500])"
      ]
     },
     "execution_count": 315,
     "metadata": {},
     "output_type": "execute_result"
    }
   ],
   "source": [
    "census.t1.unique()"
   ]
  },
  {
   "cell_type": "code",
   "execution_count": 316,
   "id": "696bd496",
   "metadata": {},
   "outputs": [
    {
     "name": "stdout",
     "output_type": "stream",
     "text": [
      "(2393, 3)\n",
      "(2393, 2)\n",
      "(825, 2)\n"
     ]
    },
    {
     "data": {
      "text/html": [
       "<div>\n",
       "<style scoped>\n",
       "    .dataframe tbody tr th:only-of-type {\n",
       "        vertical-align: middle;\n",
       "    }\n",
       "\n",
       "    .dataframe tbody tr th {\n",
       "        vertical-align: top;\n",
       "    }\n",
       "\n",
       "    .dataframe thead th {\n",
       "        text-align: right;\n",
       "    }\n",
       "</style>\n",
       "<table border=\"1\" class=\"dataframe\">\n",
       "  <thead>\n",
       "    <tr style=\"text-align: right;\">\n",
       "      <th></th>\n",
       "      <th>index</th>\n",
       "      <th>tract</th>\n",
       "      <th>income</th>\n",
       "    </tr>\n",
       "  </thead>\n",
       "  <tbody>\n",
       "    <tr>\n",
       "      <th>0</th>\n",
       "      <td>1</td>\n",
       "      <td>19169000700</td>\n",
       "      <td>21333</td>\n",
       "    </tr>\n",
       "    <tr>\n",
       "      <th>1</th>\n",
       "      <td>3</td>\n",
       "      <td>19169000200</td>\n",
       "      <td>52375</td>\n",
       "    </tr>\n",
       "    <tr>\n",
       "      <th>2</th>\n",
       "      <td>4</td>\n",
       "      <td>19169000400</td>\n",
       "      <td>61991</td>\n",
       "    </tr>\n",
       "    <tr>\n",
       "      <th>3</th>\n",
       "      <td>5</td>\n",
       "      <td>19169001301</td>\n",
       "      <td>33311</td>\n",
       "    </tr>\n",
       "    <tr>\n",
       "      <th>4</th>\n",
       "      <td>6</td>\n",
       "      <td>19169000900</td>\n",
       "      <td>37028</td>\n",
       "    </tr>\n",
       "    <tr>\n",
       "      <th>...</th>\n",
       "      <td>...</td>\n",
       "      <td>...</td>\n",
       "      <td>...</td>\n",
       "    </tr>\n",
       "    <tr>\n",
       "      <th>2388</th>\n",
       "      <td>2583</td>\n",
       "      <td>19169000900</td>\n",
       "      <td>37028</td>\n",
       "    </tr>\n",
       "    <tr>\n",
       "      <th>2389</th>\n",
       "      <td>2584</td>\n",
       "      <td>19169000700</td>\n",
       "      <td>21333</td>\n",
       "    </tr>\n",
       "    <tr>\n",
       "      <th>2390</th>\n",
       "      <td>2585</td>\n",
       "      <td>19169001100</td>\n",
       "      <td>20878</td>\n",
       "    </tr>\n",
       "    <tr>\n",
       "      <th>2391</th>\n",
       "      <td>2586</td>\n",
       "      <td>19169001301</td>\n",
       "      <td>33311</td>\n",
       "    </tr>\n",
       "    <tr>\n",
       "      <th>2392</th>\n",
       "      <td>2587</td>\n",
       "      <td>19169000600</td>\n",
       "      <td>60833</td>\n",
       "    </tr>\n",
       "  </tbody>\n",
       "</table>\n",
       "<p>2393 rows × 3 columns</p>\n",
       "</div>"
      ],
      "text/plain": [
       "      index        tract income\n",
       "0         1  19169000700  21333\n",
       "1         3  19169000200  52375\n",
       "2         4  19169000400  61991\n",
       "3         5  19169001301  33311\n",
       "4         6  19169000900  37028\n",
       "...     ...          ...    ...\n",
       "2388   2583  19169000900  37028\n",
       "2389   2584  19169000700  21333\n",
       "2390   2585  19169001100  20878\n",
       "2391   2586  19169001301  33311\n",
       "2392   2587  19169000600  60833\n",
       "\n",
       "[2393 rows x 3 columns]"
      ]
     },
     "execution_count": 316,
     "metadata": {},
     "output_type": "execute_result"
    }
   ],
   "source": [
    "income = cens1.merge(census, on=['t1'] ,how='left')\n",
    "\n",
    "print(income.shape)\n",
    "print(cens1.shape)\n",
    "print(census.shape)\n",
    "income.columns = ['index','tract','income']\n",
    "income"
   ]
  },
  {
   "cell_type": "markdown",
   "id": "e8232c00",
   "metadata": {},
   "source": [
    "# Merge with housing dataset... use index for this"
   ]
  },
  {
   "cell_type": "code",
   "execution_count": 317,
   "id": "d11ee6eb",
   "metadata": {},
   "outputs": [
    {
     "data": {
      "text/html": [
       "<div>\n",
       "<style scoped>\n",
       "    .dataframe tbody tr th:only-of-type {\n",
       "        vertical-align: middle;\n",
       "    }\n",
       "\n",
       "    .dataframe tbody tr th {\n",
       "        vertical-align: top;\n",
       "    }\n",
       "\n",
       "    .dataframe thead th {\n",
       "        text-align: right;\n",
       "    }\n",
       "</style>\n",
       "<table border=\"1\" class=\"dataframe\">\n",
       "  <thead>\n",
       "    <tr style=\"text-align: right;\">\n",
       "      <th></th>\n",
       "      <th>index</th>\n",
       "      <th>PID</th>\n",
       "      <th>GrLivArea</th>\n",
       "      <th>SalePrice</th>\n",
       "      <th>MSSubClass</th>\n",
       "      <th>MSZoning</th>\n",
       "      <th>LotFrontage</th>\n",
       "      <th>LotArea</th>\n",
       "      <th>Street</th>\n",
       "      <th>Neighborhood</th>\n",
       "      <th>...</th>\n",
       "      <th>YrSold</th>\n",
       "      <th>bathrm_cnt</th>\n",
       "      <th>patioSF</th>\n",
       "      <th>Prop_Addr</th>\n",
       "      <th>Full_Adr</th>\n",
       "      <th>gcode</th>\n",
       "      <th>lat</th>\n",
       "      <th>long</th>\n",
       "      <th>dist</th>\n",
       "      <th>zip</th>\n",
       "    </tr>\n",
       "  </thead>\n",
       "  <tbody>\n",
       "    <tr>\n",
       "      <th>0</th>\n",
       "      <td>0</td>\n",
       "      <td>909176150</td>\n",
       "      <td>856</td>\n",
       "      <td>126000</td>\n",
       "      <td>30</td>\n",
       "      <td>RL</td>\n",
       "      <td>NaN</td>\n",
       "      <td>7890</td>\n",
       "      <td>Pave</td>\n",
       "      <td>SWISU</td>\n",
       "      <td>...</td>\n",
       "      <td>2010</td>\n",
       "      <td>2.0</td>\n",
       "      <td>166</td>\n",
       "      <td>436 HAYWARD AVE</td>\n",
       "      <td>436 HAYWARD AVE, Ames, IA</td>\n",
       "      <td>(436, Hayward Avenue, Campustown, Ames, Story ...</td>\n",
       "      <td>42.018564</td>\n",
       "      <td>-93.651619</td>\n",
       "      <td>0.998896</td>\n",
       "      <td>50014.0</td>\n",
       "    </tr>\n",
       "    <tr>\n",
       "      <th>1</th>\n",
       "      <td>1</td>\n",
       "      <td>905476230</td>\n",
       "      <td>1049</td>\n",
       "      <td>139500</td>\n",
       "      <td>120</td>\n",
       "      <td>RL</td>\n",
       "      <td>42.0</td>\n",
       "      <td>4235</td>\n",
       "      <td>Pave</td>\n",
       "      <td>Edwards</td>\n",
       "      <td>...</td>\n",
       "      <td>2009</td>\n",
       "      <td>3.0</td>\n",
       "      <td>105</td>\n",
       "      <td>3416 WEST ST</td>\n",
       "      <td>3416 WEST ST, Ames, IA</td>\n",
       "      <td>(3416, West Street, Union Drive, Ames, Story C...</td>\n",
       "      <td>42.024855</td>\n",
       "      <td>-93.663671</td>\n",
       "      <td>1.433537</td>\n",
       "      <td>50014.0</td>\n",
       "    </tr>\n",
       "    <tr>\n",
       "      <th>2</th>\n",
       "      <td>3</td>\n",
       "      <td>535377150</td>\n",
       "      <td>1039</td>\n",
       "      <td>114000</td>\n",
       "      <td>70</td>\n",
       "      <td>RL</td>\n",
       "      <td>80.0</td>\n",
       "      <td>8146</td>\n",
       "      <td>Pave</td>\n",
       "      <td>OldTown</td>\n",
       "      <td>...</td>\n",
       "      <td>2009</td>\n",
       "      <td>1.0</td>\n",
       "      <td>279</td>\n",
       "      <td>1524 DOUGLAS AVE</td>\n",
       "      <td>1524 DOUGLAS AVE, Ames, IA</td>\n",
       "      <td>(1524, Douglas Avenue, Broadmoor, Ames, Story ...</td>\n",
       "      <td>42.037391</td>\n",
       "      <td>-93.612207</td>\n",
       "      <td>3.072689</td>\n",
       "      <td>50010.0</td>\n",
       "    </tr>\n",
       "    <tr>\n",
       "      <th>3</th>\n",
       "      <td>4</td>\n",
       "      <td>534177230</td>\n",
       "      <td>1665</td>\n",
       "      <td>227000</td>\n",
       "      <td>60</td>\n",
       "      <td>RL</td>\n",
       "      <td>70.0</td>\n",
       "      <td>8400</td>\n",
       "      <td>Pave</td>\n",
       "      <td>NWAmes</td>\n",
       "      <td>...</td>\n",
       "      <td>2009</td>\n",
       "      <td>3.5</td>\n",
       "      <td>45</td>\n",
       "      <td>2304 FILLMORE AVE</td>\n",
       "      <td>2304 FILLMORE AVE, Ames, IA</td>\n",
       "      <td>(2304, Fillmore Avenue, Allenview, Ames, Story...</td>\n",
       "      <td>42.044554</td>\n",
       "      <td>-93.631818</td>\n",
       "      <td>2.326978</td>\n",
       "      <td>50010.0</td>\n",
       "    </tr>\n",
       "    <tr>\n",
       "      <th>4</th>\n",
       "      <td>5</td>\n",
       "      <td>908128060</td>\n",
       "      <td>1922</td>\n",
       "      <td>198500</td>\n",
       "      <td>85</td>\n",
       "      <td>RL</td>\n",
       "      <td>64.0</td>\n",
       "      <td>7301</td>\n",
       "      <td>Pave</td>\n",
       "      <td>Edwards</td>\n",
       "      <td>...</td>\n",
       "      <td>2009</td>\n",
       "      <td>3.0</td>\n",
       "      <td>177</td>\n",
       "      <td>4003 MARIGOLD DR</td>\n",
       "      <td>4003 MARIGOLD DR, Ames, IA</td>\n",
       "      <td>(4003, Marigold Drive, South Forks, Ames, Stor...</td>\n",
       "      <td>42.019009</td>\n",
       "      <td>-93.672987</td>\n",
       "      <td>2.349876</td>\n",
       "      <td>50014.0</td>\n",
       "    </tr>\n",
       "  </tbody>\n",
       "</table>\n",
       "<p>5 rows × 39 columns</p>\n",
       "</div>"
      ],
      "text/plain": [
       "   index        PID  GrLivArea  SalePrice  MSSubClass MSZoning  LotFrontage  \\\n",
       "0      0  909176150        856     126000          30       RL          NaN   \n",
       "1      1  905476230       1049     139500         120       RL         42.0   \n",
       "2      3  535377150       1039     114000          70       RL         80.0   \n",
       "3      4  534177230       1665     227000          60       RL         70.0   \n",
       "4      5  908128060       1922     198500          85       RL         64.0   \n",
       "\n",
       "   LotArea Street Neighborhood  ... YrSold bathrm_cnt patioSF  \\\n",
       "0     7890   Pave        SWISU  ...   2010        2.0     166   \n",
       "1     4235   Pave      Edwards  ...   2009        3.0     105   \n",
       "2     8146   Pave      OldTown  ...   2009        1.0     279   \n",
       "3     8400   Pave       NWAmes  ...   2009        3.5      45   \n",
       "4     7301   Pave      Edwards  ...   2009        3.0     177   \n",
       "\n",
       "           Prop_Addr                     Full_Adr  \\\n",
       "0    436 HAYWARD AVE    436 HAYWARD AVE, Ames, IA   \n",
       "1       3416 WEST ST       3416 WEST ST, Ames, IA   \n",
       "2   1524 DOUGLAS AVE   1524 DOUGLAS AVE, Ames, IA   \n",
       "3  2304 FILLMORE AVE  2304 FILLMORE AVE, Ames, IA   \n",
       "4   4003 MARIGOLD DR   4003 MARIGOLD DR, Ames, IA   \n",
       "\n",
       "                                               gcode        lat       long  \\\n",
       "0  (436, Hayward Avenue, Campustown, Ames, Story ...  42.018564 -93.651619   \n",
       "1  (3416, West Street, Union Drive, Ames, Story C...  42.024855 -93.663671   \n",
       "2  (1524, Douglas Avenue, Broadmoor, Ames, Story ...  42.037391 -93.612207   \n",
       "3  (2304, Fillmore Avenue, Allenview, Ames, Story...  42.044554 -93.631818   \n",
       "4  (4003, Marigold Drive, South Forks, Ames, Stor...  42.019009 -93.672987   \n",
       "\n",
       "       dist      zip  \n",
       "0  0.998896  50014.0  \n",
       "1  1.433537  50014.0  \n",
       "2  3.072689  50010.0  \n",
       "3  2.326978  50010.0  \n",
       "4  2.349876  50014.0  \n",
       "\n",
       "[5 rows x 39 columns]"
      ]
     },
     "execution_count": 317,
     "metadata": {},
     "output_type": "execute_result"
    }
   ],
   "source": [
    "housing = housing.reset_index()\n",
    "housing.head()"
   ]
  },
  {
   "cell_type": "code",
   "execution_count": 318,
   "id": "3cdaebe8",
   "metadata": {},
   "outputs": [],
   "source": [
    "housing_cens = housing.merge(income, on='index',how='left')"
   ]
  },
  {
   "cell_type": "code",
   "execution_count": 320,
   "id": "c2067e21",
   "metadata": {
    "scrolled": true
   },
   "outputs": [
    {
     "name": "stdout",
     "output_type": "stream",
     "text": [
      "(2480, 39)\n",
      "(2480, 41)\n",
      "Index(['index', 'PID', 'GrLivArea', 'SalePrice', 'MSSubClass', 'MSZoning',\n",
      "       'LotFrontage', 'LotArea', 'Street', 'Neighborhood', 'Condition1',\n",
      "       'Condition2', 'BldgType', 'HouseStyle', 'OverallQual', 'OverallCond',\n",
      "       'YearBuilt', 'YearRemodAdd', 'BsmtUnfSF', 'TotalBsmtSF', '1stFlrSF',\n",
      "       '2ndFlrSF', 'BedroomAbvGr', 'KitchenQual', 'TotRmsAbvGrd', 'Fireplaces',\n",
      "       'GarageArea', 'MiscVal', 'MoSold', 'YrSold', 'bathrm_cnt', 'patioSF',\n",
      "       'Prop_Addr', 'Full_Adr', 'gcode', 'lat', 'long', 'dist', 'zip', 'tract',\n",
      "       'income'],\n",
      "      dtype='object')\n"
     ]
    },
    {
     "data": {
      "text/plain": [
       "Index(['PID', 'GrLivArea', 'SalePrice', 'MSSubClass', 'MSZoning',\n",
       "       'LotFrontage', 'LotArea', 'Street', 'Neighborhood', 'Condition1',\n",
       "       'Condition2', 'BldgType', 'HouseStyle', 'OverallQual', 'OverallCond',\n",
       "       'YearBuilt', 'YearRemodAdd', 'BsmtUnfSF', 'TotalBsmtSF', '1stFlrSF',\n",
       "       '2ndFlrSF', 'BedroomAbvGr', 'KitchenQual', 'TotRmsAbvGrd', 'Fireplaces',\n",
       "       'GarageArea', 'MiscVal', 'MoSold', 'YrSold', 'bathrm_cnt', 'patioSF',\n",
       "       'Prop_Addr', 'Full_Adr', 'gcode', 'lat', 'long', 'dist', 'zip', 'tract',\n",
       "       'income'],\n",
       "      dtype='object')"
      ]
     },
     "execution_count": 320,
     "metadata": {},
     "output_type": "execute_result"
    }
   ],
   "source": [
    "print(housing.shape)\n",
    "\n",
    "\n",
    "print(housing_cens.shape)\n",
    "\n",
    "print(housing_cens.columns)\n",
    "coldrop=['index']\n",
    "\n",
    "housing_cens = housing_cens.drop(coldrop, axis = 1, inplace = False)\n",
    "\n",
    "housing_cens.columns\n"
   ]
  },
  {
   "cell_type": "code",
   "execution_count": 324,
   "id": "be7b0190",
   "metadata": {
    "scrolled": true
   },
   "outputs": [
    {
     "data": {
      "text/plain": [
       "87"
      ]
     },
     "execution_count": 324,
     "metadata": {},
     "output_type": "execute_result"
    },
    {
     "data": {
      "image/png": "[encoded data removed]",
      "text/plain": [
       "<Figure size 432x288 with 1 Axes>"
      ]
     },
     "metadata": {},
     "output_type": "display_data"
    }
   ],
   "source": [
    "hs_na = housing_cens.isna().sum()\n",
    "hs_na.plot.bar()\n",
    "\n",
    "\n",
    "missingRows = pd.isnull(housing_cens.income)\n",
    "missingRows\n",
    "missingRows.sum()\n",
    "#housing = housing[~missingRows]"
   ]
  },
  {
   "cell_type": "code",
   "execution_count": 325,
   "id": "27eb2c05",
   "metadata": {},
   "outputs": [],
   "source": [
    "housing_cens.to_csv('ML_housing_price/data/housing_cens.csv')"
   ]
  },
  {
   "cell_type": "code",
   "execution_count": null,
   "id": "6f8a50ad",
   "metadata": {},
   "outputs": [],
   "source": []
  },
  {
   "cell_type": "markdown",
   "id": "a80c8564",
   "metadata": {},
   "source": [
    "# SPLIT DATA "
   ]
  },
  {
   "cell_type": "code",
   "execution_count": 104,
   "id": "a985b8b6",
   "metadata": {},
   "outputs": [],
   "source": [
    "from sklearn.model_selection import train_test_split\n",
    "train_set, test_set = train_test_split(housing, test_size = 0.2)"
   ]
  },
  {
   "cell_type": "code",
   "execution_count": 105,
   "id": "15be740b",
   "metadata": {},
   "outputs": [
    {
     "name": "stdout",
     "output_type": "stream",
     "text": [
      "(1984, 39)\n",
      "(496, 39)\n"
     ]
    }
   ],
   "source": [
    "print(train_set.shape)\n",
    "print(test_set.shape)\n",
    "\n"
   ]
  },
  {
   "cell_type": "code",
   "execution_count": 106,
   "id": "50a6e946",
   "metadata": {},
   "outputs": [],
   "source": [
    "train_set.to_csv('ML_housing_price/data/train_set.csv')"
   ]
  },
  {
   "cell_type": "code",
   "execution_count": 107,
   "id": "d8d17841",
   "metadata": {},
   "outputs": [],
   "source": [
    "test_set.to_csv('ML_housing_price/data/test_set.csv')"
   ]
  }
 ],
 "metadata": {
  "kernelspec": {
   "display_name": "Python 3",
   "language": "python",
   "name": "python3"
  },
  "language_info": {
   "codemirror_mode": {
    "name": "ipython",
    "version": 3
   },
   "file_extension": ".py",
   "mimetype": "text/x-python",
   "name": "python",
   "nbconvert_exporter": "python",
   "pygments_lexer": "ipython3",
   "version": "3.8.8"
  }
 },
 "nbformat": 4,
 "nbformat_minor": 5
}
